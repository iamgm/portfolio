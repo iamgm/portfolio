{
 "cells": [
  {
   "cell_type": "markdown",
   "id": "a3d64dac",
   "metadata": {
    "id": "a3d64dac"
   },
   "source": [
    "# Анализ пользовательского поведения и поиск точек роста в сервисе доставки еды\n",
    "\n",
    "## Краткое резюме\n",
    "\n",
    "- **Контекст:** Анализируется сервис доставки еды, который столкнулся с усилением конкуренции и необходимостью поиска  \n",
    "новых точек роста.\n",
    "- **Поведение пользователей (Воронка):** Обнаружена критическая проблема в воронке — падение конверсии на 45% на этапе  \n",
    "подтверждения телефона в мобильной версии. Решение этой проблемы потенциально может увеличить количество заказов на 50%.\n",
    "- **Сегменты клиентов (RFM-анализ):**\n",
    "    - **Массовый сегмент (212, 311):** Около 60% клиентов совершают покупки редко, что указывает на общую проблему с  \n",
    "    вовлеченностью.\n",
    "    - **Крупные \"спящие\" клиенты (113):** Крупный сегмент (28.3%) с высоким чеком, который давно не возвращался. Это  \n",
    "    главная точка роста LTV, но и самый высокий риск - многие клиенты могут быть потеряны безвозвратно.\n",
    "    - **Лояльное ядро (<1%):** Небольшие, но самые ценные сегменты (233, 223, 133), ключевые для удержания.\n",
    "-  **Сегменты партнеров (K-Means кластеризация):** Определен самый прибыльный сегмент ресторанов (широкий ассортимент,  \n",
    "высокий объем заказов), на котором бизнесу следует сфокусироваться.\n",
    "\n",
    "## Бизнес-задача\n",
    "Провести комплексный анализ данных для ответа на три ключевых вопроса бизнеса:\n",
    "1.  **Пользователи:** Как ведут себя пользователи и как повысить их удержание (retention)?\n",
    "2.  **Продукт:** Какой путь проходят пользователи в приложении и где находятся \"узкие места\" воронки?\n",
    "3.  **Партнеры:** Как можно улучшить взаимодействие с ресторанами-партнерами?\n",
    "\n",
    "\n",
    "## Этапы работы\n",
    "1. Загрузка и предобработка данных\n",
    "    - 1.1. Первичный анализ и структура данных\n",
    "    - 1.2. Анализ пропусков\n",
    "    - 1.3. Преобразование типов данных\n",
    "    - 1.4. Проверка на дубликаты\n",
    "2. Анализ пользовательского пути\n",
    "    - 2.1. Общая воронка конверсии\n",
    "    - 2.2. Сравнение воронок по платформам (Mobile vs Desktop)\n",
    "3. RFM-сегментация пользователей\n",
    "    - 3.1. Расчет RFM-метрик (Recency, Frequency, Monetary)\n",
    "    - 3.2. Анализ и интерпретация RFM-сегментов\n",
    "4. K-Means кластеризация ресторанов\n",
    "    - 4.1. Подготовка признаков для кластеризации\n",
    "    - 4.2. Определение оптимального числа кластеров (Метод локтя)\n",
    "    - 4.3. Анализ и интерпретация кластеров\n",
    "5. Итоговые выводы и рекомендации\n",
    "\n",
    "### Данные\n",
    "Анализ проведен на данных, включающих информацию о визитах, событиях, заказах и ресторанах. \n",
    "\n",
    "| Поле         | Описание                      |\n",
    "|--------------|-------------------------------|\n",
    "| `visitor_uuid` | ID анонимного посетителя      |\n",
    "| `user_id`      | ID зарегистрированного пользователя |\n",
    "| `device_type`  | Тип устройства (платформа)    |\n",
    "| `city_id`      | ID города                    |\n",
    "| `source`      | Рекламный источник           |\n",
    "| `first_date`  | Дата первого визита          |\n",
    "| `visit_id`    | ID сессии                   |\n",
    "| `event`      | Название события            |\n",
    "| `datetime`   | Дата и время события        |\n",
    "| `rest_id`    | ID ресторана                |\n",
    "| `object_id`  | ID блюда                   |\n",
    "| `order_id`   | ID заказа                  |\n",
    "| `revenue`   | Выручка от заказа (в рублях) |\n",
    "| `delivery`  | Стоимость доставки (в рублях) |\n",
    "| `commission` | Комиссия сервиса (в процентах) |\n"
   ]
  },
  {
   "cell_type": "code",
   "execution_count": 1,
   "id": "e51ecbce",
   "metadata": {},
   "outputs": [
    {
     "name": "stdout",
     "output_type": "stream",
     "text": [
      "Note: you may need to restart the kernel to use updated packages.\n"
     ]
    }
   ],
   "source": [
    "# Устанавливаем необходимые библиотеки \n",
    "%pip install pandas numpy scikit-learn matplotlib seaborn ipython tabulate -q -U"
   ]
  },
  {
   "cell_type": "code",
   "execution_count": 20,
   "id": "0eea7a9b",
   "metadata": {},
   "outputs": [],
   "source": [
    "# Импортируем библиотеки\n",
    "\n",
    "# Работа с данными\n",
    "import pandas as pd\n",
    "import numpy as np\n",
    "\n",
    "# ML (KMeans и нормализация признаков)\n",
    "from sklearn.cluster import KMeans\n",
    "from sklearn.preprocessing import StandardScaler \n",
    "\n",
    "# Визуализации\n",
    "import matplotlib.pyplot as plt\n",
    "# import matplotlib.dates as mdates\n",
    "# import matplotlib.colors as mcolors\n",
    "# import seaborn as sns\n",
    "\n",
    "# Вспомогательные импорты\n",
    "from IPython.display import Markdown, display, HTML\n",
    "import io\n",
    "\n",
    "\n",
    "# Пока не нужно\n",
    "# import IPython\n",
    "# import scipy.stats as st\n",
    "# from statsmodels.stats.proportion import proportions_ztest\n",
    "# from matplotlib_venn import venn2\n"
   ]
  },
  {
   "cell_type": "code",
   "execution_count": null,
   "id": "406b309b",
   "metadata": {},
   "outputs": [
    {
     "data": {
      "text/html": [
       "<style>.output_area{max-height: none !important;}\n",
       "             h1{color:#D14D41;}h2{color:#DA702C;}h3{color:#D0A215;}\n",
       "             h4{color:#879A39;}h5{color:#3AA99F;}h6{color:#4385BE;}\n",
       "             </style>"
      ],
      "text/plain": [
       "<IPython.core.display.HTML object>"
      ]
     },
     "metadata": {},
     "output_type": "display_data"
    }
   ],
   "source": [
    "#-----------------------------------------------------------------------------\n",
    "# Стили и настройки форматирования \n",
    "#-----------------------------------------------------------------------------\n",
    "# цвета заголовков\n",
    "display(HTML(\"\"\"<style>.output_area{max-height: none !important;}\n",
    "             h1{color:#D14D41;}h2{color:#DA702C;}h3{color:#D0A215;}\n",
    "             h4{color:#879A39;}h5{color:#3AA99F;}h6{color:#4385BE;}\n",
    "             </style>\"\"\"))\n",
    "\n",
    "# палитра для визуализаций\n",
    "pal = [\n",
    "    '#C9495E',  '#50C2E5', '#38A86F',  '#D466A0', \n",
    "    \"#956BBE\",  \"#0B8C9E\", \"#EAD38C\",  '#17BECF'\n",
    "] \n",
    "\n",
    "\n",
    "#-----------------------------------------------------------------------------\n",
    "# Полезные функции\n",
    "#-----------------------------------------------------------------------------\n",
    "\n",
    "# ------------------------------------------------------------------------------\n",
    "# Расширенная информация о данных\n",
    "# выводит процент нулей, чтобы не прикидывать в уме сколько там нулей? \n",
    "# 4.73% или 8.19%?🤔 Это уже достаточно много чтобы не игнорировать или еще нет?\n",
    "def extended_info(df):\n",
    "    buf = io.StringIO()\n",
    "    df.info(buf=buf)\n",
    "    info_lines = buf.getvalue().splitlines()\n",
    "    rn = info_lines[1].split()[1] # rows number\n",
    "    \n",
    "    cols = ['Name',  'Non-Null', 'Null', 'Null share', 'Dtype']\n",
    "\n",
    "    data = [\n",
    "        [' '.join(x[1:-3]), x[-3], int(rn) - int(x[-3]), \n",
    "         f'{round((int(rn) - int(x[-3]))*100 / int(rn) , 2)}%',  x[-1]]\n",
    "        for row in info_lines[5:-2]\n",
    "        for x in [row.split()]\n",
    "    ]\n",
    "    \n",
    "    meta = [\n",
    "        [f'**{x[0]}**', f'**{x[1]}**'] + ['']*(len(cols)-2) \n",
    "        for row  in info_lines[-2:] \n",
    "        for x  in [row.split(': ')]\n",
    "    ]\n",
    "    \n",
    "    data += meta\n",
    "    return Markdown(pd.DataFrame(data, columns=cols).to_markdown())\n",
    "\n",
    "# ------------------------------------------------------------------------------\n",
    "# уникальные значения категориальных признаков\n",
    "# решает проблему неявного дублирования данных. \n",
    "# - Пример вывели уники в поле город   \n",
    "#     Санкт-Петербург  \n",
    "#     Санкт Петербург (без дефиса)  \n",
    "#     Санкт-Петербуг (опечатка)  \n",
    "#     СПб (аббревиатура)  \n",
    "# - сразу видно что есть неявные дубликаты  \n",
    "# - **удобно**: ввел все кат. столбцы - получил на выходе уникальные значения \n",
    "# **сразу по ВСЕМ столбцам в одной таблице**\n",
    "def get_df_unique_values(df, cols=None, row_count=20, _sorted=True):\n",
    "    new_cols = dict()\n",
    "    \n",
    "    if cols is None:\n",
    "        cols = df.columns.tolist()\n",
    "    \n",
    "    for col in cols:\n",
    "        u_vals = sorted(df[col].unique()) if _sorted else df[col].unique()\n",
    "        \n",
    "        if len(u_vals) > row_count:\n",
    "            for i in range(0, len(u_vals), row_count):\n",
    "                col_name = f\"{col}_{i // row_count + 1}\"  \n",
    "                \n",
    "                chnk = pd.Series(u_vals[i:i + row_count]).reset_index(drop=True)\n",
    "                padded = chnk.reindex(range(row_count), fill_value='')\n",
    "                \n",
    "                new_cols[col_name] = padded\n",
    "        else:\n",
    "            padded = pd.Series(u_vals).reindex(range(row_count), fill_value='')\n",
    "            new_cols[col] = padded.reset_index(drop=True)\n",
    "            \n",
    "    new_df = pd.DataFrame(new_cols)\n",
    "    return new_df\n",
    "\n"
   ]
  },
  {
   "cell_type": "markdown",
   "id": "cd31b396",
   "metadata": {
    "id": "cd31b396"
   },
   "source": [
    "## 1. Загрузка и предобработка данных\n",
    "\n",
    "> Загрузка данных\n",
    "> \n",
    "> Исходные данные были загружены из CSV-файла:  \n",
    "> insides_data.csv  \n",
    "> и сохранены в словарь в переменную data  \n",
    "> \n",
    "> ⚠️Примечание: в соответствии с политикой конфиденциальности, код загрузки и сами файлы данных удалены из публичной версии проекта"
   ]
  },
  {
   "cell_type": "code",
   "execution_count": null,
   "id": "95c67de5",
   "metadata": {
    "scrolled": false
   },
   "outputs": [
    {
     "data": {
      "text/markdown": [
       "#### insides_data.csv"
      ],
      "text/plain": [
       "<IPython.core.display.Markdown object>"
      ]
     },
     "metadata": {},
     "output_type": "display_data"
    },
    {
     "data": {
      "text/markdown": [
       "|    | Name             | Non-Null                                               | Null   | Null share   | Dtype          |\n",
       "|---:|:-----------------|:-------------------------------------------------------|:-------|:-------------|:---------------|\n",
       "|  0 | visitor_uuid     | 205510                                                 | 0      | 0.0%         | object         |\n",
       "|  1 | user_id          | 205510                                                 | 0      | 0.0%         | float64        |\n",
       "|  2 | device_type      | 205510                                                 | 0      | 0.0%         | object         |\n",
       "|  3 | city_id          | 205510                                                 | 0      | 0.0%         | int64          |\n",
       "|  4 | source           | 205510                                                 | 0      | 0.0%         | object         |\n",
       "|  5 | first_date       | 205510                                                 | 0      | 0.0%         | object         |\n",
       "|  6 | visit_id         | 205510                                                 | 0      | 0.0%         | int64          |\n",
       "|  7 | event            | 205510                                                 | 0      | 0.0%         | object         |\n",
       "|  8 | datetime         | 205510                                                 | 0      | 0.0%         | datetime64[ns] |\n",
       "|  9 | rest_id          | 166915                                                 | 38595  | 18.78%       | object         |\n",
       "| 10 | object_id        | 21308                                                  | 184202 | 89.63%       | float64        |\n",
       "| 11 | order_id         | 7008                                                   | 198502 | 96.59%       | float64        |\n",
       "| 12 | revenue          | 7008                                                   | 198502 | 96.59%       | float64        |\n",
       "| 13 | delivery         | 7008                                                   | 198502 | 96.59%       | float64        |\n",
       "| 14 | commission       | 21308                                                  | 184202 | 89.63%       | float64        |\n",
       "| 15 | **dtypes**       | **datetime64[ns](1), float64(6), int64(2), object(6)** |        |              |                |\n",
       "| 16 | **memory usage** | **23.5+ MB**                                           |        |              |                |"
      ],
      "text/plain": [
       "<IPython.core.display.Markdown object>"
      ]
     },
     "metadata": {},
     "output_type": "display_data"
    },
    {
     "data": {
      "application/vnd.microsoft.datawrangler.viewer.v0+json": {
       "columns": [
        {
         "name": "index",
         "rawType": "int64",
         "type": "integer"
        },
        {
         "name": "visitor_uuid",
         "rawType": "object",
         "type": "string"
        },
        {
         "name": "user_id",
         "rawType": "float64",
         "type": "float"
        },
        {
         "name": "device_type",
         "rawType": "object",
         "type": "string"
        },
        {
         "name": "city_id",
         "rawType": "int64",
         "type": "integer"
        },
        {
         "name": "source",
         "rawType": "object",
         "type": "string"
        },
        {
         "name": "first_date",
         "rawType": "object",
         "type": "string"
        },
        {
         "name": "visit_id",
         "rawType": "int64",
         "type": "integer"
        },
        {
         "name": "event",
         "rawType": "object",
         "type": "string"
        },
        {
         "name": "datetime",
         "rawType": "datetime64[ns]",
         "type": "datetime"
        },
        {
         "name": "rest_id",
         "rawType": "object",
         "type": "unknown"
        },
        {
         "name": "object_id",
         "rawType": "float64",
         "type": "float"
        },
        {
         "name": "order_id",
         "rawType": "float64",
         "type": "float"
        },
        {
         "name": "revenue",
         "rawType": "float64",
         "type": "float"
        },
        {
         "name": "delivery",
         "rawType": "float64",
         "type": "float"
        },
        {
         "name": "commission",
         "rawType": "float64",
         "type": "float"
        }
       ],
       "ref": "b52a4183-58f0-4e4f-a220-b2a68e994f6c",
       "rows": [
        [
         "0",
         "01b5da38-3022-48ff-87c0-5519247fef1b",
         "567317.0",
         "Desktop",
         "6",
         "Source_B",
         "2021-05-01",
         "171481813",
         "authorization",
         "2021-05-01 16:07:53",
         null,
         null,
         null,
         null,
         null,
         null
        ],
        [
         "1",
         "01b5da38-3022-48ff-87c0-5519247fef1b",
         "567317.0",
         "Desktop",
         "6",
         "Source_B",
         "2021-05-01",
         "171481813",
         "reg_page",
         "2021-05-01 16:09:16",
         null,
         null,
         null,
         null,
         null,
         null
        ],
        [
         "2",
         "01b5da38-3022-48ff-87c0-5519247fef1b",
         "567317.0",
         "Desktop",
         "6",
         "Source_B",
         "2021-05-01",
         "171481813",
         "confirm_phone",
         "2021-05-01 16:09:19",
         null,
         null,
         null,
         null,
         null,
         null
        ],
        [
         "3",
         "01b5da38-3022-48ff-87c0-5519247fef1b",
         "567317.0",
         "Desktop",
         "6",
         "Source_B",
         "2021-05-01",
         "171481813",
         "login",
         "2021-05-01 16:09:23",
         null,
         null,
         null,
         null,
         null,
         null
        ],
        [
         "4",
         "01b5da38-3022-48ff-87c0-5519247fef1b",
         "567317.0",
         "Desktop",
         "6",
         "Source_B",
         "2021-05-01",
         "171481813",
         "main_page",
         "2021-05-01 16:09:34",
         "2c6095730b514c189ee41c65f03febc3",
         null,
         null,
         null,
         null,
         null
        ]
       ],
       "shape": {
        "columns": 15,
        "rows": 5
       }
      },
      "text/html": [
       "<div>\n",
       "<style scoped>\n",
       "    .dataframe tbody tr th:only-of-type {\n",
       "        vertical-align: middle;\n",
       "    }\n",
       "\n",
       "    .dataframe tbody tr th {\n",
       "        vertical-align: top;\n",
       "    }\n",
       "\n",
       "    .dataframe thead th {\n",
       "        text-align: right;\n",
       "    }\n",
       "</style>\n",
       "<table border=\"1\" class=\"dataframe\">\n",
       "  <thead>\n",
       "    <tr style=\"text-align: right;\">\n",
       "      <th></th>\n",
       "      <th>visitor_uuid</th>\n",
       "      <th>user_id</th>\n",
       "      <th>device_type</th>\n",
       "      <th>city_id</th>\n",
       "      <th>source</th>\n",
       "      <th>first_date</th>\n",
       "      <th>visit_id</th>\n",
       "      <th>event</th>\n",
       "      <th>datetime</th>\n",
       "      <th>rest_id</th>\n",
       "      <th>object_id</th>\n",
       "      <th>order_id</th>\n",
       "      <th>revenue</th>\n",
       "      <th>delivery</th>\n",
       "      <th>commission</th>\n",
       "    </tr>\n",
       "  </thead>\n",
       "  <tbody>\n",
       "    <tr>\n",
       "      <th>0</th>\n",
       "      <td>01b5da38-3022-48ff-87c0-5519247fef1b</td>\n",
       "      <td>567317.0</td>\n",
       "      <td>Desktop</td>\n",
       "      <td>6</td>\n",
       "      <td>Source_B</td>\n",
       "      <td>2021-05-01</td>\n",
       "      <td>171481813</td>\n",
       "      <td>authorization</td>\n",
       "      <td>2021-05-01 16:07:53</td>\n",
       "      <td>NaN</td>\n",
       "      <td>NaN</td>\n",
       "      <td>NaN</td>\n",
       "      <td>NaN</td>\n",
       "      <td>NaN</td>\n",
       "      <td>NaN</td>\n",
       "    </tr>\n",
       "    <tr>\n",
       "      <th>1</th>\n",
       "      <td>01b5da38-3022-48ff-87c0-5519247fef1b</td>\n",
       "      <td>567317.0</td>\n",
       "      <td>Desktop</td>\n",
       "      <td>6</td>\n",
       "      <td>Source_B</td>\n",
       "      <td>2021-05-01</td>\n",
       "      <td>171481813</td>\n",
       "      <td>reg_page</td>\n",
       "      <td>2021-05-01 16:09:16</td>\n",
       "      <td>NaN</td>\n",
       "      <td>NaN</td>\n",
       "      <td>NaN</td>\n",
       "      <td>NaN</td>\n",
       "      <td>NaN</td>\n",
       "      <td>NaN</td>\n",
       "    </tr>\n",
       "    <tr>\n",
       "      <th>2</th>\n",
       "      <td>01b5da38-3022-48ff-87c0-5519247fef1b</td>\n",
       "      <td>567317.0</td>\n",
       "      <td>Desktop</td>\n",
       "      <td>6</td>\n",
       "      <td>Source_B</td>\n",
       "      <td>2021-05-01</td>\n",
       "      <td>171481813</td>\n",
       "      <td>confirm_phone</td>\n",
       "      <td>2021-05-01 16:09:19</td>\n",
       "      <td>NaN</td>\n",
       "      <td>NaN</td>\n",
       "      <td>NaN</td>\n",
       "      <td>NaN</td>\n",
       "      <td>NaN</td>\n",
       "      <td>NaN</td>\n",
       "    </tr>\n",
       "    <tr>\n",
       "      <th>3</th>\n",
       "      <td>01b5da38-3022-48ff-87c0-5519247fef1b</td>\n",
       "      <td>567317.0</td>\n",
       "      <td>Desktop</td>\n",
       "      <td>6</td>\n",
       "      <td>Source_B</td>\n",
       "      <td>2021-05-01</td>\n",
       "      <td>171481813</td>\n",
       "      <td>login</td>\n",
       "      <td>2021-05-01 16:09:23</td>\n",
       "      <td>NaN</td>\n",
       "      <td>NaN</td>\n",
       "      <td>NaN</td>\n",
       "      <td>NaN</td>\n",
       "      <td>NaN</td>\n",
       "      <td>NaN</td>\n",
       "    </tr>\n",
       "    <tr>\n",
       "      <th>4</th>\n",
       "      <td>01b5da38-3022-48ff-87c0-5519247fef1b</td>\n",
       "      <td>567317.0</td>\n",
       "      <td>Desktop</td>\n",
       "      <td>6</td>\n",
       "      <td>Source_B</td>\n",
       "      <td>2021-05-01</td>\n",
       "      <td>171481813</td>\n",
       "      <td>main_page</td>\n",
       "      <td>2021-05-01 16:09:34</td>\n",
       "      <td>2c6095730b514c189ee41c65f03febc3</td>\n",
       "      <td>NaN</td>\n",
       "      <td>NaN</td>\n",
       "      <td>NaN</td>\n",
       "      <td>NaN</td>\n",
       "      <td>NaN</td>\n",
       "    </tr>\n",
       "  </tbody>\n",
       "</table>\n",
       "</div>"
      ],
      "text/plain": [
       "                           visitor_uuid   user_id device_type  city_id  \\\n",
       "0  01b5da38-3022-48ff-87c0-5519247fef1b  567317.0     Desktop        6   \n",
       "1  01b5da38-3022-48ff-87c0-5519247fef1b  567317.0     Desktop        6   \n",
       "2  01b5da38-3022-48ff-87c0-5519247fef1b  567317.0     Desktop        6   \n",
       "3  01b5da38-3022-48ff-87c0-5519247fef1b  567317.0     Desktop        6   \n",
       "4  01b5da38-3022-48ff-87c0-5519247fef1b  567317.0     Desktop        6   \n",
       "\n",
       "     source  first_date   visit_id          event            datetime  \\\n",
       "0  Source_B  2021-05-01  171481813  authorization 2021-05-01 16:07:53   \n",
       "1  Source_B  2021-05-01  171481813       reg_page 2021-05-01 16:09:16   \n",
       "2  Source_B  2021-05-01  171481813  confirm_phone 2021-05-01 16:09:19   \n",
       "3  Source_B  2021-05-01  171481813          login 2021-05-01 16:09:23   \n",
       "4  Source_B  2021-05-01  171481813      main_page 2021-05-01 16:09:34   \n",
       "\n",
       "                            rest_id  object_id  order_id  revenue  delivery  \\\n",
       "0                               NaN        NaN       NaN      NaN       NaN   \n",
       "1                               NaN        NaN       NaN      NaN       NaN   \n",
       "2                               NaN        NaN       NaN      NaN       NaN   \n",
       "3                               NaN        NaN       NaN      NaN       NaN   \n",
       "4  2c6095730b514c189ee41c65f03febc3        NaN       NaN      NaN       NaN   \n",
       "\n",
       "   commission  \n",
       "0         NaN  \n",
       "1         NaN  \n",
       "2         NaN  \n",
       "3         NaN  \n",
       "4         NaN  "
      ]
     },
     "metadata": {},
     "output_type": "display_data"
    }
   ],
   "source": [
    "# Выводим расширенную информацию о данных\n",
    "display(Markdown(f'#### insides_data.csv'))\n",
    "display(extended_info(data))\n",
    "display(data.head())"
   ]
  },
  {
   "cell_type": "markdown",
   "id": "f058c579",
   "metadata": {},
   "source": [
    "### 1.1. Первичный анализ и структура данных\n",
    "- всего 205510 строк\n",
    "- поля `object_id`, `order_id`, `revenue`, `delivery`, `commission` - пропуски 90-97%\n",
    "- поле `rest_id` - 18.78% пропусков\n",
    "- `user_id`, `object_id`, `order_id` - имеют некорректный тип `float` и требуют преобразования в `Int64` (целочисленный  \n",
    "с поддержкой пропусков).`"
   ]
  },
  {
   "cell_type": "code",
   "execution_count": 5,
   "id": "c18f9a14",
   "metadata": {},
   "outputs": [
    {
     "data": {
      "text/markdown": [
       "| event         |   rest_id |   object_id |   order_id |   revenue |   delivery |   commission |\n",
       "|:--------------|----------:|------------:|-----------:|----------:|-----------:|-------------:|\n",
       "| add_to_cart   |         0 |           0 |       2168 |      2168 |       2168 |            0 |\n",
       "| authorization |      9983 |        9983 |       9983 |      9983 |       9983 |         9983 |\n",
       "| confirm_phone |      4347 |        4347 |       4347 |      4347 |       4347 |         4347 |\n",
       "| login         |     18581 |       18581 |      18581 |     18581 |      18581 |        18581 |\n",
       "| main_page     |         0 |      145607 |     145607 |    145607 |     145607 |       145607 |\n",
       "| object_page   |         0 |           0 |      12132 |     12132 |      12132 |            0 |\n",
       "| order         |         0 |           0 |          0 |         0 |          0 |            0 |\n",
       "| reg_page      |      5684 |        5684 |       5684 |      5684 |       5684 |         5684 |"
      ],
      "text/plain": [
       "<IPython.core.display.Markdown object>"
      ]
     },
     "metadata": {},
     "output_type": "display_data"
    }
   ],
   "source": [
    "# Выведем нули по событиям\n",
    "nulls = data.isnull().groupby(data['event'])[['rest_id', 'object_id', \n",
    "                                              'order_id', 'revenue', \n",
    "                                              'delivery', 'commission']].sum()\n",
    "display(Markdown(nulls.to_markdown()))"
   ]
  },
  {
   "cell_type": "markdown",
   "id": "1956a898",
   "metadata": {},
   "source": [
    "### 1.2. Анализ пропусков\n",
    "- **add_to_cart, object_page**\n",
    "  - присутствуют rest_id, object_id и commission - ресторан, блюдо и комиссия\n",
    "  - отсутствуют order_id, revenue, delivery - **заказ ещё не оформлен** значит это нормально.\n",
    "- **authorization, login, reg_page, confirm_phone**\n",
    "  - полностью пропущены - исключительно пользовательские события\n",
    "- **order** - полные данные - это завершённые заказы\n",
    "- **main_page, reg_page** - полностью пропущены (за искл. rest_id для main_page) - это нормально. На этих страницах не  \n",
    "нужна информация о заказах, выручке и всем остальном.\n",
    "\n",
    "**Таким образом все пропуски в данных объясняются особенностью организации хранения данных.**"
   ]
  },
  {
   "cell_type": "markdown",
   "id": "28aec26a",
   "metadata": {},
   "source": [
    "### 1.3. Преобразование типов данных"
   ]
  },
  {
   "cell_type": "code",
   "execution_count": 6,
   "id": "7248d04e",
   "metadata": {},
   "outputs": [
    {
     "data": {
      "text/plain": [
       "'Было:'"
      ]
     },
     "metadata": {},
     "output_type": "display_data"
    },
    {
     "data": {
      "application/vnd.microsoft.datawrangler.viewer.v0+json": {
       "columns": [
        {
         "name": "index",
         "rawType": "object",
         "type": "string"
        },
        {
         "name": "0",
         "rawType": "object",
         "type": "unknown"
        }
       ],
       "ref": "a5fbf9b0-bbe5-4bae-a4f1-1fc31ff45b45",
       "rows": [
        [
         "user_id",
         "float64"
        ],
        [
         "object_id",
         "float64"
        ],
        [
         "order_id",
         "float64"
        ]
       ],
       "shape": {
        "columns": 1,
        "rows": 3
       }
      },
      "text/plain": [
       "user_id      float64\n",
       "object_id    float64\n",
       "order_id     float64\n",
       "dtype: object"
      ]
     },
     "metadata": {},
     "output_type": "display_data"
    },
    {
     "data": {
      "text/plain": [
       "'Стало:'"
      ]
     },
     "metadata": {},
     "output_type": "display_data"
    },
    {
     "data": {
      "application/vnd.microsoft.datawrangler.viewer.v0+json": {
       "columns": [
        {
         "name": "index",
         "rawType": "object",
         "type": "string"
        },
        {
         "name": "0",
         "rawType": "object",
         "type": "unknown"
        }
       ],
       "ref": "d3632328-3424-4baf-aa0f-b8c226ef3145",
       "rows": [
        [
         "user_id",
         "Int64"
        ],
        [
         "object_id",
         "Int64"
        ],
        [
         "order_id",
         "Int64"
        ]
       ],
       "shape": {
        "columns": 1,
        "rows": 3
       }
      },
      "text/plain": [
       "user_id      Int64\n",
       "object_id    Int64\n",
       "order_id     Int64\n",
       "dtype: object"
      ]
     },
     "metadata": {},
     "output_type": "display_data"
    }
   ],
   "source": [
    "# Преобразуем идентификаторы в Int64 (может содержать NaN)\n",
    "wrong_types = ['user_id', 'object_id', 'order_id']\n",
    "display('Было:',  data[wrong_types].dtypes)\n",
    "data[wrong_types] = data[wrong_types].astype('Int64')\n",
    "display('Стало:',  data[wrong_types].dtypes)"
   ]
  },
  {
   "cell_type": "markdown",
   "id": "e00ce5cd",
   "metadata": {},
   "source": [
    "### 1.4. Проверка на дубликаты"
   ]
  },
  {
   "cell_type": "code",
   "execution_count": 7,
   "id": "4de6e59f",
   "metadata": {},
   "outputs": [
    {
     "name": "stdout",
     "output_type": "stream",
     "text": [
      "Количество явных дубликатов: 0\n",
      "Количество неявных дубликатов: 7\n",
      "Уникальные значения категориальных признаков\n"
     ]
    },
    {
     "data": {
      "application/vnd.microsoft.datawrangler.viewer.v0+json": {
       "columns": [
        {
         "name": "index",
         "rawType": "int64",
         "type": "integer"
        },
        {
         "name": "device_type",
         "rawType": "object",
         "type": "string"
        },
        {
         "name": "source",
         "rawType": "object",
         "type": "string"
        },
        {
         "name": "event",
         "rawType": "object",
         "type": "string"
        },
        {
         "name": "commission",
         "rawType": "object",
         "type": "unknown"
        }
       ],
       "ref": "f65bd566-f305-47d4-a2a3-f9f9783159f3",
       "rows": [
        [
         "0",
         "Desktop",
         "Source_A",
         "add_to_cart",
         null
        ],
        [
         "1",
         "Mobile",
         "Source_B",
         "authorization",
         "0.04"
        ],
        [
         "2",
         "",
         "Source_C",
         "confirm_phone",
         "0.05"
        ],
        [
         "3",
         "",
         "organic",
         "login",
         "0.06"
        ],
        [
         "4",
         "",
         "",
         "main_page",
         "0.07"
        ],
        [
         "5",
         "",
         "",
         "object_page",
         "0.08"
        ],
        [
         "6",
         "",
         "",
         "order",
         "0.11"
        ],
        [
         "7",
         "",
         "",
         "reg_page",
         ""
        ],
        [
         "8",
         "",
         "",
         "",
         ""
        ],
        [
         "9",
         "",
         "",
         "",
         ""
        ]
       ],
       "shape": {
        "columns": 4,
        "rows": 10
       }
      },
      "text/html": [
       "<div>\n",
       "<style scoped>\n",
       "    .dataframe tbody tr th:only-of-type {\n",
       "        vertical-align: middle;\n",
       "    }\n",
       "\n",
       "    .dataframe tbody tr th {\n",
       "        vertical-align: top;\n",
       "    }\n",
       "\n",
       "    .dataframe thead th {\n",
       "        text-align: right;\n",
       "    }\n",
       "</style>\n",
       "<table border=\"1\" class=\"dataframe\">\n",
       "  <thead>\n",
       "    <tr style=\"text-align: right;\">\n",
       "      <th></th>\n",
       "      <th>device_type</th>\n",
       "      <th>source</th>\n",
       "      <th>event</th>\n",
       "      <th>commission</th>\n",
       "    </tr>\n",
       "  </thead>\n",
       "  <tbody>\n",
       "    <tr>\n",
       "      <th>0</th>\n",
       "      <td>Desktop</td>\n",
       "      <td>Source_A</td>\n",
       "      <td>add_to_cart</td>\n",
       "      <td>NaN</td>\n",
       "    </tr>\n",
       "    <tr>\n",
       "      <th>1</th>\n",
       "      <td>Mobile</td>\n",
       "      <td>Source_B</td>\n",
       "      <td>authorization</td>\n",
       "      <td>0.04</td>\n",
       "    </tr>\n",
       "    <tr>\n",
       "      <th>2</th>\n",
       "      <td></td>\n",
       "      <td>Source_C</td>\n",
       "      <td>confirm_phone</td>\n",
       "      <td>0.05</td>\n",
       "    </tr>\n",
       "    <tr>\n",
       "      <th>3</th>\n",
       "      <td></td>\n",
       "      <td>organic</td>\n",
       "      <td>login</td>\n",
       "      <td>0.06</td>\n",
       "    </tr>\n",
       "    <tr>\n",
       "      <th>4</th>\n",
       "      <td></td>\n",
       "      <td></td>\n",
       "      <td>main_page</td>\n",
       "      <td>0.07</td>\n",
       "    </tr>\n",
       "    <tr>\n",
       "      <th>5</th>\n",
       "      <td></td>\n",
       "      <td></td>\n",
       "      <td>object_page</td>\n",
       "      <td>0.08</td>\n",
       "    </tr>\n",
       "    <tr>\n",
       "      <th>6</th>\n",
       "      <td></td>\n",
       "      <td></td>\n",
       "      <td>order</td>\n",
       "      <td>0.11</td>\n",
       "    </tr>\n",
       "    <tr>\n",
       "      <th>7</th>\n",
       "      <td></td>\n",
       "      <td></td>\n",
       "      <td>reg_page</td>\n",
       "      <td></td>\n",
       "    </tr>\n",
       "    <tr>\n",
       "      <th>8</th>\n",
       "      <td></td>\n",
       "      <td></td>\n",
       "      <td></td>\n",
       "      <td></td>\n",
       "    </tr>\n",
       "    <tr>\n",
       "      <th>9</th>\n",
       "      <td></td>\n",
       "      <td></td>\n",
       "      <td></td>\n",
       "      <td></td>\n",
       "    </tr>\n",
       "  </tbody>\n",
       "</table>\n",
       "</div>"
      ],
      "text/plain": [
       "  device_type    source          event commission\n",
       "0     Desktop  Source_A    add_to_cart        NaN\n",
       "1      Mobile  Source_B  authorization       0.04\n",
       "2              Source_C  confirm_phone       0.05\n",
       "3               organic          login       0.06\n",
       "4                            main_page       0.07\n",
       "5                          object_page       0.08\n",
       "6                                order       0.11\n",
       "7                             reg_page           \n",
       "8                                                \n",
       "9                                                "
      ]
     },
     "execution_count": 7,
     "metadata": {},
     "output_type": "execute_result"
    }
   ],
   "source": [
    "# проверим на наличиие полных (явных) дубликаты\n",
    "explicit_dups = data.duplicated().sum()\n",
    "print(f\"Количество явных дубликатов: {explicit_dups.sum()}\")\n",
    "\n",
    "#  проверим на наличиие неявных дубликатов\n",
    "implicit_dups = data.duplicated(subset=['user_id','datetime','event'])\n",
    "print(f\"Количество неявных дубликатов: {implicit_dups.sum()}\")\n",
    "\n",
    "# проверим написание значений категориальных полей (что нет дублей из-за ошибок написания ) \n",
    "print(\"Уникальные значения категориальных признаков\")\n",
    "get_df_unique_values(data, cols=['device_type','source','event','commission'], row_count=10)\n"
   ]
  },
  {
   "cell_type": "markdown",
   "id": "80c5a2b7",
   "metadata": {},
   "source": [
    "**Обнаружены неявные дубликаты**\n",
    "- всего 7 штук из 205 тыс\n",
    "- просто удалим их"
   ]
  },
  {
   "cell_type": "code",
   "execution_count": 8,
   "id": "2ae06bbb",
   "metadata": {},
   "outputs": [
    {
     "name": "stdout",
     "output_type": "stream",
     "text": [
      "Размер датасета: 205510\n",
      "Количество неявных дубликатов: 0\n",
      "Размер датасета: 205503\n"
     ]
    }
   ],
   "source": [
    "# контроль\n",
    "print(f\"Размер датасета: {data.shape[0]}\")\n",
    "\n",
    "# удаляем\n",
    "data = data[~implicit_dups]\n",
    "\n",
    "#  проверим на наличиие неявных дубликатов\n",
    "implicit_dups = data.duplicated(subset=['user_id','datetime','event'])\n",
    "print(f\"Количество неявных дубликатов: {implicit_dups.sum()}\")\n",
    "print(f\"Размер датасета: {data.shape[0]}\")\n",
    "\n"
   ]
  },
  {
   "cell_type": "markdown",
   "id": "174f36b0",
   "metadata": {},
   "source": [
    "- явных дубликатов нет\n",
    "- было 7 неявных дубликатов - удалены\n",
    "- ошибок написания категориальных признаков нет\n",
    "- есть значение NaN в commission - можно заменить на 0"
   ]
  },
  {
   "cell_type": "code",
   "execution_count": 9,
   "id": "721b69d9",
   "metadata": {},
   "outputs": [
    {
     "name": "stdout",
     "output_type": "stream",
     "text": [
      "NaN в commission заменим на 0\n",
      "Было: [ nan 0.05 0.07 0.04 0.08 0.11 0.06]\n",
      "Стало: [0.   0.05 0.07 0.04 0.08 0.11 0.06]\n"
     ]
    }
   ],
   "source": [
    "print('NaN в commission заменим на 0')\n",
    "print('Было:',  data['commission'].unique())\n",
    "data['commission'] = data['commission'].fillna(0)\n",
    "print('Стало:',  data['commission'].unique())"
   ]
  },
  {
   "cell_type": "markdown",
   "id": "06bd4b4b",
   "metadata": {},
   "source": [
    "**Вывод по предобработке**\n",
    "- все поля имеют удобное для работы написание\n",
    "- пропусков в данных нет\n",
    "- явных дубликатов не найдено\n",
    "- неявных дубликатов не найдено\n",
    "- данные неплохого качества"
   ]
  },
  {
   "cell_type": "markdown",
   "id": "e7c9d578",
   "metadata": {
    "id": "e7c9d578"
   },
   "source": [
    "---\n",
    "\n",
    "## 2. Анализ пользовательского пути"
   ]
  },
  {
   "cell_type": "markdown",
   "id": "f98d0487",
   "metadata": {},
   "source": [
    "### 2.1. Общая воронка конверсии"
   ]
  },
  {
   "cell_type": "code",
   "execution_count": 10,
   "id": "f3d8bcd0",
   "metadata": {},
   "outputs": [
    {
     "data": {
      "image/png": "[encoded data removed]",
      "text/plain": [
       "<Figure size 1600x500 with 2 Axes>"
      ]
     },
     "metadata": {},
     "output_type": "display_data"
    }
   ],
   "source": [
    "# шаги воронки\n",
    "funnel_steps = ['authorization', 'main_page', 'reg_page', 'confirm_phone', \n",
    "                'object_page', 'add_to_cart', 'order']\n",
    "\n",
    "# фильтруем по шагам\n",
    "fun_step_data = data[data['event'].isin(funnel_steps)]\n",
    "\n",
    "# считаем число уникальных пользователей на каждом шаге\n",
    "funnel = fun_step_data.groupby('event')['user_id']\\\n",
    "            .nunique()\\\n",
    "            .reindex(funnel_steps)\\\n",
    "            .reset_index(name='usr_cnt')\\\n",
    "            .rename(columns={'event':'step'})\n",
    "\n",
    "# классич.\n",
    "funnel['cr_from_first'] = funnel.loc[:, 'usr_cnt'] *100 / \\\n",
    "                            funnel.loc[0, 'usr_cnt']\n",
    "\n",
    "# step by step   \n",
    "funnel['cr_from_prev'] = funnel.loc[:, 'usr_cnt'] *100 / \\\n",
    "                            funnel.shift(1).loc[:, 'usr_cnt']\n",
    "\n",
    "# строии графики\n",
    "fig, ax = plt.subplots(1, 2,figsize=(16, 5))\n",
    "for i, (met,title) in enumerate([('cr_from_first', 'Классическая'),\n",
    "                                ('cr_from_prev', 'Step-by-step')]):\n",
    "    bars = ax[i].bar(funnel['step'], funnel[met], color=pal[i+1])\n",
    "    ax[i].set_title(f'Пользовательский путь ({title} воронка)')\n",
    "    ax[i].set_xlabel('Шаг воронки')\n",
    "    ax[i].set_ylabel('Процент пользователей')\n",
    "    ax[i].bar_label(bars, fmt='%.2f', padding=3)\n",
    "    # ax[i].set_ylim(0, 110)\n",
    "    # ax[i].tick_params(axis='x', labelrotation=0)\n",
    "\n",
    "plt.tight_layout()  # корректируем отступы для всей фигуры\n",
    "plt.show()\n"
   ]
  },
  {
   "cell_type": "markdown",
   "id": "5104e1e5",
   "metadata": {},
   "source": [
    "**классическая воронка**\n",
    "- аномалий не наблюдается  - снижение конверсии постепенное, без резких скачков\n",
    "- до покупки доходит 32.6% авторизовавшихся пользователей, что довольно высокий показатель для любого бизнеса\n",
    "\n",
    "\n",
    "**step-by-step воронка** \n",
    "- также не выявила критических аномалий\n",
    "- есть небольшое снижение конверсии из регистрация в подтверждение номера телефона - теряется около 23% пользователей,  \n",
    "при среднем значении около 16%-17%. \n",
    "- стоит обратить внимание на этот шаг `confirm_page` - возможно следует доработать интерфейс, или перенести   \n",
    "подтверждение на более поздний этап"
   ]
  },
  {
   "cell_type": "markdown",
   "id": "cfeaeb13",
   "metadata": {},
   "source": [
    "### 2.2. Сравнение воронок по платформам (Mobile vs Desktop)"
   ]
  },
  {
   "cell_type": "code",
   "execution_count": 11,
   "id": "fdd93c9b",
   "metadata": {},
   "outputs": [
    {
     "data": {
      "image/png": "[encoded data removed]",
      "text/plain": [
       "<Figure size 1400x500 with 2 Axes>"
      ]
     },
     "metadata": {},
     "output_type": "display_data"
    }
   ],
   "source": [
    "funnel_steps = ['authorization', 'main_page', 'reg_page', 'confirm_phone', \n",
    "                'object_page', 'add_to_cart', 'order']\n",
    "\n",
    "# фильтруем по шагам воронки\n",
    "fun_step_data = data[data['event'].isin(funnel_steps)]\n",
    "\n",
    "fig, ax = plt.subplots(1, 2,figsize=(14, 5))\n",
    "\n",
    "for i, dev in enumerate(fun_step_data['device_type'].unique()):\n",
    "    # выбираем устройство\n",
    "    dev_funnel = fun_step_data[fun_step_data['device_type']==dev]\n",
    "    \n",
    "    # считаем число уникальных пользователей на каждом шаге\n",
    "    fun_plot = dev_funnel.groupby('event')['user_id']\\\n",
    "                .nunique()\\\n",
    "                .reindex(funnel_steps)\\\n",
    "                .reset_index(name='usr_cnt')\\\n",
    "                .rename(columns={'event':'step'})\n",
    "\n",
    "    # step by step cr  \n",
    "    fun_plot['cr_from_prev'] = fun_plot.loc[:, 'usr_cnt'] *100 / \\\n",
    "                                fun_plot.shift(1).loc[:, 'usr_cnt']\n",
    "\n",
    "    # строим график\n",
    "    bars = ax[i].bar(fun_plot['step'], fun_plot['cr_from_prev'], color=pal[i+3])\n",
    "    ax[i].set_title(f'Step-by-step воронка ({dev})')\n",
    "    ax[i].set_xlabel('Шаг воронки')\n",
    "    ax[i].set_ylabel('Процент пользователей')\n",
    "    ax[i].bar_label(bars, fmt='%.2f', padding=3)\n",
    "    ax[i].set_ylim(0, 100)\n",
    "    # ax[i].tick_params(axis='x', labelrotation=0)\n",
    "\n",
    "plt.tight_layout()\n",
    "plt.show()\n"
   ]
  },
  {
   "cell_type": "markdown",
   "id": "0727970e",
   "metadata": {},
   "source": [
    "**Desktop**\n",
    "- наблюдается небольшая просадка конверсии на этапе регистраци \"reg_page\" (cr = 79%)  \n",
    "- также можно заметить на шагах добавления в корзину и покупки конверсия в декстопной версии чуть ниже конверсии в   \n",
    "мобильных устройств. Это может быть точкой роста трафика. \n",
    "\n",
    "**Mobile**\n",
    "- выявлена критическая просадка конверсии на этапе подтверждения номера телефона (cr = 55%). \n",
    "- возможные причины - технические проблемы (доставка SMS/push) или недоработки в UX/UI.\n",
    "- есть небольшое снижение конверсии на странице товара (cr=72.5%)\n",
    "- низкая конверсия на шаге главной страницы в сравнений с десктопной версией. Возможно страница долго загружается или  \n",
    "в целом не оптимизирован UX."
   ]
  },
  {
   "cell_type": "markdown",
   "id": "688346cf",
   "metadata": {
    "id": "688346cf"
   },
   "source": [
    "---\n",
    "\n",
    "## 3. RFM-сегментация пользователей"
   ]
  },
  {
   "cell_type": "markdown",
   "id": "fa9128ec",
   "metadata": {},
   "source": [
    "### 3.1. Расчет RFM-метрик (Recency, Frequency, Monetary)"
   ]
  },
  {
   "cell_type": "code",
   "execution_count": 12,
   "id": "f3604a9f",
   "metadata": {},
   "outputs": [
    {
     "data": {
      "image/png": "[encoded data removed]",
      "text/plain": [
       "<Figure size 1200x1000 with 3 Axes>"
      ]
     },
     "metadata": {},
     "output_type": "display_data"
    }
   ],
   "source": [
    "# оставим только покупки\n",
    "purchases = data[data['event']=='order'].copy()\n",
    "\n",
    "purchases['recency_order'] =  (pd.to_datetime('2021-07-03') - \n",
    "                               purchases['datetime']).dt.days\n",
    "# находим распределения r,f,m\n",
    "data_rfm = purchases.groupby('user_id').agg(\n",
    "    recency = ('recency_order', lambda x: x.min()),\n",
    "    frequency = ('order_id', 'nunique'),\n",
    "    monetary_value = ('revenue', 'sum')\n",
    ").reset_index()\n",
    "\n",
    "# Строим три гистограммы\n",
    "fig, axes = plt.subplots(3, 1, figsize=(12, 10))\n",
    "\n",
    "metrics= [   \n",
    "    ('recency', 'Дни'),\n",
    "    ('frequency', 'Количество заказов'),\n",
    "    ('monetary_value', 'Стоимость заказов'),\n",
    "]\n",
    "\n",
    "for i, (met, xlabel) in enumerate(metrics):\n",
    "    axes[i].hist(data_rfm[met], bins=100, color=pal[4])\n",
    "    axes[i].set_title(f'{met.capitalize()} ({xlabel})')\n",
    "    axes[i].set_xlabel(xlabel)\n",
    "    axes[i].set_ylabel('Количество пользователей')\n",
    "\n",
    "plt.subplots_adjust(hspace=0.5)  \n",
    "plt.show()"
   ]
  },
  {
   "cell_type": "markdown",
   "id": "3915b1be",
   "metadata": {},
   "source": [
    "**давность** (Recency)\n",
    "- пользователи по давности последней покупки распределены неравномерно, но без ярко выраженных особенностей\n",
    "- есть большой разброс в значениях от 20 до 70 пользователей в разные периоды времени.\n",
    "\n",
    "**частота покупок** (Frequency)\n",
    "- частота покупок (количество заказов) имеет ярко выраженную правостороннюю асимметрию\n",
    "- большинство покупателей совершают не более 3 покупок\n",
    "\n",
    "**сумма трат** (Monetary).\n",
    "- также ярко выраженная правосторонняя скошенность\n",
    "- стоимость заказов лежит в более широком диапазоне до ~80 тыс. руб.\n",
    "- при этом основная часть заказов лежит в диапазоне примерно до 10 тыс руб"
   ]
  },
  {
   "cell_type": "markdown",
   "id": "80c2b7d6",
   "metadata": {},
   "source": [
    "### 3.2. Анализ и интерпретация RFM-сегментов\n",
    "- **Recency** — три равные группы.\n",
    "- **Frequency** — три группы: 1 заказ, 2 заказа, 3 и более заказов\n",
    "- **Monetary** — три группы: 33 перцентиль, 66 перцентиль и оставшиеся."
   ]
  },
  {
   "cell_type": "code",
   "execution_count": 13,
   "id": "5d65e66c",
   "metadata": {},
   "outputs": [
    {
     "data": {
      "text/markdown": [
       "|    |   rfm_group |   usr_cnt |   usr_share_% |\n",
       "|---:|------------:|----------:|--------------:|\n",
       "|  0 |         212 |       717 |          29.7 |\n",
       "|  1 |         113 |       684 |          28.3 |\n",
       "|  2 |         311 |       676 |          28   |\n",
       "|  3 |         222 |        57 |           2.4 |\n",
       "|  4 |         211 |        53 |           2.2 |\n",
       "|  5 |         213 |        52 |           2.2 |\n",
       "|  6 |         321 |        39 |           1.6 |\n",
       "|  7 |         232 |        39 |           1.6 |\n",
       "|  8 |         331 |        34 |           1.4 |\n",
       "|  9 |         123 |        30 |           1.2 |\n",
       "| 10 |         133 |        19 |           0.8 |\n",
       "| 11 |         221 |         4 |           0.2 |\n",
       "| 12 |         223 |         4 |           0.2 |\n",
       "| 13 |         231 |         4 |           0.2 |\n",
       "| 14 |         233 |         4 |           0.2 |"
      ],
      "text/plain": [
       "<IPython.core.display.Markdown object>"
      ]
     },
     "metadata": {},
     "output_type": "display_data"
    }
   ],
   "source": [
    "# Определяем отдельные группы по кол-ву дней, кол-ву заказов и сумме стоимости\n",
    "data_rfm['r'] = pd.cut(data_rfm['recency'], bins=3, labels=[3,2,1])\n",
    "data_rfm['f'] = pd.cut(data_rfm['frequency'], bins=[1, 2, 3, 1E9],\n",
    "                       include_lowest=True,labels=[1,2,3])\n",
    "data_rfm['m'] = pd.qcut(data_rfm['recency'], q=3, labels=[1,2,3])\n",
    "\n",
    "# групповой RFM индекс\n",
    "data_rfm[['r','f','m']] = data_rfm[['r','f','m']].astype('str')\n",
    "data_rfm['rfm_group'] = data_rfm['r'] + data_rfm['f'] + data_rfm['m']\n",
    "\n",
    "\n",
    "data_rfm_gr = data_rfm.groupby('rfm_group')['user_id'].nunique()\\\n",
    "             .sort_values(ascending=False).reset_index(name='usr_cnt')\n",
    "\n",
    "total_users = data_rfm_gr['usr_cnt'].sum()\n",
    "\n",
    "data_rfm_gr['usr_share_%'] = (data_rfm_gr['usr_cnt'] *100 / total_users).round(1)\n",
    "display(Markdown(data_rfm_gr.to_markdown()))"
   ]
  },
  {
   "cell_type": "markdown",
   "id": "4c14c53a",
   "metadata": {},
   "source": [
    "На основе RFM-анализа выделены три ключевых сегмента:\n",
    "\n",
    "**1. Массовый сегмент с низкой частотой покупок (212, 311):**\n",
    "- составляют ~60% всей клиентской базы.\n",
    "- характеризуются низкой частотой (F=1) и низким/средним чеком (M=1, M=2).\n",
    "- основная аудитория\n",
    "- требуется стратегии по активации и стимулированию второй покупки.\n",
    "\n",
    "**2. Крупные \"спящие\" клиенты (113):**\n",
    "- составляет 28.3%,  \n",
    "- характеризуется высоким чеком (M=3), но низкой частотой (F=1) и давностью (R=1).\n",
    "- самая рискованная и одновременно самая перспективная группа для роста LTV. \n",
    "- ключевая задача - их реактивация.\n",
    "\n",
    "**3. Лояльные и перспективные клиенты (сегменты 233, 223, 133):**\n",
    "- небольшая группа (< 1%), \n",
    "- характеризуются самой высокой частотой и/или чеком.\n",
    "- ядро лояльной аудитории. \n",
    "- основная задача - их удержание и предотвращение перехода в \"спящие\" сегменты.\n"
   ]
  },
  {
   "cell_type": "markdown",
   "id": "50194012",
   "metadata": {
    "id": "50194012"
   },
   "source": [
    "---\n",
    "\n",
    "## 4. K-Means кластеризация ресторанов"
   ]
  },
  {
   "cell_type": "markdown",
   "id": "92d26361",
   "metadata": {},
   "source": [
    "### 4.1. Подготовка признаков для кластеризации"
   ]
  },
  {
   "cell_type": "code",
   "execution_count": 14,
   "id": "09b6887f",
   "metadata": {},
   "outputs": [
    {
     "data": {
      "text/markdown": [
       "| rest_id                          |   order_cnt |   avg_revenue |   unique_dish_cnt |\n",
       "|:---------------------------------|------------:|--------------:|------------------:|\n",
       "| 8d9fb9d5992f400eaf02660973a66adf |        1199 |      116.15   |                91 |\n",
       "| 55d4027ac83e438f9f893892f6903409 |        1001 |      133.733  |                75 |\n",
       "| 8c9307a1485d4f8aa48c6746e46540d8 |         184 |      105.065  |                13 |\n",
       "| 8d4f8073da2945c6bd8615fa95c74852 |         163 |      319.28   |                 3 |\n",
       "| 1be5a933aab34fbab594bebba48e976e |         144 |      180.814  |                28 |\n",
       "| 56edd124dfa44656afe0c0d041eba562 |         135 |       60.3094 |                 3 |\n",
       "| 1d6bb74687104fa1953924c9684fe624 |         108 |      236.741  |                19 |\n",
       "| 4a693ca500b44ba499f92a724aec5f17 |         107 |      179.375  |                12 |\n",
       "| 815a6b063cd84005b02b1fc3b48af951 |         102 |       71.1329 |                21 |\n",
       "| a29747e18d3f4ff487b355d34312aacb |          94 |      249.577  |                 9 |\n",
       "| 59fc1a894303462e8205a759d906499c |          77 |      131.218  |                 6 |\n",
       "| 5b262d151ec1410e94602e422c525c3d |          48 |      102.413  |                 6 |\n",
       "| 43e40bacafe8409bb5592877a42d737e |          43 |      132.523  |                 6 |\n",
       "| 3247a3b5f9494812a3c1a73c5b61f004 |          33 |      222.177  |                 4 |\n",
       "| 39b7eab4f4704ed2886fafe171489960 |          33 |      221.24   |                 5 |\n",
       "| c91517a6ca264aadae9725e1774d93ca |          23 |      118.452  |                 1 |\n",
       "| a59b5279a8674d7a8a16fbf5d92b5551 |          23 |      119.992  |                 6 |\n",
       "| fe285c3040794705afbc17089aafc687 |          12 |       78.2833 |                 2 |\n",
       "| 2c6095730b514c189ee41c65f03febc3 |           8 |      100.38   |                 4 |\n",
       "| 4b9cde3378c447ed81c2c6d4854d4f7e |           7 |      127.2    |                 5 |\n",
       "| 55d6470712ee48e98509478ad6aa18ee |           5 |      285.264  |                 2 |"
      ],
      "text/plain": [
       "<IPython.core.display.Markdown object>"
      ]
     },
     "metadata": {},
     "output_type": "display_data"
    }
   ],
   "source": [
    "# фильтруем покупки\n",
    "orders = data[data['event']=='order'].copy()\n",
    "\n",
    "# доход сервиса идет с комиссии \n",
    "orders['platform_revenue'] = orders['commission'] * orders['revenue']\n",
    "\n",
    "# считаем агр. показатели\n",
    "data_gr =  orders.groupby('rest_id').agg(\n",
    "    order_cnt = ('order_id', 'nunique'), \n",
    "    avg_revenue = ('platform_revenue', 'mean'),\n",
    "    unique_dish_cnt=('object_id', 'nunique') \n",
    ").sort_values(by='order_cnt',ascending=False)\n",
    "\n",
    "# data_gr['total_revenue'] = data_gr['order_cnt'] * data_gr['avg_revenue']\n",
    "# data_gr.sort_values(by='total_revenue',ascending=False, inplace=True)\n",
    "\n",
    "display(Markdown(data_gr.to_markdown()))"
   ]
  },
  {
   "cell_type": "markdown",
   "id": "c72622fb",
   "metadata": {},
   "source": [
    "### 4.2. Определение оптимального числа кластеров (Метод локтя)\n"
   ]
  },
  {
   "cell_type": "code",
   "execution_count": 15,
   "id": "96c37415",
   "metadata": {},
   "outputs": [
    {
     "data": {
      "image/png": "[encoded data removed]",
      "text/plain": [
       "<Figure size 1200x800 with 1 Axes>"
      ]
     },
     "metadata": {},
     "output_type": "display_data"
    }
   ],
   "source": [
    "# inertia \n",
    "i = []\n",
    "\n",
    "# Задаём диапазон количества кластеров\n",
    "min_k, max_k = 1,10 \n",
    "plt.figure(figsize=(12, 8))\n",
    "\n",
    "# нормализуем признаки (приведем к одному масштабу) \n",
    "scaler = StandardScaler()\n",
    "data_scaled = scaler.fit_transform(data_gr)\n",
    "\n",
    "# Перебираем разное количество кластеров\n",
    "for k in range(min_k, max_k + 1):\n",
    "   km = KMeans(n_clusters=k)  # Создаём модель KMeans для текущего значения k\n",
    "   km.fit_transform(data_scaled)  # Обучаем модель и получаем координаты точек\n",
    "   i.append(km.inertia_)  # Сохраняем значение инерции для текущего k\n",
    "\n",
    "# Строим график зависимости инерции от количества кластеров\n",
    "plt.plot(range(min_k, max_k + 1), i, marker='o', color=pal[6])\n",
    "plt.xlabel('Число кластеров K')  # Подпись оси X\n",
    "plt.ylabel('Суммарное внутрикластерное расстояние (Inertia)')  # Подпись оси Y\n",
    "plt.title('График зависимости инерции от числа кластеров (метод локтя)')  # Заголовок\n",
    "plt.show()"
   ]
  },
  {
   "cell_type": "code",
   "execution_count": 16,
   "id": "91d68818",
   "metadata": {},
   "outputs": [
    {
     "data": {
      "image/png": "[encoded data removed]",
      "text/plain": [
       "<Figure size 1500x700 with 1 Axes>"
      ]
     },
     "metadata": {},
     "output_type": "display_data"
    }
   ],
   "source": [
    "# импортируем нужные библиотеки\n",
    "from scipy.cluster.hierarchy import dendrogram, linkage\n",
    "import matplotlib.pyplot as plt\n",
    "\n",
    "# Вычисляем матрицу связей между объектами.\n",
    "# Метод 'ward' стремится минимизировать дисперсию внутри кластеров,\n",
    "# что похоже на логику K-Means.\n",
    "# Важно: для этого метода, как и для K-Means, нужно использовать масштабированные данные!\n",
    "linked = linkage(data_scaled, method='ward')\n",
    "\n",
    "# Задаем размер графика для наглядности\n",
    "plt.figure(figsize=(15, 7))\n",
    "\n",
    "# Строим дендрограмму\n",
    "dendrogram(linked,\n",
    "           orientation='top',\n",
    "           distance_sort='descending',\n",
    "           show_leaf_counts=True)\n",
    "\n",
    "plt.title('Дендрограмма иерархической кластеризации')\n",
    "plt.xlabel('Наблюдения (индексы)')\n",
    "plt.ylabel('Расстояние (Ward)')\n",
    "plt.show()"
   ]
  },
  {
   "cell_type": "markdown",
   "id": "aa0ec17a",
   "metadata": {},
   "source": [
    "**В данном случае, разумным выглядит разбиение на 3 кластера**"
   ]
  },
  {
   "cell_type": "markdown",
   "id": "cbbfe78f",
   "metadata": {},
   "source": [
    "### 4.3. Анализ и интерпретация кластеров"
   ]
  },
  {
   "cell_type": "code",
   "execution_count": null,
   "id": "602d0a1a",
   "metadata": {},
   "outputs": [
    {
     "name": "stdout",
     "output_type": "stream",
     "text": [
      "           кол-во заказов  средний чек  кол-во блюд  Кол-во ресторанов\n",
      "Кластер 1            1100          125           83                  2\n",
      "Кластер 2              86          237           10                  8\n",
      "Кластер 3              60          104            7                 11\n"
     ]
    }
   ],
   "source": [
    "# Проведем кластеризацию в признаковом пространстве: \n",
    "# \"кол-во заказов\", \"средний чек\" и \"кол-во блюд\"\n",
    "\n",
    "# Фиксируем seed, обучем модель на нормализованных данных \n",
    "kmeans = KMeans(n_clusters= 3, random_state=42)\n",
    "labels = kmeans.fit_predict(data_scaled)\n",
    "\n",
    "# Преобразуем центроидов обратно\n",
    "centroids = scaler.inverse_transform(kmeans.cluster_centers_)\n",
    "\n",
    "# сортируем по кол-ву заказов - признак 0\n",
    "sorted_indices = np.argsort(-centroids[:, 0])\n",
    "sorted_centroids = centroids[sorted_indices]\n",
    "\n",
    "# Создаём DataFrame из центроидов\n",
    "centroids_df = pd.DataFrame(\n",
    "   sorted_centroids,\n",
    "   columns=[\"кол-во заказов\", \"средний чек\", \"кол-во блюд\" ],\n",
    "   index=[f'Кластер {i + 1}' for i in range(kmeans.n_clusters)]\n",
    ")\n",
    "\n",
    "\n",
    "# Перекодируем метки кластеров согласно новой нумерации\n",
    "new_labels = np.empty_like(labels)\n",
    "for new_id, old_id in enumerate(sorted_indices):\n",
    "    new_labels[labels == old_id] = new_id\n",
    "labels = new_labels  # Заменяем старые метки\n",
    "\n",
    "\n",
    "# Подсчёт количества ресторанов в каждом кластере\n",
    "cluster_counts = pd.Series(new_labels).value_counts().sort_index()\n",
    "centroids_df['Кол-во ресторанов'] = cluster_counts.values\n",
    "\n",
    "# Форматируем вывод и выводим \n",
    "pd.options.display.float_format = '{:.0f}'.format\n",
    "print(centroids_df)\n"
   ]
  },
  {
   "cell_type": "markdown",
   "id": "75797696",
   "metadata": {},
   "source": [
    "**Кластер 1**\n",
    "- максимальное число заказов (1100) и блюд (83 в 8 раз больше чем в остальных) \n",
    "- средний чек 125 руб\n",
    "- наиболее важный кластер - приносит основной доход.\n",
    "\n",
    "**Кластер 2**\n",
    "- кол-во закзов в 11 раз меньше (86), но зато средний чек почти в 2 раза выше (237 руб) \n",
    "- приносит в 7 раз меньше дохода чем кластер 1, но тем не менее на 2 месте важности\n",
    "\n",
    "**Кластер 3**\n",
    "- заказов чуть меньше чем в кластере 2 (60) и ср. чек меньше в 2 раза (104 руб) "
   ]
  },
  {
   "cell_type": "code",
   "execution_count": 23,
   "id": "bbeeebb4",
   "metadata": {},
   "outputs": [
    {
     "data": {
      "image/png": "[encoded data removed]",
      "text/plain": [
       "<Figure size 1800x500 with 3 Axes>"
      ]
     },
     "metadata": {},
     "output_type": "display_data"
    }
   ],
   "source": [
    "# Создаём 3 графика \n",
    "fig, axes = plt.subplots(1, 3, figsize=(18, 5))\n",
    "\n",
    "# # список названий признаков\n",
    "axs = ['order_cnt', 'avg_revenue', 'unique_dish_cnt']\n",
    "# cluster_names = [f'Кластер {x}' for x in range(1,5)]\n",
    "\n",
    "ax_names = {\n",
    "    'order_cnt': \"Количество заказов\",\n",
    "    'avg_revenue': \"Средний чек\",\n",
    "    'unique_dish_cnt': \"Количество блюд\"\n",
    "}\n",
    "\n",
    "# Перебираем пары признаков:\n",
    "for i, (x_idx, y_idx) in enumerate([[0, 1], [0, 2], [1, 2]]):\n",
    "    # признаки и названия осей\n",
    "    x_feat, y_feat = axs[x_idx], axs[y_idx] \n",
    "    x_name, y_name = ax_names[x_feat], ax_names[y_feat]\n",
    "    \n",
    "    for cl_id, cl_name in enumerate(centroids_df.index):\n",
    "        mask = (labels == cl_id)  # Выбираем точки кластера\n",
    "        axes[i].scatter(\n",
    "            data_gr.loc[mask, x_feat],\n",
    "            data_gr.loc[mask, y_feat],\n",
    "            label=cl_name,\n",
    "            s=50,\n",
    "            alpha=0.7\n",
    "        )\n",
    "        \n",
    "    # Строим центроиды кластеров \n",
    "    axes[i].scatter(\n",
    "        sorted_centroids[:, x_idx],  # X-координаты центров\n",
    "        sorted_centroids[:, y_idx],  # Y-координаты центров\n",
    "        s=200,  # Размер маркеров\n",
    "        c='k',\n",
    "        #edgecolors='k',\n",
    "        linewidths=2,\n",
    "        marker='2'\n",
    "    )\n",
    "\n",
    "    # Подписи осей и заголовок\n",
    "    axes[i].set_xlabel(x_name)\n",
    "    axes[i].set_ylabel(y_name)\n",
    "    axes[i].set_title(f'{y_name}  VS  {x_name}')\n",
    "    axes[i].legend()\n",
    "   \n",
    "# Подгоняем макет, оставляя место снизу для подписи с инерцией\n",
    "plt.tight_layout(rect=[0, 0.05, 1, 1])\n",
    "\n",
    "# Добавляем текст с СВР под графиком \n",
    "fig.text(0.5, 0.01, f'Inertia: {kmeans.inertia_:.2f}', ha='center', fontsize=12)\n",
    "\n",
    "plt.show()"
   ]
  },
  {
   "cell_type": "markdown",
   "id": "375cb50e",
   "metadata": {},
   "source": [
    "**средний чек в зависимости от количества заказов**\n",
    "- можно условно выделить 3 диапазона ср. чека\n",
    "    - 50 - 150 руб - кластер 3\n",
    "    - 110 - 130 руб - кластер 1\n",
    "    - 170 - 320 руб - кластер 2\n",
    "- количество заказов в 3 и 2 кластере в основном не превышают 200 штук\n",
    "- кластер 1 имеет аномально высокое количество заказов - 1000 - 1200 штук\n",
    "\n",
    "**количество блюд в зависимости от количества заказов.**\n",
    "- 2 и 3 кластеры расположены очень компактно в области до 30 блюд и до 200 заказов\n",
    "- кластер 1 аномально высокие показатели заказов (1000 - 1200 шт.) наряду с богатым ассортиментом - около 70-90 блюд\n",
    "\n",
    "\n",
    "**количество блюд в зависимости от ср. чека**\n",
    "- количество блюд в основном не превышает 30\n",
    "- аномальное количество блюд наблюдается только в кластере 1 (70-90 шт.)\n",
    "\n",
    "---"
   ]
  },
  {
   "cell_type": "markdown",
   "id": "89787a06",
   "metadata": {},
   "source": [
    "## 5. Итоговые выводы и рекомендации\n",
    "\n",
    "### Ключевые выводы\n",
    "\n",
    "1.  **Поведение пользователей (Воронка):**\n",
    "    - **Критическая проблема:** Обнаружено падение конверсии на 45% на этапе подтверждения телефона в мобильной версии  \n",
    "    (CR=55%).\n",
    "    - **Потенциальный эффект:** Устранение этой проблемы может увеличить общее количество заказов до 50%.\n",
    "\n",
    "2.  **Сегменты клиентов (RFM-анализ):**\n",
    "    - **Массовый сегмент (212, 311):** Около 60% клиентов совершают покупки редко и имеют низкий/средний чек, что  \n",
    "    указывает на общую проблему с вовлеченностью.\n",
    "    - **Крупные \"спящие\" клиенты (113):** Крупный сегмент (28.3%) с высоким чеком, который давно не возвращался. Это  \n",
    "    главная точка роста LTV, но и самый высокий риск.\n",
    "    - **Лояльное ядро (<1%):** Небольшие, но самые ценные сегменты (233, 223, 133) с высокой частотой и/или чеком.  \n",
    "    Ключевая задача — их удержание.\n",
    "\n",
    "\n",
    "3.  **Сегменты партнеров (K-Means кластеризация):**\n",
    "    - **Основной источник дохода:** Выделен ключевой кластер ресторанов, который генерирует основной объем заказов  \n",
    "    (до 1100) за счет очень широкого ассортимента (70-90 блюд) при среднем чеке.\n",
    "\n",
    "### Рекомендации\n",
    "\n",
    "**Приоритетная задача: Исправить падение конверсии в мобильной версии:**\n",
    "- Возможные проблемы: доставка SMS/push-уведомлений, неинтуитивный интерфейс.\n",
    "- Решение: Провести UX-исследование этапа подтверждения телефона.\n",
    "\n",
    "**Повысить частоту покупок у массового сегмента.**\n",
    "- Для сегментов 212 и 311 (почти 60% базы) разработать и протестировать кампании, направленные на стимулирование второй  \n",
    "покупки.\n",
    "\n",
    "**Улучшить удержание и повысить LTV существующих клиентов.**\n",
    "- Запустить программу лояльности, начав с самых ценных сегментов (233, 223, 133), чтобы предотвратить их отток.\n",
    "- Провести A/B-тест кампании по реактивации \"спящих\" крупных клиентов (113) на небольшой выборке из сегмента.\n",
    "\n",
    "**Укрепить отношения с ключевыми партнерами.**\n",
    "- Разработать специальные условия для ресторанов из самого прибыльного кластера (с широким ассортиментом), чтобы  \n",
    "стимулировать их активность и удержание на платформе."
   ]
  }
 ],
 "metadata": {
  "ExecuteTimeLog": [
   {
    "duration": 21928,
    "start_time": "2025-07-05T00:50:48.217Z"
   },
   {
    "duration": 1894,
    "start_time": "2025-07-05T00:51:10.147Z"
   },
   {
    "duration": 72,
    "start_time": "2025-07-05T00:51:12.046Z"
   },
   {
    "duration": 2105,
    "start_time": "2025-07-05T00:51:12.120Z"
   },
   {
    "duration": 0,
    "start_time": "2025-07-05T00:51:14.228Z"
   },
   {
    "duration": 0,
    "start_time": "2025-07-05T00:51:14.229Z"
   },
   {
    "duration": 0,
    "start_time": "2025-07-05T00:51:14.231Z"
   },
   {
    "duration": 0,
    "start_time": "2025-07-05T00:51:14.232Z"
   },
   {
    "duration": 0,
    "start_time": "2025-07-05T00:51:14.234Z"
   },
   {
    "duration": 0,
    "start_time": "2025-07-05T00:51:14.235Z"
   },
   {
    "duration": 0,
    "start_time": "2025-07-05T00:51:14.236Z"
   },
   {
    "duration": 0,
    "start_time": "2025-07-05T00:51:14.238Z"
   },
   {
    "duration": 0,
    "start_time": "2025-07-05T00:51:14.240Z"
   },
   {
    "duration": 1,
    "start_time": "2025-07-05T00:51:14.241Z"
   },
   {
    "duration": 0,
    "start_time": "2025-07-05T00:51:14.243Z"
   },
   {
    "duration": 0,
    "start_time": "2025-07-05T00:51:14.244Z"
   },
   {
    "duration": 6735,
    "start_time": "2025-07-05T00:51:20.982Z"
   },
   {
    "duration": 1641,
    "start_time": "2025-07-05T00:51:27.719Z"
   },
   {
    "duration": 58,
    "start_time": "2025-07-05T00:51:29.362Z"
   },
   {
    "duration": 2442,
    "start_time": "2025-07-05T00:51:29.423Z"
   },
   {
    "duration": 0,
    "start_time": "2025-07-05T00:51:31.867Z"
   },
   {
    "duration": 0,
    "start_time": "2025-07-05T00:51:31.868Z"
   },
   {
    "duration": 0,
    "start_time": "2025-07-05T00:51:31.869Z"
   },
   {
    "duration": 0,
    "start_time": "2025-07-05T00:51:31.870Z"
   },
   {
    "duration": 0,
    "start_time": "2025-07-05T00:51:31.871Z"
   },
   {
    "duration": 0,
    "start_time": "2025-07-05T00:51:31.872Z"
   },
   {
    "duration": 0,
    "start_time": "2025-07-05T00:51:31.874Z"
   },
   {
    "duration": 0,
    "start_time": "2025-07-05T00:51:31.874Z"
   },
   {
    "duration": 0,
    "start_time": "2025-07-05T00:51:31.875Z"
   },
   {
    "duration": 0,
    "start_time": "2025-07-05T00:51:31.876Z"
   },
   {
    "duration": 0,
    "start_time": "2025-07-05T00:51:31.877Z"
   },
   {
    "duration": 0,
    "start_time": "2025-07-05T00:51:31.878Z"
   },
   {
    "duration": 7866,
    "start_time": "2025-07-05T00:52:08.629Z"
   },
   {
    "duration": 1748,
    "start_time": "2025-07-05T00:52:16.498Z"
   },
   {
    "duration": 56,
    "start_time": "2025-07-05T00:52:18.248Z"
   },
   {
    "duration": 1624,
    "start_time": "2025-07-05T00:52:18.305Z"
   },
   {
    "duration": 131,
    "start_time": "2025-07-05T00:52:19.932Z"
   },
   {
    "duration": 123,
    "start_time": "2025-07-05T00:52:20.065Z"
   },
   {
    "duration": 190,
    "start_time": "2025-07-05T00:52:20.190Z"
   },
   {
    "duration": 10,
    "start_time": "2025-07-05T00:52:20.382Z"
   },
   {
    "duration": 608,
    "start_time": "2025-07-05T00:52:20.394Z"
   },
   {
    "duration": 759,
    "start_time": "2025-07-05T00:52:21.004Z"
   },
   {
    "duration": 922,
    "start_time": "2025-07-05T00:52:21.765Z"
   },
   {
    "duration": 60,
    "start_time": "2025-07-05T00:52:22.688Z"
   },
   {
    "duration": 33,
    "start_time": "2025-07-05T00:52:22.749Z"
   },
   {
    "duration": 590,
    "start_time": "2025-07-05T00:52:22.785Z"
   },
   {
    "duration": 14,
    "start_time": "2025-07-05T00:52:23.377Z"
   },
   {
    "duration": 993,
    "start_time": "2025-07-05T00:52:23.393Z"
   },
   {
    "duration": 1277,
    "start_time": "2025-07-05T00:53:13.149Z"
   },
   {
    "duration": 6711,
    "start_time": "2025-07-05T00:54:57.766Z"
   },
   {
    "duration": 1677,
    "start_time": "2025-07-05T00:55:04.480Z"
   },
   {
    "duration": 60,
    "start_time": "2025-07-05T00:55:06.160Z"
   },
   {
    "duration": 1449,
    "start_time": "2025-07-05T00:55:06.222Z"
   },
   {
    "duration": 126,
    "start_time": "2025-07-05T00:55:07.672Z"
   },
   {
    "duration": 108,
    "start_time": "2025-07-05T00:55:07.799Z"
   },
   {
    "duration": 182,
    "start_time": "2025-07-05T00:55:07.909Z"
   },
   {
    "duration": 9,
    "start_time": "2025-07-05T00:55:08.093Z"
   },
   {
    "duration": 688,
    "start_time": "2025-07-05T00:55:08.104Z"
   },
   {
    "duration": 740,
    "start_time": "2025-07-05T00:55:08.795Z"
   },
   {
    "duration": 902,
    "start_time": "2025-07-05T00:55:09.537Z"
   },
   {
    "duration": 63,
    "start_time": "2025-07-05T00:55:10.440Z"
   },
   {
    "duration": 33,
    "start_time": "2025-07-05T00:55:10.505Z"
   },
   {
    "duration": 543,
    "start_time": "2025-07-05T00:55:10.539Z"
   },
   {
    "duration": 13,
    "start_time": "2025-07-05T00:55:11.084Z"
   },
   {
    "duration": 949,
    "start_time": "2025-07-05T00:55:11.099Z"
   },
   {
    "duration": 6931,
    "start_time": "2025-07-05T00:55:51.321Z"
   },
   {
    "duration": 23769,
    "start_time": "2025-07-05T00:56:28.745Z"
   },
   {
    "duration": 20133,
    "start_time": "2025-07-05T00:57:00.544Z"
   },
   {
    "duration": 1183,
    "start_time": "2025-07-05T00:57:20.680Z"
   },
   {
    "duration": 0,
    "start_time": "2025-07-05T00:57:21.865Z"
   },
   {
    "duration": 0,
    "start_time": "2025-07-05T00:57:21.871Z"
   },
   {
    "duration": 0,
    "start_time": "2025-07-05T00:57:21.873Z"
   },
   {
    "duration": 0,
    "start_time": "2025-07-05T00:57:21.874Z"
   },
   {
    "duration": 0,
    "start_time": "2025-07-05T00:57:21.875Z"
   },
   {
    "duration": 0,
    "start_time": "2025-07-05T00:57:21.876Z"
   },
   {
    "duration": 0,
    "start_time": "2025-07-05T00:57:21.877Z"
   },
   {
    "duration": 0,
    "start_time": "2025-07-05T00:57:21.878Z"
   },
   {
    "duration": 0,
    "start_time": "2025-07-05T00:57:21.879Z"
   },
   {
    "duration": 0,
    "start_time": "2025-07-05T00:57:21.880Z"
   },
   {
    "duration": 0,
    "start_time": "2025-07-05T00:57:21.881Z"
   },
   {
    "duration": 0,
    "start_time": "2025-07-05T00:57:21.882Z"
   },
   {
    "duration": 0,
    "start_time": "2025-07-05T00:57:21.883Z"
   },
   {
    "duration": 0,
    "start_time": "2025-07-05T00:57:21.885Z"
   },
   {
    "duration": 9944,
    "start_time": "2025-07-05T00:57:24.544Z"
   },
   {
    "duration": 1761,
    "start_time": "2025-07-05T00:57:34.491Z"
   },
   {
    "duration": 57,
    "start_time": "2025-07-05T00:57:36.254Z"
   },
   {
    "duration": 1287,
    "start_time": "2025-07-05T00:57:36.312Z"
   },
   {
    "duration": 143,
    "start_time": "2025-07-05T00:57:37.602Z"
   },
   {
    "duration": 95,
    "start_time": "2025-07-05T00:57:37.747Z"
   },
   {
    "duration": 182,
    "start_time": "2025-07-05T00:57:37.844Z"
   },
   {
    "duration": 9,
    "start_time": "2025-07-05T00:57:38.028Z"
   },
   {
    "duration": 605,
    "start_time": "2025-07-05T00:57:38.039Z"
   },
   {
    "duration": 724,
    "start_time": "2025-07-05T00:57:38.645Z"
   },
   {
    "duration": 895,
    "start_time": "2025-07-05T00:57:39.370Z"
   },
   {
    "duration": 66,
    "start_time": "2025-07-05T00:57:40.271Z"
   },
   {
    "duration": 45,
    "start_time": "2025-07-05T00:57:40.339Z"
   },
   {
    "duration": 614,
    "start_time": "2025-07-05T00:57:40.386Z"
   },
   {
    "duration": 15,
    "start_time": "2025-07-05T00:57:41.003Z"
   },
   {
    "duration": 969,
    "start_time": "2025-07-05T00:57:41.020Z"
   },
   {
    "duration": 36879,
    "start_time": "2025-07-05T08:12:01.431Z"
   },
   {
    "duration": 2296,
    "start_time": "2025-07-05T08:12:38.312Z"
   },
   {
    "duration": 55,
    "start_time": "2025-07-05T08:12:40.610Z"
   },
   {
    "duration": 1402,
    "start_time": "2025-07-05T08:12:40.667Z"
   },
   {
    "duration": 111,
    "start_time": "2025-07-05T08:12:42.070Z"
   },
   {
    "duration": 90,
    "start_time": "2025-07-05T08:12:42.182Z"
   },
   {
    "duration": 170,
    "start_time": "2025-07-05T08:12:42.274Z"
   },
   {
    "duration": 14,
    "start_time": "2025-07-05T08:12:42.446Z"
   },
   {
    "duration": 724,
    "start_time": "2025-07-05T08:12:42.462Z"
   },
   {
    "duration": 663,
    "start_time": "2025-07-05T08:12:43.189Z"
   },
   {
    "duration": 992,
    "start_time": "2025-07-05T08:12:43.855Z"
   },
   {
    "duration": 69,
    "start_time": "2025-07-05T08:12:44.849Z"
   },
   {
    "duration": 47,
    "start_time": "2025-07-05T08:12:44.920Z"
   },
   {
    "duration": 696,
    "start_time": "2025-07-05T08:12:44.969Z"
   },
   {
    "duration": 11,
    "start_time": "2025-07-05T08:12:45.668Z"
   },
   {
    "duration": 975,
    "start_time": "2025-07-05T08:12:45.681Z"
   },
   {
    "duration": 7059,
    "start_time": "2025-07-05T10:32:39.135Z"
   },
   {
    "duration": 2032,
    "start_time": "2025-07-05T10:32:46.196Z"
   },
   {
    "duration": 58,
    "start_time": "2025-07-05T10:32:48.229Z"
   },
   {
    "duration": 1345,
    "start_time": "2025-07-05T10:32:48.289Z"
   },
   {
    "duration": 126,
    "start_time": "2025-07-05T10:32:49.636Z"
   },
   {
    "duration": 102,
    "start_time": "2025-07-05T10:32:49.763Z"
   },
   {
    "duration": 295,
    "start_time": "2025-07-05T10:32:49.867Z"
   },
   {
    "duration": 8,
    "start_time": "2025-07-05T10:32:50.163Z"
   },
   {
    "duration": 592,
    "start_time": "2025-07-05T10:32:50.173Z"
   },
   {
    "duration": 756,
    "start_time": "2025-07-05T10:32:50.768Z"
   },
   {
    "duration": 968,
    "start_time": "2025-07-05T10:32:51.525Z"
   },
   {
    "duration": 65,
    "start_time": "2025-07-05T10:32:52.494Z"
   },
   {
    "duration": 37,
    "start_time": "2025-07-05T10:32:52.561Z"
   },
   {
    "duration": 669,
    "start_time": "2025-07-05T10:32:52.600Z"
   },
   {
    "duration": 14,
    "start_time": "2025-07-05T10:32:53.271Z"
   },
   {
    "duration": 1029,
    "start_time": "2025-07-05T10:32:53.288Z"
   },
   {
    "duration": 385,
    "start_time": "2025-07-05T10:46:39.534Z"
   },
   {
    "duration": 49,
    "start_time": "2025-07-05T10:46:45.033Z"
   },
   {
    "duration": 33707,
    "start_time": "2025-07-05T15:08:29.009Z"
   },
   {
    "duration": 1943,
    "start_time": "2025-07-05T15:09:02.718Z"
   },
   {
    "duration": 66,
    "start_time": "2025-07-05T15:09:04.664Z"
   },
   {
    "duration": 1478,
    "start_time": "2025-07-05T15:09:04.733Z"
   },
   {
    "duration": 129,
    "start_time": "2025-07-05T15:09:06.213Z"
   },
   {
    "duration": 114,
    "start_time": "2025-07-05T15:09:06.343Z"
   },
   {
    "duration": 227,
    "start_time": "2025-07-05T15:09:06.459Z"
   },
   {
    "duration": 60,
    "start_time": "2025-07-05T15:09:06.688Z"
   },
   {
    "duration": 23,
    "start_time": "2025-07-05T15:09:06.749Z"
   },
   {
    "duration": 715,
    "start_time": "2025-07-05T15:09:06.775Z"
   },
   {
    "duration": 692,
    "start_time": "2025-07-05T15:09:07.492Z"
   },
   {
    "duration": 928,
    "start_time": "2025-07-05T15:09:08.186Z"
   },
   {
    "duration": 60,
    "start_time": "2025-07-05T15:09:09.116Z"
   },
   {
    "duration": 34,
    "start_time": "2025-07-05T15:09:09.177Z"
   },
   {
    "duration": 666,
    "start_time": "2025-07-05T15:09:09.213Z"
   },
   {
    "duration": 394,
    "start_time": "2025-07-05T15:09:09.881Z"
   },
   {
    "duration": 15,
    "start_time": "2025-07-05T15:09:10.277Z"
   },
   {
    "duration": 1010,
    "start_time": "2025-07-05T15:09:10.294Z"
   },
   {
    "duration": 6777,
    "start_time": "2025-07-05T15:09:25.431Z"
   },
   {
    "duration": 1700,
    "start_time": "2025-07-05T15:09:32.211Z"
   },
   {
    "duration": 52,
    "start_time": "2025-07-05T15:09:33.913Z"
   },
   {
    "duration": 1393,
    "start_time": "2025-07-05T15:09:33.967Z"
   },
   {
    "duration": 120,
    "start_time": "2025-07-05T15:09:35.361Z"
   },
   {
    "duration": 97,
    "start_time": "2025-07-05T15:09:35.483Z"
   },
   {
    "duration": 216,
    "start_time": "2025-07-05T15:09:35.582Z"
   },
   {
    "duration": 71,
    "start_time": "2025-07-05T15:09:35.800Z"
   },
   {
    "duration": 9,
    "start_time": "2025-07-05T15:09:35.873Z"
   },
   {
    "duration": 664,
    "start_time": "2025-07-05T15:09:35.884Z"
   },
   {
    "duration": 732,
    "start_time": "2025-07-05T15:09:36.550Z"
   },
   {
    "duration": 963,
    "start_time": "2025-07-05T15:09:37.284Z"
   },
   {
    "duration": 79,
    "start_time": "2025-07-05T15:09:38.249Z"
   },
   {
    "duration": 32,
    "start_time": "2025-07-05T15:09:38.330Z"
   },
   {
    "duration": 750,
    "start_time": "2025-07-05T15:09:38.364Z"
   },
   {
    "duration": 399,
    "start_time": "2025-07-05T15:09:39.116Z"
   },
   {
    "duration": 16,
    "start_time": "2025-07-05T15:09:39.518Z"
   },
   {
    "duration": 1011,
    "start_time": "2025-07-05T15:09:39.536Z"
   },
   {
    "duration": 32637,
    "start_time": "2025-07-05T22:10:59.647Z"
   },
   {
    "duration": 3961,
    "start_time": "2025-07-05T22:11:32.286Z"
   },
   {
    "duration": 59,
    "start_time": "2025-07-05T22:11:36.249Z"
   },
   {
    "duration": 1502,
    "start_time": "2025-07-05T22:11:36.310Z"
   },
   {
    "duration": 129,
    "start_time": "2025-07-05T22:11:37.813Z"
   },
   {
    "duration": 102,
    "start_time": "2025-07-05T22:11:37.944Z"
   },
   {
    "duration": 213,
    "start_time": "2025-07-05T22:11:38.047Z"
   },
   {
    "duration": 59,
    "start_time": "2025-07-05T22:11:38.262Z"
   },
   {
    "duration": 9,
    "start_time": "2025-07-05T22:11:38.323Z"
   },
   {
    "duration": 689,
    "start_time": "2025-07-05T22:11:38.334Z"
   },
   {
    "duration": 750,
    "start_time": "2025-07-05T22:11:39.025Z"
   },
   {
    "duration": 918,
    "start_time": "2025-07-05T22:11:39.777Z"
   },
   {
    "duration": 67,
    "start_time": "2025-07-05T22:11:40.697Z"
   },
   {
    "duration": 41,
    "start_time": "2025-07-05T22:11:40.766Z"
   },
   {
    "duration": 570,
    "start_time": "2025-07-05T22:11:40.808Z"
   },
   {
    "duration": 385,
    "start_time": "2025-07-05T22:11:41.380Z"
   },
   {
    "duration": 18,
    "start_time": "2025-07-05T22:11:41.767Z"
   },
   {
    "duration": 978,
    "start_time": "2025-07-05T22:11:41.786Z"
   },
   {
    "duration": 129,
    "start_time": "2025-07-05T22:15:38.296Z"
   },
   {
    "duration": 3624,
    "start_time": "2025-07-05T22:16:11.742Z"
   },
   {
    "duration": 206,
    "start_time": "2025-07-05T22:16:16.794Z"
   }
  ],
  "colab": {
   "provenance": []
  },
  "kernelspec": {
   "display_name": "Python 3",
   "language": "python",
   "name": "python3"
  },
  "language_info": {
   "codemirror_mode": {
    "name": "ipython",
    "version": 3
   },
   "file_extension": ".py",
   "mimetype": "text/x-python",
   "name": "python",
   "nbconvert_exporter": "python",
   "pygments_lexer": "ipython3",
   "version": "3.12.7"
  },
  "toc": {
   "base_numbering": 1,
   "nav_menu": {},
   "number_sections": false,
   "sideBar": true,
   "skip_h1_title": true,
   "title_cell": "Table of Contents",
   "title_sidebar": "Contents",
   "toc_cell": false,
   "toc_position": {},
   "toc_section_display": true,
   "toc_window_display": false
  }
 },
 "nbformat": 4,
 "nbformat_minor": 5
}

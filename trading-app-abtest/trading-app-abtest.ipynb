{
 "cells": [
  {
   "cell_type": "markdown",
   "id": "a3d64dac",
   "metadata": {
    "id": "a3d64dac"
   },
   "source": [
    "# Анализ A/B-теста для инвестиционного финтех-приложения \n",
    "\n",
    "## Контекст\n",
    "Анализируется международное мобильное приложение для торговли финансовыми активами, ориентированное на рынок Латинской  \n",
    "Америки.\n",
    "\n",
    "## Проблема\n",
    "Анализ исторических данных показал низкое удержание пользователей после покупки высокорискованных активов. Вероятная  \n",
    "причина - недостаточная финансовая грамотность, которая приводит к потере денег и снижению вовлеченности.\n",
    "\n",
    "## Гипотеза\n",
    "Внедрение в онбординг обучающего блока о рисках повысит осознанность пользователей, что приведет к росту удержания  \n",
    "(retention) и повторных депозитов.\n",
    "\n",
    "## Дизайн эксперимента\n",
    "- **Цель:** Оценить влияние обновленного онбординга на инвестиционную активность пользователей.\n",
    "- **Группы:** Контрольная (старый онбординг) и Тестовая (новый онбординг).\n",
    "- **Период:** Новые пользователи, зарегистрировавшиеся со 2 по 15 июня 2025 года.\n",
    "- **Ключевые метрики:**\n",
    "  - **Основная:** ARPU (средняя сумма всех депозитов на пользователя).\n",
    "  - **Барьерная:** CR из регистрации в первый депозит.\n",
    "  - **Вспомогательные:** CR из первого во второй депозит, ARPPU (средняя сумма депозитов на платящего).\n",
    "\n",
    "## Описание данных\n",
    "Для анализа использовались два датасета (hist.csv, abt.csv): исторические данные (апрель-июнь 2025) и результаты  \n",
    "A/B-теста (2-15 июня 2025).\n",
    "\n",
    "Общие поля датасетов:\n",
    "- `user_id` - уникальный идентификатор пользователя\n",
    "- `country_code` - код страны пользователя в формате ISO\n",
    "- `platform` - устройство, с которого пользователь взаимодействует с продуктом: mobile или web\n",
    "- `first_ts` - время первого появления пользователя в системе\n",
    "- `first_dt` - дата первого появления пользователя (без времени)\n",
    "- `event_ts` - время события\n",
    "- `event_name` - название события\n",
    "- `amount` - сумма пополнения депозита\n",
    "- `asset` - тип приобретённого актива \n",
    "- `risk_level` - уровень риска актива: low - низкий риск, medium - средний риск, high - высокий риск.\n",
    "\n",
    "В датасете abt.csv содержатся два дополнительных поля:\n",
    "- `ab_test` - название А/В-эксперимента;\n",
    "- `group` - пользовательская группа А/В-эксперимента.\n",
    "\n",
    "\n",
    "### Этапы работы\n",
    "1. Загрузка исторических данных и их предобработка\n",
    "2. Исследовательский анализ исторических данных\n",
    "3. Исследование результатов А/В эксперимента\n",
    "4. Анализ изменений суммы депозитов на платящего пользователя\n",
    "5. Выводы\n",
    "\n",
    "---\n"
   ]
  },
  {
   "cell_type": "code",
   "execution_count": 29,
   "id": "7b1f26be",
   "metadata": {
    "scrolled": true
   },
   "outputs": [],
   "source": [
    "# При необходимости решает проблему с устаревшим функционалом на платформе  \n",
    "# (отсутствует bar_plot) и конфликтом версий \n",
    "\n",
    "# %pip install numpy==1.23.5\n",
    "# %pip install pandas==1.5.3\n",
    "# %pip install matplotlib==3.7.0\n",
    "# %pip install seaborn==0.12.2\n",
    "# %pip install scipy==1.10.1\n",
    "# %pip install numba==0.57.0"
   ]
  },
  {
   "cell_type": "code",
   "execution_count": null,
   "id": "980edac7",
   "metadata": {},
   "outputs": [
    {
     "name": "stdout",
     "output_type": "stream",
     "text": [
      "Note: you may need to restart the kernel to use updated packages.\n"
     ]
    }
   ],
   "source": [
    "%pip install numpy pandas statsmodels matplotlib seaborn scipy numba ipython requests tqdm tabulate matplotlib_venn -q "
   ]
  },
  {
   "cell_type": "code",
   "execution_count": null,
   "id": "174c1769",
   "metadata": {
    "scrolled": false
   },
   "outputs": [],
   "source": [
    "# Импортируем библиотеки\n",
    "\n",
    "# Работа с данными\n",
    "import pandas as pd\n",
    "import numpy as np\n",
    "from pandas.api.types import CategoricalDtype\n",
    "\n",
    "# Визуализации\n",
    "import matplotlib.pyplot as plt\n",
    "import seaborn as sns\n",
    "from matplotlib_venn import venn2\n",
    "\n",
    "# стат\n",
    "import scipy.stats as stats\n",
    "from statsmodels.stats.proportion import proportions_ztest\n",
    "from statsmodels.stats.power import TTestIndPower\n",
    "\n",
    "# Вспомогательные импорты\n",
    "from IPython.display import Markdown, display, HTML\n",
    "import io\n",
    "from tqdm import tqdm"
   ]
  },
  {
   "cell_type": "code",
   "execution_count": 4,
   "id": "a69ee6e3",
   "metadata": {},
   "outputs": [
    {
     "data": {
      "text/html": [
       "<style>.output_area{max-height: none !important;}\n",
       "             h1{color:#D14D41;}h2{color:#DA702C;}h3{color:#D0A215;}\n",
       "             h4{color:#879A39;}h5{color:#3AA99F;}h6{color:#4385BE;}\n",
       "             </style>"
      ],
      "text/plain": [
       "<IPython.core.display.HTML object>"
      ]
     },
     "metadata": {},
     "output_type": "display_data"
    }
   ],
   "source": [
    "# Зададам стили и настройки форматирования \n",
    "display(HTML(\"\"\"<style>.output_area{max-height: none !important;}\n",
    "             h1{color:#D14D41;}h2{color:#DA702C;}h3{color:#D0A215;}\n",
    "             h4{color:#879A39;}h5{color:#3AA99F;}h6{color:#4385BE;}\n",
    "             </style>\"\"\"))\n",
    "\n",
    "# Зададим некоторую произвольную палитру для графиков\n",
    "pal = [\n",
    "    '#C9495E',  '#50C2E5', '#38A86F',  '#D466A0', \n",
    "    \"#956BBE\",  \"#0B8C9E\", \"#EAD38C\",  '#17BECF'\n",
    "]\n",
    "\n",
    "# цвета групп\n",
    "color_A, color_B = '#87ceeb', '#ffa07a'\n",
    "\n",
    "# полезные функции\n",
    "\n",
    "# ------------------------------------------------------------------------------\n",
    "# Расширенная информация о данных\n",
    "# выводит процент нулей, чтобы не прикидывать в уме сколько там нулей? \n",
    "# 4.73% или 8.19%?🤔 Это уже достаточно много чтобы не игнорировать или еще нет?\n",
    "def extended_info(df):\n",
    "    buf = io.StringIO()\n",
    "    df.info(buf=buf)\n",
    "    info_lines = buf.getvalue().splitlines()\n",
    "    rn = info_lines[1].split()[1] # rows number\n",
    "    \n",
    "    cols = ['Name',  'Non-Null', 'Null', 'Null share', 'Dtype']\n",
    "\n",
    "    data = [\n",
    "        [' '.join(x[1:-3]), x[-3], int(rn) - int(x[-3]), \n",
    "         f'{round((int(rn) - int(x[-3]))*100 / int(rn) , 2)}%',  x[-1]]\n",
    "        for row in info_lines[5:-2]\n",
    "        for x in [row.split()]\n",
    "    ]\n",
    "    \n",
    "    meta = [\n",
    "        [f'**{x[0]}**', f'**{x[1]}**'] + ['']*(len(cols)-2) \n",
    "        for row  in info_lines[-2:] \n",
    "        for x  in [row.split(': ')]\n",
    "    ]\n",
    "    \n",
    "    data += meta\n",
    "    return Markdown(pd.DataFrame(data, columns=cols).to_markdown())\n",
    "\n",
    "# простая проверка на наличие явнях дубликатов\n",
    "def check_exp_dups(data, cols_subset):\n",
    "    # проверим на наличиие полных дубликатов\n",
    "    full_dups = data.duplicated().sum()\n",
    "    print(f\"Количество явных дубликатов по всем полям: {full_dups.sum()}\")\n",
    "\n",
    "    #  проверим на наличиие дубликатов по отдельным столбцам\n",
    "    subset_dups = data.duplicated(subset=cols_subset)\n",
    "    print(f\"Количество явных дубликатов заданному набору полей: {subset_dups.sum()}\")\n",
    "     \n",
    "# ------------------------------------------------------------------------------\n",
    "# уникальные значения категориальных признаков\n",
    "# решает проблему неявного дублирования данных. \n",
    "# - Пример вывели уники в поле город   \n",
    "#     Санкт-Петербург  \n",
    "#     Санкт Петербург (без дефиса)  \n",
    "#     Санкт-Петербуг (опечатка)  \n",
    "#     СПб (аббревиатура)  \n",
    "# - сразу видно что есть неявные дубликаты  \n",
    "# - **удобно**: ввел все кат. столбцы - получил на выходе уникальные значения \n",
    "# **сразу по ВСЕМ столбцам в одной таблице**\n",
    "def get_df_unique_values(df, cols=None, row_count=20, _sorted=True):\n",
    "    new_cols = dict()\n",
    "    \n",
    "    if cols is None:\n",
    "        cols = df.columns.tolist()\n",
    "    \n",
    "    for col in cols:\n",
    "        u_vals = sorted(df[col].unique()) if _sorted else df[col].unique()\n",
    "        \n",
    "        if len(u_vals) > row_count:\n",
    "            for i in range(0, len(u_vals), row_count):\n",
    "                col_name = f\"{col}_{i // row_count + 1}\"  \n",
    "                \n",
    "                chnk = pd.Series(u_vals[i:i + row_count]).reset_index(drop=True)\n",
    "                padded = chnk.reindex(range(row_count), fill_value='')\n",
    "                \n",
    "                new_cols[col_name] = padded\n",
    "        else:\n",
    "            padded = pd.Series(u_vals).reindex(range(row_count), fill_value='')\n",
    "            new_cols[col] = padded.reset_index(drop=True)\n",
    "            \n",
    "    new_df = pd.DataFrame(new_cols)\n",
    "    return new_df\n",
    "\n",
    "\n",
    "# ------------------------------------------------------------------------------\n",
    "# гистограмма и ящик с усами\n",
    "# - просто строит гистограмму и ящик с усами. \n",
    "# - **удобно**: не надо каждый раз думать про детали реализации - просто передал\n",
    "# параметры и построил график\n",
    "def plot_hist_and_boxplot(data_series, title, xlabel, ylabel, bins=30,\n",
    "                          whis=1.5, figsize=(10, 6),\n",
    "                          color='lightgray', edgecolor='grey', log_scale=False,\n",
    "                          lims=None, percentiles=None):\n",
    "    \"\"\"\n",
    "    Функция строит гистограмму и ящик с усами для указанного столбца.\n",
    "    \"\"\"\n",
    "\n",
    "    fig, axs = plt.subplots(2, 1, figsize=figsize)\n",
    "\n",
    "    # Store x-axis limits before plotting the boxplot\n",
    "\n",
    "    sns.histplot(data_series, ax=axs[0], bins=bins, alpha=0.7, color=color, \n",
    "                 edgecolor=edgecolor, kde=True, log_scale=log_scale)\n",
    "\n",
    "\n",
    "    axs[0].set_xlabel(xlabel[0])\n",
    "    axs[0].set_ylabel(ylabel[0])\n",
    "    # axs[0].set_title(\"Histogram\")\n",
    "    if lims:\n",
    "        axs[0].set_xlim(lims[0])\n",
    "\n",
    "    # перцентили\n",
    "    if percentiles:\n",
    "        perc_values = np.percentile(data_series, percentiles)\n",
    "        \n",
    "        # Получаем верхнюю границу оси Y для размещения текста\n",
    "        y_max = axs[0].get_ylim()[1] \n",
    "        \n",
    "        for p_val, p in zip(perc_values, percentiles):\n",
    "            # Рисуем линию\n",
    "            axs[0].axvline(p_val, color='indianred', linestyle='--')\n",
    "            axs[1].axvline(p_val, color='indianred', linestyle='--')\n",
    "            \n",
    "            # Добавляем текст над линией\n",
    "            axs[0].text(p_val, y_max, f' {p}% \\n({p_val:.1f})', \n",
    "                        color='indianred', ha='left', va='bottom')\n",
    "                \n",
    "    # Boxplot plot\n",
    "    if log_scale:\n",
    "         axs[1].set_xscale('log')  # Apply log scale to boxplot BEFORE boxplot\n",
    "         xmin, xmax = axs[0].get_xlim()\n",
    "         axs[1].set_xlim(xmin, xmax)\n",
    "    else:\n",
    "         xmin, xmax = axs[0].get_xlim()\n",
    "         axs[1].set_xlim(xmin, xmax)\n",
    "\n",
    "    axs[1].boxplot(data_series, vert=False, whis=whis)\n",
    "    axs[1].set_xlabel(xlabel[1])\n",
    "    axs[1].set_ylabel(ylabel[1])\n",
    "    axs[1].set_yticks([])  \n",
    "    # axs[1].set_title(\"Boxplot\")\n",
    "    fig.suptitle(title)\n",
    "    # fig.tight_layout(rect=[0, 0.03, 1, 0.95])  # Adjust layout to fit title\n",
    "    \n",
    "        # Немного увеличиваем отступ сверху, чтобы текст поместился\n",
    "    # fig.tight_layout(rect=[0, 0.03, 1, 1.93]) \n",
    "\n",
    "    plt.show()\n",
    "\n",
    "\n",
    "# ------------------------------------------------------------------------------\n",
    "# столбчатая диаграмма для сравнения размеров групп (control и test).\n",
    "# строит 2 столбца - тест, контроль, показывает разницу в процентах\n",
    "def plot_group_comparison_bar( data: pd.Series, title: str, \n",
    "                              ylabel: str, fig_size: tuple = (8,6), \n",
    "                              colors: tuple = ('#87ceeb', '#ffa07a')\n",
    "):\n",
    "        \n",
    "    control_val = data.iloc[0]\n",
    "    test_val = data.iloc[1]\n",
    "    \n",
    "    # считаем процентную разницу\n",
    "    diff_percent = (test_val - control_val) / control_val * 100\n",
    "    \n",
    "    # --- Построение графика ---\n",
    "    plt.figure(figsize=fig_size)\n",
    "    bars = plt.bar(data.index, data.values, color=colors, width=0.4)\n",
    "    plt.title(title)\n",
    "    plt.ylabel(ylabel)\n",
    "    plt.xlabel('Группа')\n",
    "    \n",
    "    \n",
    "    # 1. Основные метки (абсолютные значения)\n",
    "    plt.bar_label(bars, fmt='%.0f', padding=3)\n",
    "    \n",
    "    # 2. Метка с процентной разницей для тестовой группы\n",
    "    #    (располагаем ее чуть выше основной метки)\n",
    "    y_pos = bars[1].get_height()\n",
    "    offset = bars[1].get_height() * 0.07 # динамический отступ\n",
    "    \n",
    "    plt.text(\n",
    "        x=bars[1].get_x() + bars[1].get_width() / 2, # по центру столбца\n",
    "        y=y_pos + offset,                            # чуть выше столбца\n",
    "        s=f'({diff_percent:+.1f}%)',                 # текст метки\n",
    "        ha='center',\n",
    "        color='red' if diff_percent < 0 else 'green'\n",
    "    )\n",
    "    \n",
    "    # добавляем немного места сверху\n",
    "    plt.ylim(0, max(control_val, test_val) * 1.2)\n",
    "    # отодвигаем столбцы от краев\n",
    "    plt.xlim(-0.5, 1.5)\n",
    "\n"
   ]
  },
  {
   "cell_type": "markdown",
   "id": "cd31b396",
   "metadata": {
    "id": "cd31b396"
   },
   "source": [
    "### 1. Загрузка исторических данных и их предобработка\n",
    "\n",
    "> **Загрузка данных**\n",
    ">\n",
    "> Исходные данные были загружены из двух CSV-файлов:\n",
    "> - `hist.csv` — исторические данные о поведении пользователей.\n",
    "> - `abt.csv` — данные A/B-эксперимента.\n",
    "> и сохранены в словарь `ds` с ключами `hist`, `abt`\n",
    ">\n",
    "> В процессе загрузки столбцы с датами были сразу приведены к формату `datetime`.\n",
    ">\n",
    "> ⚠️*Примечание: в соответствии с политикой конфиденциальности, код загрузки и сами файлы данных удалены из публичной*  \n",
    "*версии проекта*"
   ]
  },
  {
   "cell_type": "code",
   "execution_count": null,
   "id": "95c67de5",
   "metadata": {
    "scrolled": false
   },
   "outputs": [
    {
     "data": {
      "text/markdown": [
       "#### hist"
      ],
      "text/plain": [
       "<IPython.core.display.Markdown object>"
      ]
     },
     "metadata": {},
     "output_type": "display_data"
    },
    {
     "data": {
      "text/markdown": [
       "|    | Name             | Non-Null                                     | Null   | Null share   | Dtype          |\n",
       "|---:|:-----------------|:---------------------------------------------|:-------|:-------------|:---------------|\n",
       "|  0 | user_id          | 238059                                       | 0      | 0.0%         | object         |\n",
       "|  1 | country_code     | 238059                                       | 0      | 0.0%         | object         |\n",
       "|  2 | platform         | 238059                                       | 0      | 0.0%         | object         |\n",
       "|  3 | first_ts         | 238059                                       | 0      | 0.0%         | datetime64[ns] |\n",
       "|  4 | first_dt         | 238059                                       | 0      | 0.0%         | datetime64[ns] |\n",
       "|  5 | event_ts         | 238059                                       | 0      | 0.0%         | datetime64[ns] |\n",
       "|  6 | event_name       | 238059                                       | 0      | 0.0%         | object         |\n",
       "|  7 | amount           | 33093                                        | 204966 | 86.1%        | float64        |\n",
       "|  8 | asset            | 15392                                        | 222667 | 93.53%       | object         |\n",
       "|  9 | risk_level       | 15392                                        | 222667 | 93.53%       | object         |\n",
       "| 10 | **dtypes**       | **datetime64[ns](3), float64(1), object(6)** |        |              |                |\n",
       "| 11 | **memory usage** | **18.2+ MB**                                 |        |              |                |"
      ],
      "text/plain": [
       "<IPython.core.display.Markdown object>"
      ]
     },
     "metadata": {},
     "output_type": "display_data"
    },
    {
     "data": {
      "application/vnd.microsoft.datawrangler.viewer.v0+json": {
       "columns": [
        {
         "name": "index",
         "rawType": "int64",
         "type": "integer"
        },
        {
         "name": "user_id",
         "rawType": "object",
         "type": "string"
        },
        {
         "name": "country_code",
         "rawType": "object",
         "type": "string"
        },
        {
         "name": "platform",
         "rawType": "object",
         "type": "string"
        },
        {
         "name": "first_ts",
         "rawType": "datetime64[ns]",
         "type": "datetime"
        },
        {
         "name": "first_dt",
         "rawType": "datetime64[ns]",
         "type": "datetime"
        },
        {
         "name": "event_ts",
         "rawType": "datetime64[ns]",
         "type": "datetime"
        },
        {
         "name": "event_name",
         "rawType": "object",
         "type": "string"
        },
        {
         "name": "amount",
         "rawType": "float64",
         "type": "float"
        },
        {
         "name": "asset",
         "rawType": "object",
         "type": "unknown"
        },
        {
         "name": "risk_level",
         "rawType": "object",
         "type": "unknown"
        }
       ],
       "ref": "32c273a6-29d8-41a7-bcfc-58819c9f2de1",
       "rows": [
        [
         "0",
         "548ac59f-656d-4110-80d2-49f0a217f08a",
         "BR",
         "mobile",
         "2025-04-02 19:55:51",
         "2025-04-02 00:00:00",
         "2025-04-02 19:55:51",
         "install / open_web",
         null,
         null,
         null
        ],
        [
         "1",
         "548ac59f-656d-4110-80d2-49f0a217f08a",
         "BR",
         "mobile",
         "2025-04-02 19:55:51",
         "2025-04-02 00:00:00",
         "2025-04-02 19:55:59",
         "introduction",
         null,
         null,
         null
        ],
        [
         "2",
         "548ac59f-656d-4110-80d2-49f0a217f08a",
         "BR",
         "mobile",
         "2025-04-02 19:55:51",
         "2025-04-02 00:00:00",
         "2025-04-02 23:46:06",
         "registration",
         null,
         null,
         null
        ],
        [
         "3",
         "548ac59f-656d-4110-80d2-49f0a217f08a",
         "BR",
         "mobile",
         "2025-04-02 19:55:51",
         "2025-04-02 00:00:00",
         "2025-04-02 23:46:15",
         "main_page",
         null,
         null,
         null
        ],
        [
         "4",
         "548ac59f-656d-4110-80d2-49f0a217f08a",
         "BR",
         "mobile",
         "2025-04-02 19:55:51",
         "2025-04-02 00:00:00",
         "2025-04-02 23:47:59",
         "onboarding_complete",
         null,
         null,
         null
        ]
       ],
       "shape": {
        "columns": 10,
        "rows": 5
       }
      },
      "text/html": [
       "<div>\n",
       "<style scoped>\n",
       "    .dataframe tbody tr th:only-of-type {\n",
       "        vertical-align: middle;\n",
       "    }\n",
       "\n",
       "    .dataframe tbody tr th {\n",
       "        vertical-align: top;\n",
       "    }\n",
       "\n",
       "    .dataframe thead th {\n",
       "        text-align: right;\n",
       "    }\n",
       "</style>\n",
       "<table border=\"1\" class=\"dataframe\">\n",
       "  <thead>\n",
       "    <tr style=\"text-align: right;\">\n",
       "      <th></th>\n",
       "      <th>user_id</th>\n",
       "      <th>country_code</th>\n",
       "      <th>platform</th>\n",
       "      <th>first_ts</th>\n",
       "      <th>first_dt</th>\n",
       "      <th>event_ts</th>\n",
       "      <th>event_name</th>\n",
       "      <th>amount</th>\n",
       "      <th>asset</th>\n",
       "      <th>risk_level</th>\n",
       "    </tr>\n",
       "  </thead>\n",
       "  <tbody>\n",
       "    <tr>\n",
       "      <th>0</th>\n",
       "      <td>548ac59f-656d-4110-80d2-49f0a217f08a</td>\n",
       "      <td>BR</td>\n",
       "      <td>mobile</td>\n",
       "      <td>2025-04-02 19:55:51</td>\n",
       "      <td>2025-04-02</td>\n",
       "      <td>2025-04-02 19:55:51</td>\n",
       "      <td>install / open_web</td>\n",
       "      <td>NaN</td>\n",
       "      <td>NaN</td>\n",
       "      <td>NaN</td>\n",
       "    </tr>\n",
       "    <tr>\n",
       "      <th>1</th>\n",
       "      <td>548ac59f-656d-4110-80d2-49f0a217f08a</td>\n",
       "      <td>BR</td>\n",
       "      <td>mobile</td>\n",
       "      <td>2025-04-02 19:55:51</td>\n",
       "      <td>2025-04-02</td>\n",
       "      <td>2025-04-02 19:55:59</td>\n",
       "      <td>introduction</td>\n",
       "      <td>NaN</td>\n",
       "      <td>NaN</td>\n",
       "      <td>NaN</td>\n",
       "    </tr>\n",
       "    <tr>\n",
       "      <th>2</th>\n",
       "      <td>548ac59f-656d-4110-80d2-49f0a217f08a</td>\n",
       "      <td>BR</td>\n",
       "      <td>mobile</td>\n",
       "      <td>2025-04-02 19:55:51</td>\n",
       "      <td>2025-04-02</td>\n",
       "      <td>2025-04-02 23:46:06</td>\n",
       "      <td>registration</td>\n",
       "      <td>NaN</td>\n",
       "      <td>NaN</td>\n",
       "      <td>NaN</td>\n",
       "    </tr>\n",
       "    <tr>\n",
       "      <th>3</th>\n",
       "      <td>548ac59f-656d-4110-80d2-49f0a217f08a</td>\n",
       "      <td>BR</td>\n",
       "      <td>mobile</td>\n",
       "      <td>2025-04-02 19:55:51</td>\n",
       "      <td>2025-04-02</td>\n",
       "      <td>2025-04-02 23:46:15</td>\n",
       "      <td>main_page</td>\n",
       "      <td>NaN</td>\n",
       "      <td>NaN</td>\n",
       "      <td>NaN</td>\n",
       "    </tr>\n",
       "    <tr>\n",
       "      <th>4</th>\n",
       "      <td>548ac59f-656d-4110-80d2-49f0a217f08a</td>\n",
       "      <td>BR</td>\n",
       "      <td>mobile</td>\n",
       "      <td>2025-04-02 19:55:51</td>\n",
       "      <td>2025-04-02</td>\n",
       "      <td>2025-04-02 23:47:59</td>\n",
       "      <td>onboarding_complete</td>\n",
       "      <td>NaN</td>\n",
       "      <td>NaN</td>\n",
       "      <td>NaN</td>\n",
       "    </tr>\n",
       "  </tbody>\n",
       "</table>\n",
       "</div>"
      ],
      "text/plain": [
       "                                user_id country_code platform  \\\n",
       "0  548ac59f-656d-4110-80d2-49f0a217f08a           BR   mobile   \n",
       "1  548ac59f-656d-4110-80d2-49f0a217f08a           BR   mobile   \n",
       "2  548ac59f-656d-4110-80d2-49f0a217f08a           BR   mobile   \n",
       "3  548ac59f-656d-4110-80d2-49f0a217f08a           BR   mobile   \n",
       "4  548ac59f-656d-4110-80d2-49f0a217f08a           BR   mobile   \n",
       "\n",
       "             first_ts   first_dt            event_ts           event_name  \\\n",
       "0 2025-04-02 19:55:51 2025-04-02 2025-04-02 19:55:51   install / open_web   \n",
       "1 2025-04-02 19:55:51 2025-04-02 2025-04-02 19:55:59         introduction   \n",
       "2 2025-04-02 19:55:51 2025-04-02 2025-04-02 23:46:06         registration   \n",
       "3 2025-04-02 19:55:51 2025-04-02 2025-04-02 23:46:15            main_page   \n",
       "4 2025-04-02 19:55:51 2025-04-02 2025-04-02 23:47:59  onboarding_complete   \n",
       "\n",
       "   amount asset risk_level  \n",
       "0     NaN   NaN        NaN  \n",
       "1     NaN   NaN        NaN  \n",
       "2     NaN   NaN        NaN  \n",
       "3     NaN   NaN        NaN  \n",
       "4     NaN   NaN        NaN  "
      ]
     },
     "metadata": {},
     "output_type": "display_data"
    },
    {
     "data": {
      "text/markdown": [
       "#### abt"
      ],
      "text/plain": [
       "<IPython.core.display.Markdown object>"
      ]
     },
     "metadata": {},
     "output_type": "display_data"
    },
    {
     "data": {
      "text/markdown": [
       "|    | Name             | Non-Null                                     | Null   | Null share   | Dtype          |\n",
       "|---:|:-----------------|:---------------------------------------------|:-------|:-------------|:---------------|\n",
       "|  0 | user_id          | 54805                                        | 0      | 0.0%         | object         |\n",
       "|  1 | country_code     | 54805                                        | 0      | 0.0%         | object         |\n",
       "|  2 | platform         | 54805                                        | 0      | 0.0%         | object         |\n",
       "|  3 | first_ts         | 54805                                        | 0      | 0.0%         | datetime64[ns] |\n",
       "|  4 | first_dt         | 54805                                        | 0      | 0.0%         | datetime64[ns] |\n",
       "|  5 | event_ts         | 54805                                        | 0      | 0.0%         | datetime64[ns] |\n",
       "|  6 | event_name       | 54805                                        | 0      | 0.0%         | object         |\n",
       "|  7 | ab_test          | 54805                                        | 0      | 0.0%         | object         |\n",
       "|  8 | group            | 54805                                        | 0      | 0.0%         | object         |\n",
       "|  9 | amount           | 7843                                         | 46962  | 85.69%       | float64        |\n",
       "| 10 | asset            | 3750                                         | 51055  | 93.16%       | object         |\n",
       "| 11 | risk_level       | 3750                                         | 51055  | 93.16%       | object         |\n",
       "| 12 | **dtypes**       | **datetime64[ns](3), float64(1), object(8)** |        |              |                |\n",
       "| 13 | **memory usage** | **5.0+ MB**                                  |        |              |                |"
      ],
      "text/plain": [
       "<IPython.core.display.Markdown object>"
      ]
     },
     "metadata": {},
     "output_type": "display_data"
    },
    {
     "data": {
      "application/vnd.microsoft.datawrangler.viewer.v0+json": {
       "columns": [
        {
         "name": "index",
         "rawType": "int64",
         "type": "integer"
        },
        {
         "name": "user_id",
         "rawType": "object",
         "type": "string"
        },
        {
         "name": "country_code",
         "rawType": "object",
         "type": "string"
        },
        {
         "name": "platform",
         "rawType": "object",
         "type": "string"
        },
        {
         "name": "first_ts",
         "rawType": "datetime64[ns]",
         "type": "datetime"
        },
        {
         "name": "first_dt",
         "rawType": "datetime64[ns]",
         "type": "datetime"
        },
        {
         "name": "event_ts",
         "rawType": "datetime64[ns]",
         "type": "datetime"
        },
        {
         "name": "event_name",
         "rawType": "object",
         "type": "string"
        },
        {
         "name": "ab_test",
         "rawType": "object",
         "type": "string"
        },
        {
         "name": "group",
         "rawType": "object",
         "type": "string"
        },
        {
         "name": "amount",
         "rawType": "float64",
         "type": "float"
        },
        {
         "name": "asset",
         "rawType": "object",
         "type": "unknown"
        },
        {
         "name": "risk_level",
         "rawType": "object",
         "type": "unknown"
        }
       ],
       "ref": "c3b17c24-eb02-4229-9342-5774d4a7eb46",
       "rows": [
        [
         "0",
         "c430acb5-c6bf-43cf-8e2d-7ab9ce0d2c8a",
         "BR",
         "mobile",
         "2025-06-07 19:55:51",
         "2025-06-07 00:00:00",
         "2025-06-07 19:55:51",
         "install / open_web",
         "onboarding_test",
         "test",
         null,
         null,
         null
        ],
        [
         "1",
         "c430acb5-c6bf-43cf-8e2d-7ab9ce0d2c8a",
         "BR",
         "mobile",
         "2025-06-07 19:55:51",
         "2025-06-07 00:00:00",
         "2025-06-07 19:55:54",
         "introduction",
         "onboarding_test",
         "test",
         null,
         null,
         null
        ],
        [
         "2",
         "c430acb5-c6bf-43cf-8e2d-7ab9ce0d2c8a",
         "BR",
         "mobile",
         "2025-06-07 19:55:51",
         "2025-06-07 00:00:00",
         "2025-06-08 06:18:09",
         "registration",
         "onboarding_test",
         "test",
         null,
         null,
         null
        ],
        [
         "3",
         "c430acb5-c6bf-43cf-8e2d-7ab9ce0d2c8a",
         "BR",
         "mobile",
         "2025-06-07 19:55:51",
         "2025-06-07 00:00:00",
         "2025-06-08 06:18:13",
         "main_page",
         "onboarding_test",
         "test",
         null,
         null,
         null
        ],
        [
         "4",
         "c430acb5-c6bf-43cf-8e2d-7ab9ce0d2c8a",
         "BR",
         "mobile",
         "2025-06-07 19:55:51",
         "2025-06-07 00:00:00",
         "2025-06-08 06:33:40",
         "onboarding_complete",
         "onboarding_test",
         "test",
         null,
         null,
         null
        ]
       ],
       "shape": {
        "columns": 12,
        "rows": 5
       }
      },
      "text/html": [
       "<div>\n",
       "<style scoped>\n",
       "    .dataframe tbody tr th:only-of-type {\n",
       "        vertical-align: middle;\n",
       "    }\n",
       "\n",
       "    .dataframe tbody tr th {\n",
       "        vertical-align: top;\n",
       "    }\n",
       "\n",
       "    .dataframe thead th {\n",
       "        text-align: right;\n",
       "    }\n",
       "</style>\n",
       "<table border=\"1\" class=\"dataframe\">\n",
       "  <thead>\n",
       "    <tr style=\"text-align: right;\">\n",
       "      <th></th>\n",
       "      <th>user_id</th>\n",
       "      <th>country_code</th>\n",
       "      <th>platform</th>\n",
       "      <th>first_ts</th>\n",
       "      <th>first_dt</th>\n",
       "      <th>event_ts</th>\n",
       "      <th>event_name</th>\n",
       "      <th>ab_test</th>\n",
       "      <th>group</th>\n",
       "      <th>amount</th>\n",
       "      <th>asset</th>\n",
       "      <th>risk_level</th>\n",
       "    </tr>\n",
       "  </thead>\n",
       "  <tbody>\n",
       "    <tr>\n",
       "      <th>0</th>\n",
       "      <td>c430acb5-c6bf-43cf-8e2d-7ab9ce0d2c8a</td>\n",
       "      <td>BR</td>\n",
       "      <td>mobile</td>\n",
       "      <td>2025-06-07 19:55:51</td>\n",
       "      <td>2025-06-07</td>\n",
       "      <td>2025-06-07 19:55:51</td>\n",
       "      <td>install / open_web</td>\n",
       "      <td>onboarding_test</td>\n",
       "      <td>test</td>\n",
       "      <td>NaN</td>\n",
       "      <td>NaN</td>\n",
       "      <td>NaN</td>\n",
       "    </tr>\n",
       "    <tr>\n",
       "      <th>1</th>\n",
       "      <td>c430acb5-c6bf-43cf-8e2d-7ab9ce0d2c8a</td>\n",
       "      <td>BR</td>\n",
       "      <td>mobile</td>\n",
       "      <td>2025-06-07 19:55:51</td>\n",
       "      <td>2025-06-07</td>\n",
       "      <td>2025-06-07 19:55:54</td>\n",
       "      <td>introduction</td>\n",
       "      <td>onboarding_test</td>\n",
       "      <td>test</td>\n",
       "      <td>NaN</td>\n",
       "      <td>NaN</td>\n",
       "      <td>NaN</td>\n",
       "    </tr>\n",
       "    <tr>\n",
       "      <th>2</th>\n",
       "      <td>c430acb5-c6bf-43cf-8e2d-7ab9ce0d2c8a</td>\n",
       "      <td>BR</td>\n",
       "      <td>mobile</td>\n",
       "      <td>2025-06-07 19:55:51</td>\n",
       "      <td>2025-06-07</td>\n",
       "      <td>2025-06-08 06:18:09</td>\n",
       "      <td>registration</td>\n",
       "      <td>onboarding_test</td>\n",
       "      <td>test</td>\n",
       "      <td>NaN</td>\n",
       "      <td>NaN</td>\n",
       "      <td>NaN</td>\n",
       "    </tr>\n",
       "    <tr>\n",
       "      <th>3</th>\n",
       "      <td>c430acb5-c6bf-43cf-8e2d-7ab9ce0d2c8a</td>\n",
       "      <td>BR</td>\n",
       "      <td>mobile</td>\n",
       "      <td>2025-06-07 19:55:51</td>\n",
       "      <td>2025-06-07</td>\n",
       "      <td>2025-06-08 06:18:13</td>\n",
       "      <td>main_page</td>\n",
       "      <td>onboarding_test</td>\n",
       "      <td>test</td>\n",
       "      <td>NaN</td>\n",
       "      <td>NaN</td>\n",
       "      <td>NaN</td>\n",
       "    </tr>\n",
       "    <tr>\n",
       "      <th>4</th>\n",
       "      <td>c430acb5-c6bf-43cf-8e2d-7ab9ce0d2c8a</td>\n",
       "      <td>BR</td>\n",
       "      <td>mobile</td>\n",
       "      <td>2025-06-07 19:55:51</td>\n",
       "      <td>2025-06-07</td>\n",
       "      <td>2025-06-08 06:33:40</td>\n",
       "      <td>onboarding_complete</td>\n",
       "      <td>onboarding_test</td>\n",
       "      <td>test</td>\n",
       "      <td>NaN</td>\n",
       "      <td>NaN</td>\n",
       "      <td>NaN</td>\n",
       "    </tr>\n",
       "  </tbody>\n",
       "</table>\n",
       "</div>"
      ],
      "text/plain": [
       "                                user_id country_code platform  \\\n",
       "0  c430acb5-c6bf-43cf-8e2d-7ab9ce0d2c8a           BR   mobile   \n",
       "1  c430acb5-c6bf-43cf-8e2d-7ab9ce0d2c8a           BR   mobile   \n",
       "2  c430acb5-c6bf-43cf-8e2d-7ab9ce0d2c8a           BR   mobile   \n",
       "3  c430acb5-c6bf-43cf-8e2d-7ab9ce0d2c8a           BR   mobile   \n",
       "4  c430acb5-c6bf-43cf-8e2d-7ab9ce0d2c8a           BR   mobile   \n",
       "\n",
       "             first_ts   first_dt            event_ts           event_name  \\\n",
       "0 2025-06-07 19:55:51 2025-06-07 2025-06-07 19:55:51   install / open_web   \n",
       "1 2025-06-07 19:55:51 2025-06-07 2025-06-07 19:55:54         introduction   \n",
       "2 2025-06-07 19:55:51 2025-06-07 2025-06-08 06:18:09         registration   \n",
       "3 2025-06-07 19:55:51 2025-06-07 2025-06-08 06:18:13            main_page   \n",
       "4 2025-06-07 19:55:51 2025-06-07 2025-06-08 06:33:40  onboarding_complete   \n",
       "\n",
       "           ab_test group  amount asset risk_level  \n",
       "0  onboarding_test  test     NaN   NaN        NaN  \n",
       "1  onboarding_test  test     NaN   NaN        NaN  \n",
       "2  onboarding_test  test     NaN   NaN        NaN  \n",
       "3  onboarding_test  test     NaN   NaN        NaN  \n",
       "4  onboarding_test  test     NaN   NaN        NaN  "
      ]
     },
     "metadata": {},
     "output_type": "display_data"
    }
   ],
   "source": [
    "# Выводим расширенную информацию о данных\n",
    "for name, dataset in ds.items():\n",
    "    display(Markdown(f'#### {name}'))\n",
    "    display(extended_info(dataset))\n",
    "    display(dataset.head())"
   ]
  },
  {
   "cell_type": "markdown",
   "id": "6b164b42",
   "metadata": {},
   "source": [
    "\n",
    "**hist**\n",
    "- количество строк 238059\n",
    "- пропуски в полях \n",
    "    - `amount` - 86.1% (204966), \n",
    "    - `asset` - 93.53% (222667), \n",
    "    - `risk_level` - 93.53% (222667)\n",
    "- все названия признаков представлены в удобном формате \n",
    "- признаки имеют правильные форматы данных\n",
    "\n",
    "**abt**\n",
    "- количество строк 54805\n",
    "- пропуски в полях \n",
    "    - `amount` - 85.69%\t(46962), \n",
    "    - `asset` - 93.16%\t(51055), \n",
    "    - `risk_level` - 93.16%\t(51055)\n",
    "- все названия признаков представлены в удобном формате \n",
    "- признаки имеют правильные форматы данных\n",
    "\n",
    "\n",
    "**Событие `install / open_web` было переименовано в `install__open_web` для удобства обработки.**\n"
   ]
  },
  {
   "cell_type": "code",
   "execution_count": 6,
   "id": "2488ac1c",
   "metadata": {},
   "outputs": [],
   "source": [
    "for key, df in ds.items():\n",
    "    df['event_name'] = df['event_name'].str.replace('install / open_web', 'install__open_web', regex=False)"
   ]
  },
  {
   "cell_type": "markdown",
   "id": "6e19ed31",
   "metadata": {},
   "source": [
    "#### Рассмотрим распределение пропусков по событиям\n",
    "примерный порядок событий\n",
    "\n",
    "- 1\tinstall__open_web - Установка или открытие сайта\n",
    "- 2\tregistration - Регистрация аккаунта\n",
    "- 3 introduction - Вводное обучение, onboarding\n",
    "- 4\tonboarding_complete - Завершение онбординга\n",
    "- 5\tmain_page - Посещение главной страницы\n",
    "- 6\tfirst_deposit - Первый депозит\n",
    "- 7\tasset_purchase - Покупка активов\n",
    "- 8 second_deposit - Второй и последующие депозиты\n",
    "- 9\tasset_purchase - Покупка активов"
   ]
  },
  {
   "cell_type": "code",
   "execution_count": 7,
   "id": "e497a01f",
   "metadata": {},
   "outputs": [
    {
     "data": {
      "text/markdown": [
       "#### hist"
      ],
      "text/plain": [
       "<IPython.core.display.Markdown object>"
      ]
     },
     "metadata": {},
     "output_type": "display_data"
    },
    {
     "data": {
      "text/markdown": [
       "| event_name          |   amount |   asset |   risk_level |   total_rows |\n",
       "|:--------------------|---------:|--------:|-------------:|-------------:|\n",
       "| install__open_web   |        0 |       0 |            0 |        41032 |\n",
       "| registration        |        0 |       0 |            0 |        38133 |\n",
       "| introduction        |        0 |       0 |            0 |        41032 |\n",
       "| onboarding_complete |        0 |       0 |            0 |        34337 |\n",
       "| main_page           |        0 |       0 |            0 |        35040 |\n",
       "| first_deposit       |    27685 |       0 |            0 |        27685 |\n",
       "| asset_purchase      |        0 |   15392 |        15392 |        15392 |\n",
       "| second_deposit      |     5408 |       0 |            0 |         5408 |"
      ],
      "text/plain": [
       "<IPython.core.display.Markdown object>"
      ]
     },
     "metadata": {},
     "output_type": "display_data"
    },
    {
     "data": {
      "text/markdown": [
       "#### abt"
      ],
      "text/plain": [
       "<IPython.core.display.Markdown object>"
      ]
     },
     "metadata": {},
     "output_type": "display_data"
    },
    {
     "data": {
      "text/markdown": [
       "| event_name          |   amount |   asset |   risk_level |   total_rows |\n",
       "|:--------------------|---------:|--------:|-------------:|-------------:|\n",
       "| install__open_web   |        0 |       0 |            0 |         9415 |\n",
       "| registration        |        0 |       0 |            0 |         8777 |\n",
       "| introduction        |        0 |       0 |            0 |         9415 |\n",
       "| onboarding_complete |        0 |       0 |            0 |         7525 |\n",
       "| main_page           |        0 |       0 |            0 |         8080 |\n",
       "| first_deposit       |     6215 |       0 |            0 |         6215 |\n",
       "| asset_purchase      |        0 |    3750 |         3750 |         3750 |\n",
       "| second_deposit      |     1628 |       0 |            0 |         1628 |"
      ],
      "text/plain": [
       "<IPython.core.display.Markdown object>"
      ]
     },
     "metadata": {},
     "output_type": "display_data"
    }
   ],
   "source": [
    "# опрделим примерный порядок событий (убрали 9 пункт)\n",
    "events_order = [ 'install__open_web', 'registration', 'introduction', \n",
    "                'onboarding_complete', 'main_page', 'first_deposit', \n",
    "                'asset_purchase', 'second_deposit']\n",
    "\n",
    "# посчитаем не нулевые значения \n",
    "for name, dataset in ds.items():\n",
    "    # НЕ нули\n",
    "    evt_notna = dataset.iloc[:, -3:].notnull().groupby(dataset['event_name']).sum()\n",
    "\n",
    "    evt_notna = evt_notna.reindex(events_order)\n",
    "\n",
    "    # добавим полное кол-во строк\n",
    "    evt_notna['total_rows'] = dataset['event_name'].value_counts()\n",
    "\n",
    "    # выводим\n",
    "    display(Markdown(f'#### {name}'))\n",
    "    display(Markdown(evt_notna.to_markdown()))"
   ]
  },
  {
   "cell_type": "markdown",
   "id": "b74fda03",
   "metadata": {},
   "source": [
    "Из обоих таблиц видно, что  \n",
    "    - в первых 5 событиях ('install__open_web', 'registration', 'introduction', 'onboarding_complete', 'main_page')  \n",
    "    вообще нет ненулевых значений в полях `amount`,`asset`, `risk_level`.  \n",
    "    - но их и не должно быть, потому что до внесения денег на счет пользователь не может купить активы.  \n",
    "    - в событиях first_deposit и second_deposit ненулевые значения только в поле `amount` - это сумма пополнения счета  \n",
    "    остальные поля относятся к активам.  \n",
    "    - событие asset_purchase содержит только поля, которые относятся к активам - asset и risk_level\n",
    "\n",
    "**Таким образом, все пропуски в данных не являются ошибками и объясняются организацией структуры данных**"
   ]
  },
  {
   "cell_type": "markdown",
   "id": "407621cb",
   "metadata": {},
   "source": [
    "#### Проверим данные на наличие дубликатов"
   ]
  },
  {
   "cell_type": "code",
   "execution_count": 8,
   "id": "c18f9a14",
   "metadata": {},
   "outputs": [
    {
     "data": {
      "text/markdown": [
       "#### hist"
      ],
      "text/plain": [
       "<IPython.core.display.Markdown object>"
      ]
     },
     "metadata": {},
     "output_type": "display_data"
    },
    {
     "name": "stdout",
     "output_type": "stream",
     "text": [
      "Количество явных дубликатов по всем полям: 0\n",
      "Количество явных дубликатов заданному набору полей: 0\n",
      "['user_id', 'event_ts', 'event_name'] \n",
      "\n",
      "\n",
      "Уникальные значения категориальных признаков\n",
      "['country_code', 'platform', 'event_name', 'asset', 'risk_level'] \n",
      "\n",
      "\n"
     ]
    },
    {
     "data": {
      "application/vnd.microsoft.datawrangler.viewer.v0+json": {
       "columns": [
        {
         "name": "index",
         "rawType": "int64",
         "type": "integer"
        },
        {
         "name": "country_code",
         "rawType": "object",
         "type": "string"
        },
        {
         "name": "platform",
         "rawType": "object",
         "type": "string"
        },
        {
         "name": "event_name",
         "rawType": "object",
         "type": "string"
        },
        {
         "name": "asset",
         "rawType": "object",
         "type": "unknown"
        },
        {
         "name": "risk_level",
         "rawType": "object",
         "type": "unknown"
        }
       ],
       "ref": "9a84991a-74e8-438c-9199-056634dab264",
       "rows": [
        [
         "0",
         "BR",
         "mobile",
         "install__open_web",
         null,
         null
        ],
        [
         "1",
         "AR",
         "web",
         "introduction",
         "stock",
         "medium"
        ],
        [
         "2",
         "CO",
         "",
         "registration",
         "option",
         "high"
        ],
        [
         "3",
         "MX",
         "",
         "main_page",
         "crypto",
         "low"
        ],
        [
         "4",
         "",
         "",
         "onboarding_complete",
         "",
         ""
        ],
        [
         "5",
         "",
         "",
         "first_deposit",
         "",
         ""
        ],
        [
         "6",
         "",
         "",
         "asset_purchase",
         "",
         ""
        ],
        [
         "7",
         "",
         "",
         "second_deposit",
         "",
         ""
        ],
        [
         "8",
         "",
         "",
         "",
         "",
         ""
        ],
        [
         "9",
         "",
         "",
         "",
         "",
         ""
        ]
       ],
       "shape": {
        "columns": 5,
        "rows": 10
       }
      },
      "text/html": [
       "<div>\n",
       "<style scoped>\n",
       "    .dataframe tbody tr th:only-of-type {\n",
       "        vertical-align: middle;\n",
       "    }\n",
       "\n",
       "    .dataframe tbody tr th {\n",
       "        vertical-align: top;\n",
       "    }\n",
       "\n",
       "    .dataframe thead th {\n",
       "        text-align: right;\n",
       "    }\n",
       "</style>\n",
       "<table border=\"1\" class=\"dataframe\">\n",
       "  <thead>\n",
       "    <tr style=\"text-align: right;\">\n",
       "      <th></th>\n",
       "      <th>country_code</th>\n",
       "      <th>platform</th>\n",
       "      <th>event_name</th>\n",
       "      <th>asset</th>\n",
       "      <th>risk_level</th>\n",
       "    </tr>\n",
       "  </thead>\n",
       "  <tbody>\n",
       "    <tr>\n",
       "      <th>0</th>\n",
       "      <td>BR</td>\n",
       "      <td>mobile</td>\n",
       "      <td>install__open_web</td>\n",
       "      <td>NaN</td>\n",
       "      <td>NaN</td>\n",
       "    </tr>\n",
       "    <tr>\n",
       "      <th>1</th>\n",
       "      <td>AR</td>\n",
       "      <td>web</td>\n",
       "      <td>introduction</td>\n",
       "      <td>stock</td>\n",
       "      <td>medium</td>\n",
       "    </tr>\n",
       "    <tr>\n",
       "      <th>2</th>\n",
       "      <td>CO</td>\n",
       "      <td></td>\n",
       "      <td>registration</td>\n",
       "      <td>option</td>\n",
       "      <td>high</td>\n",
       "    </tr>\n",
       "    <tr>\n",
       "      <th>3</th>\n",
       "      <td>MX</td>\n",
       "      <td></td>\n",
       "      <td>main_page</td>\n",
       "      <td>crypto</td>\n",
       "      <td>low</td>\n",
       "    </tr>\n",
       "    <tr>\n",
       "      <th>4</th>\n",
       "      <td></td>\n",
       "      <td></td>\n",
       "      <td>onboarding_complete</td>\n",
       "      <td></td>\n",
       "      <td></td>\n",
       "    </tr>\n",
       "    <tr>\n",
       "      <th>5</th>\n",
       "      <td></td>\n",
       "      <td></td>\n",
       "      <td>first_deposit</td>\n",
       "      <td></td>\n",
       "      <td></td>\n",
       "    </tr>\n",
       "    <tr>\n",
       "      <th>6</th>\n",
       "      <td></td>\n",
       "      <td></td>\n",
       "      <td>asset_purchase</td>\n",
       "      <td></td>\n",
       "      <td></td>\n",
       "    </tr>\n",
       "    <tr>\n",
       "      <th>7</th>\n",
       "      <td></td>\n",
       "      <td></td>\n",
       "      <td>second_deposit</td>\n",
       "      <td></td>\n",
       "      <td></td>\n",
       "    </tr>\n",
       "    <tr>\n",
       "      <th>8</th>\n",
       "      <td></td>\n",
       "      <td></td>\n",
       "      <td></td>\n",
       "      <td></td>\n",
       "      <td></td>\n",
       "    </tr>\n",
       "    <tr>\n",
       "      <th>9</th>\n",
       "      <td></td>\n",
       "      <td></td>\n",
       "      <td></td>\n",
       "      <td></td>\n",
       "      <td></td>\n",
       "    </tr>\n",
       "  </tbody>\n",
       "</table>\n",
       "</div>"
      ],
      "text/plain": [
       "  country_code platform           event_name   asset risk_level\n",
       "0           BR   mobile    install__open_web     NaN        NaN\n",
       "1           AR      web         introduction   stock     medium\n",
       "2           CO                  registration  option       high\n",
       "3           MX                     main_page  crypto        low\n",
       "4                        onboarding_complete                   \n",
       "5                              first_deposit                   \n",
       "6                             asset_purchase                   \n",
       "7                             second_deposit                   \n",
       "8                                                              \n",
       "9                                                              "
      ]
     },
     "metadata": {},
     "output_type": "display_data"
    },
    {
     "data": {
      "text/markdown": [
       "#### abt"
      ],
      "text/plain": [
       "<IPython.core.display.Markdown object>"
      ]
     },
     "metadata": {},
     "output_type": "display_data"
    },
    {
     "name": "stdout",
     "output_type": "stream",
     "text": [
      "Количество явных дубликатов по всем полям: 0\n",
      "Количество явных дубликатов заданному набору полей: 0\n",
      "['user_id', 'event_ts', 'event_name'] \n",
      "\n",
      "\n",
      "Уникальные значения категориальных признаков\n",
      "['country_code', 'platform', 'event_name', 'asset', 'risk_level', 'ab_test', 'group'] \n",
      "\n",
      "\n"
     ]
    },
    {
     "data": {
      "application/vnd.microsoft.datawrangler.viewer.v0+json": {
       "columns": [
        {
         "name": "index",
         "rawType": "int64",
         "type": "integer"
        },
        {
         "name": "country_code",
         "rawType": "object",
         "type": "string"
        },
        {
         "name": "platform",
         "rawType": "object",
         "type": "string"
        },
        {
         "name": "event_name",
         "rawType": "object",
         "type": "string"
        },
        {
         "name": "asset",
         "rawType": "object",
         "type": "unknown"
        },
        {
         "name": "risk_level",
         "rawType": "object",
         "type": "unknown"
        },
        {
         "name": "ab_test",
         "rawType": "object",
         "type": "string"
        },
        {
         "name": "group",
         "rawType": "object",
         "type": "string"
        }
       ],
       "ref": "bb752cc5-eb1a-4575-b0c0-743d63a1872e",
       "rows": [
        [
         "0",
         "BR",
         "mobile",
         "install__open_web",
         null,
         null,
         "onboarding_test",
         "test"
        ],
        [
         "1",
         "MX",
         "web",
         "introduction",
         "crypto",
         "high",
         "",
         "control"
        ],
        [
         "2",
         "CO",
         "",
         "registration",
         "stock",
         "low",
         "",
         ""
        ],
        [
         "3",
         "AR",
         "",
         "main_page",
         "option",
         "medium",
         "",
         ""
        ],
        [
         "4",
         "",
         "",
         "onboarding_complete",
         "",
         "",
         "",
         ""
        ],
        [
         "5",
         "",
         "",
         "first_deposit",
         "",
         "",
         "",
         ""
        ],
        [
         "6",
         "",
         "",
         "asset_purchase",
         "",
         "",
         "",
         ""
        ],
        [
         "7",
         "",
         "",
         "second_deposit",
         "",
         "",
         "",
         ""
        ],
        [
         "8",
         "",
         "",
         "",
         "",
         "",
         "",
         ""
        ],
        [
         "9",
         "",
         "",
         "",
         "",
         "",
         "",
         ""
        ]
       ],
       "shape": {
        "columns": 7,
        "rows": 10
       }
      },
      "text/html": [
       "<div>\n",
       "<style scoped>\n",
       "    .dataframe tbody tr th:only-of-type {\n",
       "        vertical-align: middle;\n",
       "    }\n",
       "\n",
       "    .dataframe tbody tr th {\n",
       "        vertical-align: top;\n",
       "    }\n",
       "\n",
       "    .dataframe thead th {\n",
       "        text-align: right;\n",
       "    }\n",
       "</style>\n",
       "<table border=\"1\" class=\"dataframe\">\n",
       "  <thead>\n",
       "    <tr style=\"text-align: right;\">\n",
       "      <th></th>\n",
       "      <th>country_code</th>\n",
       "      <th>platform</th>\n",
       "      <th>event_name</th>\n",
       "      <th>asset</th>\n",
       "      <th>risk_level</th>\n",
       "      <th>ab_test</th>\n",
       "      <th>group</th>\n",
       "    </tr>\n",
       "  </thead>\n",
       "  <tbody>\n",
       "    <tr>\n",
       "      <th>0</th>\n",
       "      <td>BR</td>\n",
       "      <td>mobile</td>\n",
       "      <td>install__open_web</td>\n",
       "      <td>NaN</td>\n",
       "      <td>NaN</td>\n",
       "      <td>onboarding_test</td>\n",
       "      <td>test</td>\n",
       "    </tr>\n",
       "    <tr>\n",
       "      <th>1</th>\n",
       "      <td>MX</td>\n",
       "      <td>web</td>\n",
       "      <td>introduction</td>\n",
       "      <td>crypto</td>\n",
       "      <td>high</td>\n",
       "      <td></td>\n",
       "      <td>control</td>\n",
       "    </tr>\n",
       "    <tr>\n",
       "      <th>2</th>\n",
       "      <td>CO</td>\n",
       "      <td></td>\n",
       "      <td>registration</td>\n",
       "      <td>stock</td>\n",
       "      <td>low</td>\n",
       "      <td></td>\n",
       "      <td></td>\n",
       "    </tr>\n",
       "    <tr>\n",
       "      <th>3</th>\n",
       "      <td>AR</td>\n",
       "      <td></td>\n",
       "      <td>main_page</td>\n",
       "      <td>option</td>\n",
       "      <td>medium</td>\n",
       "      <td></td>\n",
       "      <td></td>\n",
       "    </tr>\n",
       "    <tr>\n",
       "      <th>4</th>\n",
       "      <td></td>\n",
       "      <td></td>\n",
       "      <td>onboarding_complete</td>\n",
       "      <td></td>\n",
       "      <td></td>\n",
       "      <td></td>\n",
       "      <td></td>\n",
       "    </tr>\n",
       "    <tr>\n",
       "      <th>5</th>\n",
       "      <td></td>\n",
       "      <td></td>\n",
       "      <td>first_deposit</td>\n",
       "      <td></td>\n",
       "      <td></td>\n",
       "      <td></td>\n",
       "      <td></td>\n",
       "    </tr>\n",
       "    <tr>\n",
       "      <th>6</th>\n",
       "      <td></td>\n",
       "      <td></td>\n",
       "      <td>asset_purchase</td>\n",
       "      <td></td>\n",
       "      <td></td>\n",
       "      <td></td>\n",
       "      <td></td>\n",
       "    </tr>\n",
       "    <tr>\n",
       "      <th>7</th>\n",
       "      <td></td>\n",
       "      <td></td>\n",
       "      <td>second_deposit</td>\n",
       "      <td></td>\n",
       "      <td></td>\n",
       "      <td></td>\n",
       "      <td></td>\n",
       "    </tr>\n",
       "    <tr>\n",
       "      <th>8</th>\n",
       "      <td></td>\n",
       "      <td></td>\n",
       "      <td></td>\n",
       "      <td></td>\n",
       "      <td></td>\n",
       "      <td></td>\n",
       "      <td></td>\n",
       "    </tr>\n",
       "    <tr>\n",
       "      <th>9</th>\n",
       "      <td></td>\n",
       "      <td></td>\n",
       "      <td></td>\n",
       "      <td></td>\n",
       "      <td></td>\n",
       "      <td></td>\n",
       "      <td></td>\n",
       "    </tr>\n",
       "  </tbody>\n",
       "</table>\n",
       "</div>"
      ],
      "text/plain": [
       "  country_code platform           event_name   asset risk_level  \\\n",
       "0           BR   mobile    install__open_web     NaN        NaN   \n",
       "1           MX      web         introduction  crypto       high   \n",
       "2           CO                  registration   stock        low   \n",
       "3           AR                     main_page  option     medium   \n",
       "4                        onboarding_complete                      \n",
       "5                              first_deposit                      \n",
       "6                             asset_purchase                      \n",
       "7                             second_deposit                      \n",
       "8                                                                 \n",
       "9                                                                 \n",
       "\n",
       "           ab_test    group  \n",
       "0  onboarding_test     test  \n",
       "1                   control  \n",
       "2                            \n",
       "3                            \n",
       "4                            \n",
       "5                            \n",
       "6                            \n",
       "7                            \n",
       "8                            \n",
       "9                            "
      ]
     },
     "metadata": {},
     "output_type": "display_data"
    }
   ],
   "source": [
    "\n",
    "unique_cols = ['user_id', 'event_ts', 'event_name']\n",
    "cat_cols = ['country_code','platform','event_name','asset','risk_level']\n",
    "\n",
    "# проверим наличе дубликатов\n",
    "for name, dataset in ds.items():\n",
    "    display(Markdown(f'#### {name}'))\n",
    "    \n",
    "    # простая проверка на наличие явных дубликатов \n",
    "    check_exp_dups(dataset, unique_cols)\n",
    "    print(unique_cols, '\\n\\n')\n",
    "    \n",
    "    # добавим поля для 2-го датасета \n",
    "    cat_cols += [] if name == 'hist' else ['ab_test', 'group']\n",
    "    \n",
    "    # проверим написание категориальных полей \n",
    "    # (что НЕявных дублей из-за ошибок написания ) \n",
    "    print(\"Уникальные значения категориальных признаков\")\n",
    "    print(cat_cols,'\\n\\n')\n",
    "    \n",
    "    display(get_df_unique_values(dataset, cols=cat_cols, row_count=10, _sorted=False))"
   ]
  },
  {
   "cell_type": "markdown",
   "id": "24fdc42f",
   "metadata": {},
   "source": [
    "- полных явных дубликатов нет \n",
    "- явных дубликатов по ключевым полям нет\n",
    "- ошибок написания кат. признаков нет - неявных дубликатов не обнаружено\n",
    "\n",
    "**Дубликатов не найдено**"
   ]
  },
  {
   "cell_type": "markdown",
   "id": "e7c9d578",
   "metadata": {
    "id": "e7c9d578"
   },
   "source": [
    "---\n",
    "\n",
    "### 2. Исследовательский анализ исторических данных\n",
    "\n",
    "#### 2.1. Динамика привлечения новых пользователей"
   ]
  },
  {
   "cell_type": "markdown",
   "id": "196e58ff",
   "metadata": {},
   "source": [
    "Новых пользователей будем определять по событию 'install / open_web'.\n",
    "<!-- - 1\tinstall / open_web - Установка или открытие сайта\n",
    "- 2\tregistration - Регистрация аккаунта\n",
    "- 3 introduction - Вводное обучение, onboarding\n",
    "- 4\tonboarding_complete - Завершение онбординга\n",
    "- 5\tmain_page - Посещение главной страницы\n",
    "- 6\tfirst_deposit - Первый депозит\n",
    "- 7\tasset_purchase - Покупка активов\n",
    "- 8 second_deposit - Второй и последующие депозиты\n",
    "- 9\tasset_purchase - Покупка активов\n",
    "- ... -->"
   ]
  },
  {
   "cell_type": "code",
   "execution_count": 9,
   "id": "2d39b9fd",
   "metadata": {
    "scrolled": false
   },
   "outputs": [
    {
     "name": "stdout",
     "output_type": "stream",
     "text": [
      "(238059, 10)\n",
      "(41032, 10)\n"
     ]
    },
    {
     "data": {
      "image/png": "[encoded data removed]",
      "text/plain": [
       "<Figure size 1400x600 with 1 Axes>"
      ]
     },
     "metadata": {},
     "output_type": "display_data"
    }
   ],
   "source": [
    "# упростим обращение к данным\n",
    "hist, abt = ds['hist'], ds['abt']\n",
    "\n",
    "# фильтруем первый контакт\n",
    "print(hist.shape)\n",
    "first_touch =  hist[hist['event_name']=='install__open_web'].copy()\n",
    "print(first_touch.shape)\n",
    "\n",
    "# новые пользователи\n",
    "newcomers = first_touch.groupby('first_dt')['user_id'].nunique().reset_index(name='usr_cnt')\n",
    "\n",
    "# среднее значение в неделю\n",
    "newcomers['sma'] = newcomers['usr_cnt'].rolling(window=7).mean()\n",
    "# График\n",
    "plt.figure(figsize=(14, 6))\n",
    "plt.bar(newcomers['first_dt'].values, newcomers['usr_cnt'].values, color=pal[1], alpha=0.5, label='Кол-во в день')\n",
    "plt.plot(newcomers['first_dt'].values, newcomers['sma'].values, color=pal[0], lw=2, label='7-дневное sma')\n",
    "plt.title('Динамика привлечения новых пользователей')\n",
    "plt.xlabel('Дата')\n",
    "plt.yticks(np.arange(0, 800, 50))\n",
    "plt.ylabel('Количество пользователей')\n",
    "plt.grid(alpha=0.3)\n",
    "plt.legend(loc='lower right')\n",
    "plt.show()\n"
   ]
  },
  {
   "cell_type": "markdown",
   "id": "f3d8bcd0",
   "metadata": {},
   "source": [
    "Из графика исторических данных видно, что\n",
    "- динамика привлечения новых пользователей очень стабильная\n",
    "- среднее значение держится около 660 пользователей в день\n",
    "- размах значений лежит в диапазоне примерно от 610 до 710 человек "
   ]
  },
  {
   "cell_type": "markdown",
   "id": "2544fa1b",
   "metadata": {
    "id": "2544fa1b"
   },
   "source": [
    "#### 2.2. Анализ воронки событий"
   ]
  },
  {
   "cell_type": "markdown",
   "id": "2fcadef8",
   "metadata": {},
   "source": [
    "**Методология построения воронки**\n",
    "\n",
    "Первичный анализ показал, что пользовательский путь в приложении нелинейный, что приводило к некорректному расчету  \n",
    "пошаговой воронки (конверсия на некоторых этапах превышала 100%). Для построения корректной модели были приняты   \n",
    "следующие допущения:\n",
    "\n",
    "- Под \"депозитом\" понимается единичное пополнение счета.\n",
    "- Пользователи могут приобретать активы только после первого депозита.\n",
    "- При расчете пошаговой воронки на каждом этапе учитывались только те пользователи, которые прошли предыдущий шаг."
   ]
  },
  {
   "cell_type": "code",
   "execution_count": 10,
   "id": "d02644cb",
   "metadata": {},
   "outputs": [
    {
     "data": {
      "image/png": "[encoded data removed]",
      "text/plain": [
       "<Figure size 1200x500 with 2 Axes>"
      ]
     },
     "metadata": {},
     "output_type": "display_data"
    }
   ],
   "source": [
    "# шаги воронки \n",
    "fun_steps = [ 'install__open_web', 'registration', 'introduction', \n",
    "                'onboarding_complete', 'main_page', 'first_deposit', \n",
    "                'asset_purchase', 'second_deposit']\n",
    "\n",
    "# добавляем дату\n",
    "hist['event_dt'] =  hist['event_ts'].dt.normalize()\n",
    "\n",
    "# сортируем данные\n",
    "hist_sorted = hist.sort_values(['user_id', 'event_ts'])\n",
    "\n",
    "# фильтруем по шагам\n",
    "fun_step_data = hist_sorted[hist_sorted['event_name'].isin(fun_steps)]\n",
    "\n",
    "# ------------------------------------------------------------------------------\n",
    "# пользовательский путь нелинейный - поэтому воронку  \n",
    "# считаем, фильтруя пользователей пришедших с предществующего шага\n",
    "prev_step_ids = set(fun_step_data['user_id'])\n",
    "step_ids = {}\n",
    "for idx in range(0, len(fun_steps)):\n",
    "        \n",
    "    this_step_ids  = set(\n",
    "        fun_step_data[\n",
    "            (fun_step_data['event_name'] == fun_steps[idx]) &\n",
    "            (fun_step_data['user_id'].isin(prev_step_ids))\n",
    "        ]['user_id']\n",
    "    )\n",
    "    step_ids[fun_steps[idx]] = len(this_step_ids)\n",
    "    prev_step_ids = this_step_ids\n",
    "    \n",
    "funnel = pd.DataFrame(step_ids.items(), columns=['step', 'usr_cnt'])\n",
    "\n",
    "# классич.\n",
    "funnel['cr_from_first'] = funnel.loc[:, 'usr_cnt'] *100 / \\\n",
    "                            funnel.loc[0, 'usr_cnt']\n",
    "\n",
    "# step by step   \n",
    "funnel['cr_from_prev'] = funnel.loc[:, 'usr_cnt'] *100 / \\\n",
    "                            funnel.shift(1)['usr_cnt']\n",
    "\n",
    "# ------------------------------------------------------------------------------\n",
    "# строии графики\n",
    "fig, ax = plt.subplots(1, 2, figsize=(12, 5))\n",
    "for i, (met,title) in enumerate([('cr_from_first', 'Классическая'),\n",
    "                                ('cr_from_prev', 'Step-by-step')]):\n",
    "    bars = ax[i].bar(funnel['step'], funnel[met], color=pal[i+1])\n",
    "    ax[i].set_title(f'Пользовательский путь ({title} воронка)')\n",
    "    ax[i].set_xlabel('Шаг воронки')\n",
    "    ax[i].set_ylabel('Процент пользователей')\n",
    "    ax[i].bar_label(bars, fmt='%.1f', padding=3)\n",
    "    ax[i].tick_params(axis='x', labelrotation=35)\n",
    "    ax[i].set_ylim(0, 120)\n",
    "\n",
    "plt.tight_layout()\n",
    "plt.show()"
   ]
  },
  {
   "cell_type": "markdown",
   "id": "257dd321",
   "metadata": {},
   "source": [
    "**Анализ пользовательского пути**\n",
    "- обе воронки, классическая и пошаговая, показывают серьезное снижение на этапах \n",
    "    - `first_deposit` \n",
    "    - `asset_purchase`   \n",
    "    - `second_deposit`  \n",
    "- и если  глядя на пошаговую воронку можно еще как-то объяснить снижение на ~20% на шаге `first_deposit`, то   \n",
    "просадка на 45% и 65% на этапах `asset_purchase` и `second_deposit`уже не выглядит разумной\n",
    "- предположение о снижении вовлеченности пользователей из-за потери средств вследствие рискованной бездумной торговли   \n",
    "выглядит правдоподобным."
   ]
  },
  {
   "cell_type": "markdown",
   "id": "7b0af6b6",
   "metadata": {},
   "source": [
    "#### 2.3. Влияние уровня риска на конверсию во второй депозит"
   ]
  },
  {
   "cell_type": "code",
   "execution_count": 11,
   "id": "001bf8b8",
   "metadata": {},
   "outputs": [
    {
     "name": "stdout",
     "output_type": "stream",
     "text": [
      "Количество пользователей до фильтрации 238059\n",
      "Количество пользователей после фильтрации 27685\n"
     ]
    },
    {
     "data": {
      "image/png": "[encoded data removed]",
      "text/plain": [
       "<Figure size 600x600 with 1 Axes>"
      ]
     },
     "metadata": {},
     "output_type": "display_data"
    }
   ],
   "source": [
    "# находим всех у кого есть первый депозит\n",
    "print('Количество пользователей до фильтрации', hist_sorted.shape[0])\n",
    "first_depo_ids = hist[hist['event_name'] == 'first_deposit']['user_id']\n",
    "print('Количество пользователей после фильтрации', first_depo_ids.shape[0])\n",
    "\n",
    "filtered = hist[hist['user_id'].isin(first_depo_ids)]\n",
    "\n",
    "# находим уровень риска пользователя  \n",
    "user_rl = (\n",
    "    filtered[filtered['event_name'] == 'asset_purchase']\n",
    "    .groupby('user_id')['risk_level']\n",
    "    .first()\n",
    "    .reset_index()\n",
    "    .rename(columns={'risk_level': 'user_risk_level'})\n",
    ")\n",
    "user_risk = hist.merge(user_rl, how='left', on='user_id')\n",
    "\n",
    "# группируем пользователей по риску и считаем кол-во\n",
    "risk_group_cnt = (\n",
    "    user_risk\n",
    "    .groupby(['event_name', 'user_risk_level'])['user_id']\n",
    "    .nunique()\n",
    "    .reset_index()\n",
    "    .rename(columns={'user_id': 'usr_cnt'})\n",
    ")\n",
    "\n",
    "# переформатиурем таблицу для удобства \n",
    "risk_pt = risk_group_cnt.pivot(\n",
    "    columns=['event_name'],\n",
    "    index='user_risk_level',\n",
    "    values= 'usr_cnt'\n",
    ").reset_index()\n",
    "\n",
    "# считаем конверсию\n",
    "risk_pt['cr_pct'] = 100 * risk_pt['second_deposit'] / risk_pt['first_deposit']\n",
    "\n",
    "# сделаем сортировку по риску\n",
    "risk_order = ['low', 'medium', 'high']\n",
    "cat_type = CategoricalDtype(categories=risk_order, ordered=True)\n",
    "risk_pt['user_risk_level'] = risk_pt['user_risk_level'].astype(cat_type)\n",
    "risk_pt = risk_pt.sort_values('user_risk_level')\n",
    "\n",
    "# строим график\n",
    "plt.figure(figsize=(6, 6))\n",
    "bars =plt.bar(risk_pt['user_risk_level'], risk_pt['cr_pct'], color=pal[3])\n",
    "plt.title('Конверсия во второй депозит в зависимости от уровня риска')\n",
    "plt.xlabel('Уровень риска первого актива', fontsize=12)\n",
    "plt.ylabel('Конверсия во 2-й депозит, %', fontsize=12)\n",
    "plt.bar_label(bars, fmt='%.1f%%', padding=3, fontsize=11)\n",
    "plt.ylim(0, 50) \n",
    "plt.show()"
   ]
  },
  {
   "cell_type": "markdown",
   "id": "29536326",
   "metadata": {},
   "source": [
    "**Анализ показал сильную зависимость между уровнем риска первого купленного актива и конверсией во второй депозит.**\n",
    "- конверсия пользователей низкого (low) и среднего (medium) риска отличается на несколько процентов - 46.4% и 43%\n",
    "- конверсия пользователей высокого (high) риска существенно ниже - 26.4%\n",
    "\n",
    "Это подтверждает гипотезу о том, что неопытные пользователи, сталкиваясь с убытками от высокорискованных активов,  \n",
    "теряют интерес к продукту."
   ]
  },
  {
   "cell_type": "markdown",
   "id": "27cd2f65",
   "metadata": {},
   "source": [
    "#### 2.4. Анализ ключевой метрики (ARPU) на исторических данных"
   ]
  },
  {
   "cell_type": "code",
   "execution_count": 12,
   "id": "bb29d516",
   "metadata": {},
   "outputs": [
    {
     "data": {
      "image/png": "[encoded data removed]",
      "text/plain": [
       "<Figure size 1000x600 with 2 Axes>"
      ]
     },
     "metadata": {},
     "output_type": "display_data"
    },
    {
     "name": "stdout",
     "output_type": "stream",
     "text": [
      "\n",
      "Все пользователи\n",
      "- Ключевая метрика ARPU: 91.56\n",
      "\n",
      "Платящие\n",
      "- Среднее (ARPPU): 135.70\n",
      "- Стандартное отклонение: 59.90\n",
      "- Медиана: 118.00\n",
      "- 99% платящих находится в диапазоне от 55 до 364  (процентили [0.5, 99.5])\n",
      "\n",
      "\n"
     ]
    }
   ],
   "source": [
    "depos_amnt = (\n",
    "    hist[hist['user_id'].isin(first_touch['user_id'])]\n",
    "    .groupby('user_id')['amount']\n",
    "    .sum()\n",
    "    .reset_index()\n",
    ")\n",
    "\n",
    "# ключевая метрика ARPU (на всех пользователях)\n",
    "total_deposits = depos_amnt['amount'].sum()\n",
    "total_users = first_touch['user_id'].nunique()\n",
    "arpu = total_deposits / total_users\n",
    "\n",
    "# платящие \n",
    "payers_amounts = depos_amnt[depos_amnt['amount'] > 0]['amount']\n",
    "arppu = payers_amounts.mean()\n",
    "std_dev = payers_amounts.std()\n",
    "median = payers_amounts.median()\n",
    "\n",
    "# строим график\n",
    "plot_hist_and_boxplot(\n",
    "    payers_amounts,\n",
    "    'Распределение суммы всех депозитов',\n",
    "    [None, 'Сумма всех депозитов'], \n",
    "    ['Количество пользователей', None], \n",
    "    log_scale=False,\n",
    "    percentiles=[0.5, 50., 99.5])\n",
    "\n",
    "\n",
    "# выводим\n",
    "print(f\"\"\"\n",
    "Все пользователи\n",
    "- Ключевая метрика ARPU: {arpu:.2f}\n",
    "\n",
    "Платящие\n",
    "- Среднее (ARPPU): {arppu:.2f}\n",
    "- Стандартное отклонение: {std_dev:.2f}\n",
    "- Медиана: {median:.2f}\n",
    "- 99% платящих находится в диапазоне от 55 до 364  (процентили [0.5, 99.5])\n",
    "\n",
    "\"\"\")"
   ]
  },
  {
   "cell_type": "markdown",
   "id": "d0d6a31c",
   "metadata": {},
   "source": [
    "Ключевая метрика ARPU (среднее **на всех** пользователей) составляет 91.56.\n",
    "\n",
    "Распределение сумм среди **платящих** пользователей:\n",
    "- среднее значение (ARPPU) составляет 135.70\n",
    "- стандартное отклонение-59.90.\n",
    "- Распределение **сильно скошено вправо**. \n",
    "    - большое стандартное отклонение - значительный разброс сумм и выбросы\n",
    "    - медианный суммарный депозит (118.00) гораздо ниже среднего (135.70)\n",
    "- Основная масса платящих пользователей (99%) вносит депозиты на общую сумму в диапазоне от 55 (0.5 перцентиль) до 364  \n",
    "(99.5 перцентиль).\n"
   ]
  },
  {
   "cell_type": "markdown",
   "id": "688346cf",
   "metadata": {
    "id": "688346cf"
   },
   "source": [
    "---\n",
    "### 3. Исследование результатов А/В эксперимента"
   ]
  },
  {
   "cell_type": "markdown",
   "id": "03f577dd",
   "metadata": {},
   "source": [
    "#### 3.1. Анализ корректности сплитования и аудитории эксперимента"
   ]
  },
  {
   "cell_type": "code",
   "execution_count": 16,
   "id": "f3604a9f",
   "metadata": {},
   "outputs": [
    {
     "data": {
      "text/plain": [
       "'Размер группы A: 4847'"
      ]
     },
     "metadata": {},
     "output_type": "display_data"
    },
    {
     "data": {
      "text/plain": [
       "'Размер группы B: 4568'"
      ]
     },
     "metadata": {},
     "output_type": "display_data"
    },
    {
     "data": {
      "image/png": "[encoded data removed]",
      "text/plain": [
       "<Figure size 800x600 with 1 Axes>"
      ]
     },
     "metadata": {},
     "output_type": "display_data"
    }
   ],
   "source": [
    "\n",
    "group_size = abt.groupby('group')['user_id'].nunique()\n",
    "display(f\"Размер группы A: {group_size['control']}\", \n",
    "        f\"Размер группы B: {group_size['test']}\")\n",
    "\n",
    "plot_group_comparison_bar(\n",
    "    data=group_size,    \n",
    "    title='Размеры групп', \n",
    "    ylabel='Количество уникальных пользователей', \n",
    "    colors=(color_A, color_B)\n",
    ")\n"
   ]
  },
  {
   "cell_type": "markdown",
   "id": "e186f956",
   "metadata": {},
   "source": [
    " **Небольшие расхождения в размерах выборок допустимы**"
   ]
  },
  {
   "cell_type": "code",
   "execution_count": 17,
   "id": "3915b1be",
   "metadata": {},
   "outputs": [
    {
     "data": {
      "image/png": "[encoded data removed]",
      "text/plain": [
       "<Figure size 800x500 with 1 Axes>"
      ]
     },
     "metadata": {},
     "output_type": "display_data"
    }
   ],
   "source": [
    "# Получаем уникальных пользователей\n",
    "users_a = set(abt[abt['group']=='control']['user_id'])\n",
    "users_b = set(abt[abt['group']=='test']['user_id'])\n",
    "\n",
    "# Строим диаграмму Венна\n",
    "plt.figure(figsize=(8,5))\n",
    "v = venn2([users_a, users_b], set_labels=('Группа A', 'Группа B'), set_colors=(color_A, color_B))\n",
    "# убираем прозрачность\n",
    "[patch.set_alpha(1.0) for patch in v.patches if patch]\n",
    "    \n",
    "      \n",
    "plt.title('Пересечение контрольной (A) и тестовой (B) групп')\n",
    "plt.show()"
   ]
  },
  {
   "cell_type": "markdown",
   "id": "ac0e1bb4",
   "metadata": {},
   "source": [
    "**Пересечений выборок контрольной и тестовой групп нет**"
   ]
  },
  {
   "cell_type": "markdown",
   "id": "dad0c7d9",
   "metadata": {
    "id": "dad0c7d9"
   },
   "source": [
    "#### 3.2. Сравнение воронок событий по группам"
   ]
  },
  {
   "cell_type": "code",
   "execution_count": 18,
   "id": "5d65e66c",
   "metadata": {},
   "outputs": [
    {
     "data": {
      "image/png": "[encoded data removed]",
      "text/plain": [
       "<Figure size 1200x600 with 2 Axes>"
      ]
     },
     "metadata": {},
     "output_type": "display_data"
    },
    {
     "data": {
      "image/png": "[encoded data removed]",
      "text/plain": [
       "<Figure size 1200x600 with 2 Axes>"
      ]
     },
     "metadata": {},
     "output_type": "display_data"
    }
   ],
   "source": [
    "# шаги воронки \n",
    "fun_steps = [ 'install__open_web', 'registration', 'introduction', \n",
    "                'onboarding_complete', 'main_page', 'first_deposit', \n",
    "                'asset_purchase', 'second_deposit']\n",
    "\n",
    "# добавляем дату\n",
    "abt['event_dt'] =  abt['event_ts'].dt.normalize()\n",
    "\n",
    "# сортируем данные\n",
    "abt_sorted = abt.sort_values(['user_id', 'event_ts'])\n",
    "\n",
    "# фильтруем по шагам\n",
    "fun_step_data = abt_sorted[abt_sorted['event_name'].isin(fun_steps)]\n",
    "\n",
    "# ------------------------------------------------------------------------------\n",
    "# пользовательский путь нелинейный - поэтому воронку  \n",
    "# считаем, фильтруя пользователей пришедших с предществующего шага\n",
    "abt_funnels = {} # <-- пригодится нам при расчете барьерной метрики\n",
    "for group in ['control', 'test']:\n",
    "    group_data = fun_step_data[fun_step_data['group']==group] \n",
    "    prev_step_ids = set(group_data['user_id'])\n",
    "    step_ids = {}\n",
    "    for step in fun_steps:\n",
    "        this_step_ids  = set(\n",
    "            group_data[\n",
    "                (group_data['event_name'] == step) &\n",
    "                (group_data['user_id'].isin(prev_step_ids))\n",
    "            ]['user_id']\n",
    "        )\n",
    "        step_ids[step] = len(this_step_ids)\n",
    "        prev_step_ids = this_step_ids\n",
    "    \n",
    "    funnel = pd.DataFrame(step_ids.items(), columns=['step', 'usr_cnt'])\n",
    "    \n",
    "    # классич. и step by step воронки\n",
    "    funnel['cr_from_first'] = funnel.loc[:, 'usr_cnt'] *100 / \\\n",
    "                                funnel.loc[0, 'usr_cnt'] \n",
    "    funnel['cr_from_prev'] = funnel.loc[:, 'usr_cnt'] *100 / \\\n",
    "                                funnel.shift(1)['usr_cnt']\n",
    "\n",
    "    abt_funnels[group] = funnel  # <-- пригодится при расчете барьерной метрики\n",
    "    # --------------------------------------------------------------------------\n",
    "    # строии графики\n",
    "    fig, ax = plt.subplots(1, 2, figsize=(12, 6))\n",
    "    fig.suptitle(f'Пользовательский путь (группа {group})', fontsize=14)\n",
    "\n",
    "    for i, (met,title) in enumerate([('cr_from_first', 'Классическая'),\n",
    "                                    ('cr_from_prev', 'Step-by-step')]):\n",
    "        bars = ax[i].bar(funnel['step'], funnel[met], color=pal[i+1])\n",
    "        \n",
    "        \n",
    "        ax[i].set_title(f'{title} воронка')\n",
    "        ax[i].set_xlabel('Шаг воронки')\n",
    "        ax[i].set_ylabel('Процент пользователей')\n",
    "        ax[i].bar_label(bars, fmt='%.1f', padding=3)\n",
    "        ax[i].tick_params(axis='x', labelrotation=35)\n",
    "        ax[i].set_ylim(0, 120)\n",
    "    \n",
    "    # plt.tight_layout()\n",
    "    plt.tight_layout(rect=[0, 0.03, 1, 0.95])\n",
    "    plt.show()\n",
    "    \n",
    "    # print(f'Пользовательский путь (группа {group})')\n",
    "    # print(funnel)"
   ]
  },
  {
   "cell_type": "markdown",
   "id": "d1b2e1c3",
   "metadata": {},
   "source": [
    "- **registration**: до онбординга конверсия практически одинаковая в обеих группах **(control 93.1%, test 93.4%)**  \n",
    "- **onboarding_complete**: падение в тестовой группе **(control 90.0%, test 81.2%)**. Возможно, детальный и   \n",
    "сложный онбординг действительно отпугивает часть пользователей. \n",
    "- **first_deposit**: конверсия из main_page в first_deposit в тесте выше, чем в контроле **(control 79.4%, test 86.3% )**\n",
    "- **asset_purchase**: конверсия в покупку актива в тесте снова значительно выше **(control 54.9%, test 66.2% )**\n",
    "- **second_deposit**: самый большой рост. Конверсия в второй депозит в тестовой группе почти на 12 п.п.   \n",
    "выше **(control 36.9%,  test 49.3%)**\n",
    "\n",
    "Наибольшее падение в тестовой группе происходит на этапе **onboarding_complete**. Оно составляет 19% от предыдущего   \n",
    "шага (100% -> 81%). Возможно стоит подумать над тем как для этого этапа с одной стороны сбалансировать сложность и  \n",
    "детализацию, а с другой информативность .  \n",
    "\n",
    "Отсев на этапе онбординга оставляет более мотивированную аудиторию, что приводит к росту конверсии на последующих  \n",
    "шагах воронки."
   ]
  },
  {
   "cell_type": "markdown",
   "id": "edc02d12",
   "metadata": {},
   "source": [
    "#### 3.3. Влияние онбординга на конверсию во второй депозит (в разрезе риска)"
   ]
  },
  {
   "cell_type": "code",
   "execution_count": 19,
   "id": "2fd4a5cb",
   "metadata": {},
   "outputs": [
    {
     "name": "stdout",
     "output_type": "stream",
     "text": [
      "Количество пользователей до фильтрации 54805\n",
      "Количество пользователей после фильтрации 6215\n"
     ]
    },
    {
     "data": {
      "image/png": "[encoded data removed]",
      "text/plain": [
       "<Figure size 1000x600 with 2 Axes>"
      ]
     },
     "metadata": {},
     "output_type": "display_data"
    }
   ],
   "source": [
    "# находим всех у кого есть первый депозит\n",
    "print('Количество пользователей до фильтрации', abt_sorted.shape[0])\n",
    "first_depo_ids = abt[abt['event_name'] == 'first_deposit']['user_id']\n",
    "print('Количество пользователей после фильтрации', first_depo_ids.shape[0])\n",
    "\n",
    "filtered = abt[abt['user_id'].isin(first_depo_ids)]\n",
    "\n",
    "# находим уровень риска пользователя  \n",
    "user_rl = (\n",
    "    filtered[filtered['event_name'] == 'asset_purchase']\n",
    "    .groupby('user_id')['risk_level']\n",
    "    .first()\n",
    "    .reset_index()\n",
    "    .rename(columns={'risk_level': 'user_risk_level'})\n",
    ")\n",
    "user_risk = abt.merge(user_rl, how='left', on='user_id')\n",
    "\n",
    "# группируем пользователей по риску и считаем кол-во\n",
    "risk_group_cnt = (\n",
    "    user_risk\n",
    "    .groupby(['event_name', 'group', 'user_risk_level'])['user_id']\n",
    "    .nunique()\n",
    "    .reset_index()\n",
    "    .rename(columns={'user_id': 'usr_cnt'})\n",
    ")\n",
    "\n",
    "\n",
    "fig, ax = plt.subplots(1, 2, figsize=(10, 6))\n",
    "risk_order = ['low', 'medium', 'high']\n",
    "cat_type = CategoricalDtype(categories=risk_order, ordered=True)\n",
    "\n",
    "fig.suptitle(f'Конверсия во второй депозит от уровня риска', fontsize=14)\n",
    "for i, group in enumerate(['control', 'test']):\n",
    "    group_data = risk_group_cnt[risk_group_cnt['group']==group]\n",
    "    \n",
    "    # переформатиурем таблицу для удобства \n",
    "    risk_pt = group_data.pivot(\n",
    "        columns=['event_name'],\n",
    "        index='user_risk_level',\n",
    "        values= 'usr_cnt'\n",
    "    ).reset_index()\n",
    "\n",
    "    # считаем конверсию\n",
    "    risk_pt['cr_pct'] = 100 * risk_pt['second_deposit'] / risk_pt['first_deposit']\n",
    "\n",
    "    # сделаем сортировку по риску\n",
    "    risk_pt['user_risk_level'] = risk_pt['user_risk_level'].astype(cat_type)\n",
    "    risk_pt = risk_pt.sort_values('user_risk_level')\n",
    "\n",
    "    # ------------------------------------------------------------------------------\n",
    "    # строим график\n",
    "    bars = ax[i].bar(risk_pt['user_risk_level'], risk_pt['cr_pct'], color=pal[3])\n",
    "    ax[i].set_title(f'Группа {group}')\n",
    "    ax[i].set_xlabel('Уровень риска первого актива', fontsize=12)\n",
    "    ax[i].set_ylabel('Конверсия во 2-й депозит, %', fontsize=12)\n",
    "    ax[i].bar_label(bars, fmt='%.1f%%', padding=3, fontsize=11)\n",
    "    ax[i].tick_params(axis='x', labelrotation=0)\n",
    "    ax[i].set_ylim(0, 65)\n",
    "    plt.tight_layout(rect=[0, 0.03, 1, 0.95])\n",
    "\n",
    "plt.show()"
   ]
  },
  {
   "cell_type": "markdown",
   "id": "4b4d262d",
   "metadata": {},
   "source": [
    "**Проверка гипотезы о равенстве долей (конверсий) по уровням риска**\n",
    "\n",
    "Для каждого уровня риска (Low, Medium, High) проверяется следующая пара гипотез:\n",
    "- **H₀ (Нулевая гипотеза):** Конверсии во второй депозит в тестовой и контрольной группах **равны**.\n",
    "- **H₁ (Альтернативная гипотеза):** Конверсии во второй депозит в тестовой и контрольной группах **статистически значимо**  \n",
    "**отличаются**  \n"
   ]
  },
  {
   "cell_type": "code",
   "execution_count": 20,
   "id": "748146a9",
   "metadata": {},
   "outputs": [
    {
     "name": "stdout",
     "output_type": "stream",
     "text": [
      "Проверка стат. значимости для конверсии во второй депозит\n",
      "\n",
      "Уровень риска: LOW\n",
      "CR Control: 49.82% (142.0 / 285.0)\n",
      "CR Test:    57.46% (285.0 / 496.0)\n",
      "P-value:    0.0391 < 0.05. Различия статистически ЗНАЧИМЫ.\n",
      "\n",
      "\n",
      "Уровень риска: MEDIUM\n",
      "CR Control: 44.54% (265.0 / 595.0)\n",
      "CR Test:    47.04% (350.0 / 744.0)\n",
      "P-value:    0.3607 > 0.05. Различия статистически не значимы.\n",
      "\n",
      "\n",
      "Уровень риска: HIGH\n",
      "CR Control: 27.66% (247.0 / 893.0)\n",
      "CR Test:    46.00% (339.0 / 737.0)\n",
      "P-value:    0.0000 < 0.05. Различия статистически ЗНАЧИМЫ.\n",
      "\n"
     ]
    }
   ],
   "source": [
    "# переформатируем таблицу\n",
    "risk_pivot = risk_group_cnt.pivot_table(\n",
    "    index=['user_risk_level', 'group'],\n",
    "    columns='event_name',\n",
    "    values='usr_cnt',\n",
    "    fill_value=0\n",
    ")\n",
    "\n",
    "# проводим z-тесты\n",
    "\n",
    "alpha = 0.05\n",
    "\n",
    "print(\"Проверка стат. значимости для конверсии во второй депозит\")\n",
    "\n",
    "for risk_level in ['low', 'medium', 'high']:\n",
    "    \n",
    "    # Извлекаем числа для контрольной группы (A)\n",
    "    control_data = risk_pivot.loc[(risk_level, 'control')]\n",
    "    n_a = control_data.get('first_deposit', 0) # Испытания\n",
    "    m_a = control_data.get('second_deposit', 0) # Успехи\n",
    "    \n",
    "    # Извлекаем числа для тестовой группы (B)\n",
    "    test_data = risk_pivot.loc[(risk_level, 'test')]\n",
    "    n_b = test_data.get('first_deposit', 0) # Испытания\n",
    "    m_b = test_data.get('second_deposit', 0) # Успехи\n",
    "    \n",
    "    # Рассчитываем доли успехов\n",
    "    p_a = m_a / (n_a)\n",
    "    p_b = m_b / (n_b)\n",
    "    \n",
    "    # Проводим z-тест\n",
    "    stat_ztest, p_val_ztest = proportions_ztest(\n",
    "        [m_a, m_b], # <-- Порядок: тест, контроль\n",
    "        [n_a, n_b],\n",
    "        alternative='two-sided' \n",
    "    )\n",
    "    \n",
    "    # Формируем вывод\n",
    "    res = ('<', 'ЗНАЧИМЫ') if p_val_ztest < alpha else ('>', 'не значимы')\n",
    "    \n",
    "    print(f\"\"\"\n",
    "Уровень риска: {risk_level.upper()}\n",
    "CR Control: {p_a:.2%} ({m_a} / {n_a})\n",
    "CR Test:    {p_b:.2%} ({m_b} / {n_b})\n",
    "P-value:    {p_val_ztest:.4f} {res[0]} {alpha}. Различия статистически {res[1]}.\n",
    "\"\"\")"
   ]
  },
  {
   "cell_type": "markdown",
   "id": "2139fb81",
   "metadata": {},
   "source": [
    "**Контрольная группа (старый онбординг):**\n",
    "- чем выше риск актива, тем ниже конверсия во второй депозит (low: **49.8%**, medium: **44.5%**, high: **27.7%**).\n",
    "- результат согласуется с предположением о том, что пользователи, не понимая рисков, покупают рискованные активы \n",
    "и уходят из продукта.\n",
    "\n",
    "**Тестовая группа (новый онбординг):**\n",
    "- Конверсия выросла во всех сегментах.\n",
    "- **high-risk**: наибольший рост: с 27.7% до 46.0% (18 п.п.). Это изменение **статистически значимо** (p-value < 0.001).\n",
    "- **low-risk**: рост с 49.8% до 57.5% (7.5 п.п.) также является **статистически значимым** (p-value = 0.039).\n",
    "- **medium-risk**: рост **статистически НЕ значим** (p-value = 0.361).\n",
    "\n",
    "Новый онбординг **статистически значимо** решает проблему с низким удержанием \"рискованных\" пользователей (high-risk).  \n",
    "Он также **статистически значимо** улучшает конверсию для самой осторожной группы (low-risk)\n",
    "У клиентов со средним риском (medium-risk) не удалось зафиксировать статистически значимое изменение метрики.\n",
    "\n",
    "Таким образом обучение отсеяло часть незамотивированных клиентов, а у остальных повысило лояльность и готовность  \n",
    "пополнять второй депозит.  "
   ]
  },
  {
   "cell_type": "markdown",
   "id": "34a2a529",
   "metadata": {},
   "source": [
    "#### 3.4. Статистический анализ метрик A/B-теста"
   ]
  },
  {
   "cell_type": "markdown",
   "id": "2c684f58",
   "metadata": {},
   "source": [
    "#### Ключевая метрика (ARPU)\n",
    "\n",
    "ARPU является ratio-метрикой, которая рассчитывается как **Сумма депозитов / Количество пользователей**.  \n",
    "На уровне пользователя это отношение **Y(u) / X(u)**, где:\n",
    "- **Y(u)**-это случайная величина, представляющая суммарный депозит пользователя\n",
    "- **X(u)**-это знаменатель, который для каждого пользователя равен 1.\n",
    "\n",
    "Поскольку знаменатель **X(u)** является константой, то формула линеаризации L(u) = Y(u) - k * X(u) превращается в  \n",
    "L(u) = amount(u) - k * 1. Можно применять **стандартный t-тест**. \n",
    "\n",
    "\n",
    "**Проверка гипотезы о равенстве средних**\n",
    "\n",
    "- **H₀ (Нулевая гипотеза):** Средние значения метрики в контрольной и тестовой группах **равны**.\n",
    "- **H₁ (Альтернативная гипотеза):** Средние значения метрики в контрольной и тестовой группах **статистически значимо**  \n",
    "**отличаются**."
   ]
  },
  {
   "cell_type": "code",
   "execution_count": 21,
   "id": "551b0955",
   "metadata": {},
   "outputs": [
    {
     "name": "stdout",
     "output_type": "stream",
     "text": [
      "\n",
      "Ключевая метрика ARPU:\n",
      "  - Абсолютное изменение: +2.22\n",
      "  - Относительное изменение: +2.46%\n",
      "\n",
      "T-статистика: 0.958\n",
      "P-value: 0.338 > 0.05\n",
      "\n",
      "Вывод: Различия статистически не значимы\n",
      "\n"
     ]
    }
   ],
   "source": [
    "# рассчитываем метрики \n",
    "arpu = abt.groupby('group').agg(\n",
    "    total_deposits=('amount', 'sum'),\n",
    "    total_users=('user_id', 'nunique')\n",
    ")\n",
    "\n",
    "# вычисляем ARPU\n",
    "arpu['arpu'] = arpu['total_deposits'] / arpu['total_users']\n",
    "arpu['abs_diff'] = arpu['arpu'].diff() \n",
    "arpu['rel_diff'] = arpu['arpu'].pct_change() * 100\n",
    "\n",
    "\n",
    "# ------------------------------------------------------------------------------\n",
    "# проверим значимость\n",
    "\n",
    "# агрегируем данные на уровне пользателей и групп \n",
    "usr_data = abt.pivot_table(\n",
    "    index=['user_id', 'group'], \n",
    "    values='amount',\n",
    "    aggfunc='sum',\n",
    "    fill_value=0\n",
    ").reset_index()\n",
    "    \n",
    "# разобъем на группы\n",
    "control = usr_data[usr_data['group'] == 'control']['amount']\n",
    "test = usr_data[usr_data['group'] == 'test']['amount']\n",
    "\n",
    "# применяем t-тест (можем потому что в знаменателе 1)\n",
    "t_stat, p_value = stats.ttest_ind(\n",
    "    test, \n",
    "    control, \n",
    "    equal_var=False\n",
    ")\n",
    "\n",
    "alpha = 0.05\n",
    "\n",
    "# ------------------------------------------------------------------------------\n",
    "# выводим результат\n",
    "res = ('>',  'не ') if p_value > alpha else ('<', '')\n",
    "\n",
    "print(f\"\"\"\n",
    "Ключевая метрика ARPU:\n",
    "  - Абсолютное изменение: {arpu.loc['test', 'abs_diff']:+.2f}\n",
    "  - Относительное изменение: {arpu.loc['test', 'rel_diff']:+.2f}%\n",
    "\n",
    "T-статистика: {t_stat:.3f}\n",
    "P-value: {p_value:.3f} {res[0]} {alpha}\n",
    "\n",
    "Вывод: Различия статистически {res[1]}значимы\n",
    "\"\"\"      \n",
    ")\n",
    "\n"
   ]
  },
  {
   "cell_type": "markdown",
   "id": "9150ccdf",
   "metadata": {},
   "source": [
    "**Прирост ARPU в тестовой группе есть  +2.22 (отн. изм. +2.46%), но различия статистически не значимы -  p-value = 0.338** "
   ]
  },
  {
   "cell_type": "markdown",
   "id": "0d7d0853",
   "metadata": {},
   "source": [
    "#### Барьерная метрика (CR в первый депозит)\n",
    "\n",
    "**Проверка гипотезы о равенстве долей (конверсий)**\n",
    "\n",
    "- **H₀ (Нулевая гипотеза):** Конверсии в контрольной и тестовой группах **равны**.\n",
    "- **H₁ (Альтернативная гипотеза):** Конверсии в контрольной и тестовой группах **статистически значимо отличаются**.\n"
   ]
  },
  {
   "cell_type": "code",
   "execution_count": 22,
   "id": "5b20714c",
   "metadata": {},
   "outputs": [
    {
     "name": "stdout",
     "output_type": "stream",
     "text": [
      "Предпосылка о достаточном количестве данных выполняется!\n",
      "\n",
      "n_a=4512,  n_b=4265\n",
      "m_a=3228,  m_b=2987\n",
      "p_a=0.7154,  p_b=0.7004\n",
      "\n",
      "Конверсия в контроле: 71.54%\n",
      "Конверсия в тесте: 70.04%\n",
      "\n",
      "P-value: 0.120543 > 0.05\n",
      "Нулевая гипотеза находит подтверждение!\n",
      "\n"
     ]
    }
   ],
   "source": [
    "# ранее мы завели словарь с воронками abt_funnels\n",
    "# переобозначим чтобы сделать код чище\n",
    "fun = abt_funnels\n",
    "\n",
    "# сделаем поле step индексом\n",
    "[v.set_index('step', inplace=True) for v in fun.values() if 'step' in v.columns] \n",
    "\n",
    "# количество испытаний A и B\n",
    "n_a = fun['control'].loc['registration', 'usr_cnt']\n",
    "n_b = fun['test'].loc['registration', 'usr_cnt']\n",
    "\n",
    "# количество успехов A и B\n",
    "m_a = fun['control'].loc['first_deposit', 'usr_cnt']\n",
    "m_b = fun['test'].loc['first_deposit', 'usr_cnt']\n",
    "\n",
    "# рассчитываем доли успехов (вероятности)\n",
    "p_a, p_b = m_a/n_a, m_b/n_b \n",
    "\n",
    "if (p_a*n_a > 10)and((1-p_a)*n_a > 10)and(p_b*n_b > 10)and((1-p_b)*n_b > 10):\n",
    "    print('Предпосылка о достаточном количестве данных выполняется!')\n",
    "else:\n",
    "    print('Предпосылка о достаточном количестве данных НЕ выполняется!')\n",
    "\n",
    "\n",
    "# ------------------------------------------------------------------------------\n",
    "alpha = 0.05 \n",
    "\n",
    "stat_ztest, p_val_ztest = proportions_ztest(\n",
    "    [m_a, m_b],\n",
    "    [n_a, n_b],\n",
    "    alternative='two-sided' \n",
    ")\n",
    "\n",
    "# ------------------------------------------------------------------------------\n",
    "# выводим результат\n",
    "res = ('>', '') if p_val_ztest > alpha else ('<', 'не ')\n",
    "\n",
    "print(f\"\"\"\n",
    "n_a={n_a},  n_b={n_b}\n",
    "m_a={m_a},  m_b={m_b}\n",
    "p_a={p_a:.4f},  p_b={p_b:.4f}\n",
    "    \n",
    "Конверсия в контроле: {p_a:.2%}\n",
    "Конверсия в тесте: {p_b:.2%}\n",
    "\n",
    "P-value: {p_val_ztest:.6f} {res[0]} {alpha}\n",
    "Нулевая гипотеза {res[1]}находит подтверждение!\n",
    "\"\"\"      \n",
    ")\n"
   ]
  },
  {
   "cell_type": "markdown",
   "id": "e97799b2",
   "metadata": {},
   "source": [
    "**Гипотеза H1 о различии барьерной метрики (конверсия из регистрации в первый депозит) в контрольной и тестовой группе не**  \n",
    "**нашла подтверждения.**"
   ]
  },
  {
   "cell_type": "markdown",
   "id": "e2d0e013",
   "metadata": {},
   "source": [
    "#### Вспомогательная метрика 1 (CR во второй депозит)\n",
    "\n",
    "**Проверка гипотезы о равенстве долей (конверсий)**\n",
    "\n",
    "- **H₀ (Нулевая гипотеза):** Конверсии в контрольной и тестовой группах **равны**.\n",
    "- **H₁ (Альтернативная гипотеза):** Конверсии в контрольной и тестовой группах **статистически значимо отличаются**.\n"
   ]
  },
  {
   "cell_type": "code",
   "execution_count": 23,
   "id": "348b6756",
   "metadata": {},
   "outputs": [
    {
     "name": "stdout",
     "output_type": "stream",
     "text": [
      "Предпосылка о достаточном количестве данных выполняется!\n",
      "\n",
      "n_a=3228,  n_b=2987\n",
      "m_a=654,  m_b=974\n",
      "p_a=0.2026,  p_b=0.3261\n",
      "\n",
      "Конверсия в контроле: 20.26%\n",
      "Конверсия в тесте: 32.61%\n",
      "\n",
      "P-value: 0.000000 < 0.05\n",
      "Нулевая гипотеза не находит подтверждение!\n",
      "\n"
     ]
    }
   ],
   "source": [
    "# количество испытаний A и B\n",
    "n_a = fun['control'].loc['first_deposit', 'usr_cnt']\n",
    "n_b = fun['test'].loc['first_deposit', 'usr_cnt']\n",
    "\n",
    "# количество успехов A и B\n",
    "m_a = fun['control'].loc['second_deposit', 'usr_cnt']\n",
    "m_b = fun['test'].loc['second_deposit', 'usr_cnt']\n",
    "\n",
    "# рассчитываем доли успехов (вероятности)\n",
    "p_a, p_b = m_a/n_a, m_b/n_b \n",
    "\n",
    "if (p_a*n_a > 10)and((1-p_a)*n_a > 10)and(p_b*n_b > 10)and((1-p_b)*n_b > 10):\n",
    "    print('Предпосылка о достаточном количестве данных выполняется!')\n",
    "else:\n",
    "    print('Предпосылка о достаточном количестве данных НЕ выполняется!')\n",
    "\n",
    "\n",
    "# ------------------------------------------------------------------------------\n",
    "alpha = 0.05 \n",
    "\n",
    "stat_ztest, p_val_ztest = proportions_ztest(\n",
    "    [m_a, m_b],\n",
    "    [n_a, n_b],\n",
    "    alternative='two-sided' \n",
    ")\n",
    "\n",
    "# ------------------------------------------------------------------------------\n",
    "# выводим результат\n",
    "res = ('>', '') if p_val_ztest > alpha else ('<', 'не ')\n",
    "\n",
    "print(f\"\"\"\n",
    "n_a={n_a},  n_b={n_b}\n",
    "m_a={m_a},  m_b={m_b}\n",
    "p_a={p_a:.4f},  p_b={p_b:.4f}\n",
    "    \n",
    "Конверсия в контроле: {p_a:.2%}\n",
    "Конверсия в тесте: {p_b:.2%}\n",
    "\n",
    "P-value: {p_val_ztest:.6f} {res[0]} {alpha}\n",
    "Нулевая гипотеза {res[1]}находит подтверждение!\n",
    "\"\"\"      \n",
    ")\n"
   ]
  },
  {
   "cell_type": "markdown",
   "id": "4eb02602",
   "metadata": {},
   "source": [
    "**Поскольку p-value < 0.05, отвергаем нулевую гипотезу о равенстве конверсий из первого депозита во второй.**"
   ]
  },
  {
   "cell_type": "markdown",
   "id": "ea6a4760",
   "metadata": {},
   "source": [
    "#### Вспомогательная метрика 2 (ARPPU)\n",
    "(расчет аналогично ARPU, только теперь учитываются только платящие пользователи)\n",
    "\n",
    "**Проверка гипотезы о равенстве средних**\n",
    "\n",
    "- **H₀ (Нулевая гипотеза):** Средние значения метрики в контрольной и тестовой группах **равны**.\n",
    "- **H₁ (Альтернативная гипотеза):** Средние значения метрики в контрольной и тестовой группах **статистически значимо**  \n",
    "**отличаются**."
   ]
  },
  {
   "cell_type": "code",
   "execution_count": 24,
   "id": "2de12354",
   "metadata": {},
   "outputs": [
    {
     "name": "stdout",
     "output_type": "stream",
     "text": [
      "\n",
      "Вспомогательная метрика 2 - ARPPU:\n",
      "\n",
      "Абсолютное изменение: +5.90\n",
      "Относительное изменение: +4.35%\n",
      "\n",
      "T-статистика: 2.054\n",
      "P-value: 0.040 < 0.05\n",
      "Вывод: Различия статистически значимы\n",
      "\n"
     ]
    }
   ],
   "source": [
    "# агрегируем данные на уровне пользователей \n",
    "usr_data = abt.pivot_table(\n",
    "    index=['user_id', 'group'], \n",
    "    values='amount',\n",
    "    aggfunc='sum',\n",
    "    fill_value=0\n",
    ").reset_index()\n",
    "\n",
    "# фильтруем платящих\n",
    "paying_users = usr_data[usr_data['amount'] > 0]\n",
    "\n",
    "# агрегируем группы \n",
    "arppu = paying_users.groupby('group').agg(\n",
    "    total_deposits=('amount', 'sum'),\n",
    "    paying_users=('user_id', 'nunique')\n",
    ")\n",
    "\n",
    "# вычисляем ARPPU\n",
    "arppu['arppu'] = arppu['total_deposits'] / arppu['paying_users']\n",
    "arppu['abs_diff'] = arppu['arppu'].diff() \n",
    "arppu['rel_diff'] = arppu['arppu'].pct_change() * 100\n",
    "\n",
    "# ------------------------------------------------------------------------------\n",
    "# проверим значимость\n",
    "alpha = 0.05\n",
    "# разобъем на группы\n",
    "control = paying_users[paying_users['group'] == 'control']['amount']\n",
    "test = paying_users[paying_users['group'] == 'test']['amount']\n",
    "\n",
    "# применяем t-тест (т. Уэлча)\n",
    "t_stat, p_value = stats.ttest_ind(\n",
    "    test, \n",
    "    control, \n",
    "    equal_var=False\n",
    ")\n",
    "\n",
    "res = ('>',  'не ') if p_value > alpha else ('<', '')\n",
    "\n",
    "# ------------------------------------------------------------------------------\n",
    "# выводим результат\n",
    "print(f\"\"\"\n",
    "Вспомогательная метрика 2 - ARPPU:\n",
    "\n",
    "Абсолютное изменение: {arppu.loc['test', 'abs_diff']:+.2f}\n",
    "Относительное изменение: {arppu.loc['test', 'rel_diff']:+.2f}%\n",
    "      \n",
    "T-статистика: {t_stat:.3f}\n",
    "P-value: {p_value:.3f} {res[0]} {alpha}\n",
    "Вывод: Различия статистически {res[1]}значимы\n",
    "\"\"\"      \n",
    ")\n"
   ]
  },
  {
   "cell_type": "markdown",
   "id": "9298de69",
   "metadata": {},
   "source": [
    "**Поскольку p-value < 0.05, отвергаем нулевую гипотезу о равенстве средних. Значения метрики ARPPU статистически значимо**   \n",
    "**отличаются в контрольной и тестовой группе**"
   ]
  },
  {
   "cell_type": "markdown",
   "id": "0c4968a6",
   "metadata": {},
   "source": [
    "#### Накопленная динамика изменения по дням эксперимента для каждой группы и стабильность p-value во время эксперимента."
   ]
  },
  {
   "cell_type": "code",
   "execution_count": null,
   "id": "3ba13bac",
   "metadata": {},
   "outputs": [
    {
     "data": {
      "image/png": "[encoded data removed]",
      "text/plain": [
       "<Figure size 1200x1000 with 2 Axes>"
      ]
     },
     "metadata": {},
     "output_type": "display_data"
    }
   ],
   "source": [
    "\n",
    "# пользователь-группа\n",
    "user_group = abt[['user_id', 'group']].drop_duplicates().set_index('user_id')\n",
    "\n",
    "# получаем уникальные отсортированные даты эксперимента\n",
    "daily_dates = sorted(abt['event_dt'].unique())\n",
    "\n",
    "# списки для хранения накоплений\n",
    "cum_results = []\n",
    "\n",
    "# итерируемся по дням\n",
    "for current_date in daily_dates:\n",
    "    # фильтруем данные\n",
    "    cum_data = abt[abt['event_dt'] <= current_date]\n",
    "    \n",
    "    # ARPU \n",
    "    metrics = cum_data.groupby('group').agg(\n",
    "        total_deposits=('amount', 'sum'),\n",
    "        total_users=('user_id', 'nunique')\n",
    "    )\n",
    "    metrics['arpu'] = metrics['total_deposits'] / metrics['total_users']\n",
    "    \n",
    "    # p-value\n",
    "    # считаем кум. суммы только для активных\n",
    "    user_cumulative_sum = cum_data.groupby('user_id')['amount'].sum()\n",
    "    \n",
    "    # присоединяем кум. суммы ко всем\n",
    "    full_user_data = user_group.join(user_cumulative_sum).fillna(0)\n",
    "    \n",
    "    # тест на ПОЛНЫХ данных\n",
    "    control_amounts = full_user_data[full_user_data['group'] == 'control']['amount']\n",
    "    test_amounts = full_user_data[full_user_data['group'] == 'test']['amount']\n",
    "    \n",
    "    t_stat, p_value = stats.ttest_ind(\n",
    "        test_amounts, \n",
    "        control_amounts, \n",
    "        equal_var=False\n",
    "    )\n",
    "    \n",
    "    # user_level_df = cum_data.pivot_table(\n",
    "    #     index='user_id', columns='group', values='amount',\n",
    "    #     aggfunc='sum', fill_value=0\n",
    "    # )\n",
    "    \n",
    "    # t_stat, p_value = stats.ttest_ind(\n",
    "    #     user_level_df['test'], \n",
    "    #     user_level_df['control'], \n",
    "    #     equal_var=False\n",
    "    # )\n",
    "    \n",
    "    # сохраняем результаты\n",
    "    cum_results.append({\n",
    "        'date': current_date,\n",
    "        'arpu_control': metrics.loc['control', 'arpu'],\n",
    "        'arpu_test': metrics.loc['test', 'arpu'],\n",
    "        'p_value': p_value\n",
    "    })\n",
    "\n",
    "# преобразуем в df\n",
    "results = pd.DataFrame(cum_results)\n",
    "\n",
    "\n",
    "# ------------------------------------------------------------------------------\n",
    "# строим графики\n",
    "fig, axs = plt.subplots(2, 1, figsize=(12, 10), sharex=True)\n",
    "fig.suptitle('Накопительная динамика ключевой метрики (ARPU) и P-value', fontsize=16)\n",
    "\n",
    "# ARPU\n",
    "axs[0].plot(results['date'], results['arpu_control'], label='Control ARPU')\n",
    "axs[0].plot(results['date'], results['arpu_test'], label='Test ARPU')\n",
    "axs[0].set_title('Динамика ARPU')\n",
    "axs[0].set_ylabel('ARPU')\n",
    "axs[0].legend()\n",
    "axs[0].grid(True, axis='y', linestyle='--', alpha=0.6)\n",
    "\n",
    "# P-value\n",
    "axs[1].plot(results['date'], results['p_value'], label='P-value', color='red', \n",
    "            marker= 'o', markersize=4)\n",
    "axs[1].axhline(0.05, color='black', linestyle='--', label='Уровень значимости (0.05)')\n",
    "axs[1].set_title('Динамика P-value')\n",
    "axs[1].set_xlabel('Дата')\n",
    "axs[1].set_ylabel('P-value')\n",
    "axs[1].legend()\n",
    "axs[1].grid(True, axis='y', linestyle='--', alpha=0.6)\n",
    "# Добавление значений рядом с каждой точкой\n",
    "for x, y in zip(results['date'], results['p_value']):\n",
    "    axs[1].text(x, y+ 0.03, f'{y:.3f}', fontsize=9, \n",
    "                ha='center', va='bottom', color='grey')\n",
    "\n",
    "\n",
    "\n",
    "# Добавляем вертикальные линии вручную на оба графика\n",
    "for date in results['date']:\n",
    "    axs[0].axvline(x=date, color='lightgrey', linestyle='--', linewidth=0.5)\n",
    "    axs[1].axvline(x=date, color='lightgrey', linestyle='--', linewidth=0.5)\n",
    "\n",
    "plt.xticks(rotation=0)\n",
    "plt.tight_layout(rect=[0, 0.03, 1, 0.95])\n",
    "plt.show()  \n",
    "\n",
    "# print(results)"
   ]
  },
  {
   "cell_type": "markdown",
   "id": "18655128",
   "metadata": {},
   "source": [
    "- Накопительный ARPU для обеих групп растет со временем, при этом кривая теста в итоге незначительно обгоняет контроль.\n",
    "- График p-value после начального периода колебаний **стабилизируется значительно выше** уровня 0.05.\n",
    "- Это говорит о том, что наблюдаемая разница в ARPU является **стабильно незначимой** на протяжении большей части  \n",
    "эксперимента.\n",
    "\n",
    "Несмотря на стабильный результат, **проверка мощности остается актуальной**, чтобы подтвердить, что наш тест был  \n",
    "достаточно сильным, чтобы мы могли доверять полученному результату."
   ]
  },
  {
   "cell_type": "markdown",
   "id": "6a922ae2",
   "metadata": {},
   "source": [
    "#### Мощность"
   ]
  },
  {
   "cell_type": "code",
   "execution_count": 26,
   "id": "735a6740",
   "metadata": {},
   "outputs": [
    {
     "name": "stdout",
     "output_type": "stream",
     "text": [
      "\n",
      "- Размер эффекта (d Коэна): -0.0177\n",
      "- Мощность теста: 13.77%\n",
      "\n",
      "Вывод: Мощность теста ниже 80%. Вероятна ошибка II рода.\n",
      "\n"
     ]
    }
   ],
   "source": [
    "# размеры групп (всех пользователей)\n",
    "n_control = abt[abt['group'] == 'control']['user_id'].nunique()\n",
    "n_test = abt[abt['group'] == 'test']['user_id'].nunique()\n",
    "\n",
    "# данные по суммам депозитов для всех пользователей (включая нули)\n",
    "usr_data = abt.pivot_table(\n",
    "    index='user_id', \n",
    "    columns='group',\n",
    "    values='amount',\n",
    "    aggfunc='sum',\n",
    "    fill_value=0\n",
    ")\n",
    "control_amounts = usr_data['control']\n",
    "test_amounts = usr_data['test']\n",
    "\n",
    "# эффект, который хотим измерить (стандартизированный)\n",
    "# Это разница средних, деленная на объединенное стандартное отклонение\n",
    "# Называется \"d Коэна\"\n",
    "mean_diff = test_amounts.mean() - control_amounts.mean()\n",
    "std_control = control_amounts.std(ddof=1)\n",
    "std_test = test_amounts.std(ddof=1)\n",
    "\n",
    "# объединенное стандартное отклонение\n",
    "pooled_std = np.sqrt(\n",
    "    ((n_control - 1) * std_control**2 + (n_test - 1) * std_test**2) / \n",
    "    (n_control + n_test - 2)\n",
    ")\n",
    "\n",
    "effect_size = mean_diff / pooled_std\n",
    "\n",
    "alpha = 0.05\n",
    "# соотношение размеров выборок\n",
    "ratio = n_test / n_control\n",
    "\n",
    "# инициализируем класс для анализа мощности\n",
    "power_analyzer = TTestIndPower()\n",
    "\n",
    "# рассчитываем мощность\n",
    "power = power_analyzer.solve_power(\n",
    "    effect_size=effect_size, # какой эффект мы ищем\n",
    "    nobs1=n_control,         # размер первой выборки\n",
    "    alpha=alpha,             # уровень значимости\n",
    "    ratio=ratio,             # соотношение выборок\n",
    "    power=None,              # этот параметр мы и хотим найти\n",
    "    alternative='two-sided'\n",
    ")\n",
    "\n",
    "res_str = (\"Мощность теста достаточна.\", \n",
    "           \"Мощность теста ниже 80%. Вероятна ошибка II рода.\")\n",
    "conclusion_text = res_str[0] if power >= 0.8 else res_str[1]\n",
    "\n",
    "print(f\"\"\"\n",
    "- Размер эффекта (d Коэна): {effect_size:.4f}\n",
    "- Мощность теста: {power:.2%}\n",
    "\n",
    "Вывод: {conclusion_text}\n",
    "\"\"\")"
   ]
  },
  {
   "cell_type": "markdown",
   "id": "bd297f5b",
   "metadata": {},
   "source": [
    "**Мощность теста получилась 13.77%,** что является крайне низким значением. Типовые значения обычно находятся   \n",
    "около 80%. Что означает, что велика вероятность ошибки II рода - не обнаружить эффект если он есть. По этой причине  \n",
    "**отсутствие стат. значимого прироста ключевой метрики не должно быть причиной отказа от внедрения новой фичи**. \n",
    "\n",
    "**Необходимо провести более масштабное исследование с большим объёмом выборки и более длительным периодом   \n",
    "проведения эксперимента. Это позволит повысить мощность теста и получить более достоверные результаты.**\n"
   ]
  },
  {
   "cell_type": "markdown",
   "id": "97420130",
   "metadata": {},
   "source": [
    "---\n",
    "\n",
    "### 4. Анализ изменений суммы депозитов на платящего пользователя"
   ]
  },
  {
   "cell_type": "code",
   "execution_count": 27,
   "id": "ad1b9b28",
   "metadata": {},
   "outputs": [
    {
     "name": "stderr",
     "output_type": "stream",
     "text": [
      "100%|██████████| 1000/1000 [00:00<00:00, 3761.85it/s]\n"
     ]
    },
    {
     "name": "stdout",
     "output_type": "stream",
     "text": [
      "\n",
      "    25-й перцентиль контрольной группы: 95.00\n",
      "    25-й перцентиль тестовой группы: 48.00\n",
      "    95%-й доверительный интервал разности 25-х перцентилей [-50.00, -44.00]\n",
      "    \n"
     ]
    },
    {
     "name": "stderr",
     "output_type": "stream",
     "text": [
      "100%|██████████| 1000/1000 [00:00<00:00, 3764.34it/s]\n"
     ]
    },
    {
     "name": "stdout",
     "output_type": "stream",
     "text": [
      "\n",
      "    50-й перцентиль контрольной группы: 118.00\n",
      "    50-й перцентиль тестовой группы: 94.00\n",
      "    95%-й доверительный интервал разности 50-х перцентилей [-27.01, -19.00]\n",
      "    \n"
     ]
    },
    {
     "name": "stderr",
     "output_type": "stream",
     "text": [
      "100%|██████████| 1000/1000 [00:00<00:00, 3952.36it/s]"
     ]
    },
    {
     "name": "stdout",
     "output_type": "stream",
     "text": [
      "\n",
      "    75-й перцентиль контрольной группы: 159.00\n",
      "    75-й перцентиль тестовой группы: 179.50\n",
      "    95%-й доверительный интервал разности 75-х перцентилей [11.00, 30.00]\n",
      "    \n"
     ]
    },
    {
     "name": "stderr",
     "output_type": "stream",
     "text": [
      "\n"
     ]
    }
   ],
   "source": [
    "# ⚠️ у нас уже есть amount по группам \n",
    "# они хранятся в переменных control и test\n",
    "# print(control, test) \n",
    "\n",
    "\n",
    "# 42 - классика\n",
    "np.random.seed(42)\n",
    "\n",
    "n_iterations = 1000\n",
    "bootstrap_results = {}\n",
    "for pctl in (25, 50, 75):\n",
    "    boot_diffs = []\n",
    "    \n",
    "    # Бутстрап-разница i-х перцентилей между тестовой и контрольной группами\n",
    "    for i in tqdm(range(n_iterations)):\n",
    "        boot_control = np.random.choice(control, size=len(control), replace=True)\n",
    "        boot_test = np.random.choice(test, size=len(test), replace=True)\n",
    "\n",
    "        # Для расчёта i-го перцентиля используем .percentile() из библиотеки numpy \n",
    "        control_pctl = np.percentile(boot_control, pctl)\n",
    "        test_pctl = np.percentile(boot_test, pctl)\n",
    "\n",
    "        # Находим разницу между значениями тестовой и контрольной групп\n",
    "        boot_diffs.append(test_pctl - control_pctl)\n",
    "\n",
    "    # Создаём массив разниц между 95-ми перцентилями тестовой и контрольной групп\n",
    "    boot_diffs = np.array(boot_diffs)\n",
    "    # складываем в словарь\n",
    "    bootstrap_results[pctl] = boot_diffs\n",
    "\n",
    "    # Доверительный интервал разницы между 95-ми перцентилями (перцентильный метод)\n",
    "    diff_ci = np.percentile(boot_diffs, [2.5, 97.5])\n",
    "\n",
    "    # Вывод доверительного интервала\n",
    "    print(f\"\"\"\n",
    "    {pctl}-й перцентиль контрольной группы: {np.percentile(control, pctl):.2f}\n",
    "    {pctl}-й перцентиль тестовой группы: {np.percentile(test, pctl):.2f}\n",
    "    95%-й доверительный интервал разности {pctl}-х перцентилей [{diff_ci[0]:.2f}, {diff_ci[1]:.2f}]\n",
    "    \"\"\")\n"
   ]
  },
  {
   "cell_type": "code",
   "execution_count": 28,
   "id": "d3259317",
   "metadata": {},
   "outputs": [
    {
     "data": {
      "image/png": "[encoded data removed]",
      "text/plain": [
       "<Figure size 1800x500 with 3 Axes>"
      ]
     },
     "metadata": {},
     "output_type": "display_data"
    }
   ],
   "source": [
    "# строим графики\n",
    "fig, axs = plt.subplots(1, 3, figsize=(18, 5))\n",
    "fig.suptitle('Распределение разниц перцентилей (Тест - Контроль)', fontsize=16)\n",
    "\n",
    "colors = ['red', 'red', 'limegreen']\n",
    "\n",
    "for ax, pctl, color in zip(axs, bootstrap_results.keys(), colors):\n",
    "    diffs = bootstrap_results[pctl]\n",
    "    \n",
    "    # считаем ДИ\n",
    "    ci = np.percentile(diffs, [2.5, 97.5])\n",
    "    \n",
    "    sns.histplot(diffs, ax=ax, bins=30, color='lightgray', kde=False, stat='density')\n",
    "    sns.kdeplot(diffs, color='gray', ax=ax)\n",
    "\n",
    "    ax.axvline(ci[0], color=color, linestyle='--', label=f'95% ДИ')\n",
    "    ax.axvline(ci[1], color=color, linestyle='--')\n",
    "    ax.axvline(0, color='black', linestyle='-')\n",
    "    \n",
    "    ax.set_title(f'Разница {pctl}-x перцентилей')\n",
    "    ax.set_xlabel('Разница сумм депозитов')\n",
    "    ax.legend()\n",
    "\n",
    "plt.tight_layout(rect=[0, 0.03, 1, 0.93])\n",
    "plt.show()"
   ]
  },
  {
   "cell_type": "markdown",
   "id": "96283bb5",
   "metadata": {},
   "source": [
    "\n",
    "**25-й перцентиль (менее обеспеченные/осторожные пользователи):**\n",
    "- Контроль 95, Тест 48.\n",
    "- Доверительный интервал разницы (test - control): [-50.00, -44.00].\n",
    "- Интервал отрицательной, ноль не включает ➡️ **Cнижение статистически значимо**. \n",
    "- Пользователи с небольшими депозитами стали вносить **значительно меньше** денег.\n",
    "\n",
    "**50-й перцентиль (медиана, \"типичный\" пользователь):**\n",
    "- Контроль 118, Тест 94.\n",
    "- Доверительный интервал разницы: [-27.01, -19.00].\n",
    "- Интервал отрицательной, ноль не включает ➡️ **Cнижение статистически значимо**.  \n",
    "- \"Типичный\" пользователь в тестовой группе также стал вносить **меньше** денег.\n",
    "-  Вероятно, часть \"средних\" пользователей, получив больше информации о рисках, решила начать с меньшей суммы, что и   \n",
    "привело к смещению медианы вниз.\n",
    "\n",
    "\n",
    "**75-й перцентиль (более обеспеченные/рисковые пользователи):**\n",
    "- Контроль 159, Тест 179.5.\n",
    "- Доверительный интервал разницы: [11.00, 30.00].\n",
    "- Интервал положительный, ноль не включает ➡️ **Рост статистически значим**. \n",
    "- Пользователи с крупными инвестициями стали вносить **значительно больше** денег.\n",
    "\n",
    "\n",
    "Новый онбординг произвел **эффект поляризации**:\n",
    "-  **отпугнул \"осторожную\" часть аудитории** (нижние 25% и медиана), которая стала вносить меньше денег.\n",
    "-  **мотивировал и сильнее вовлек \"состоятельную\" часть аудитории** (верхние 25%), которая стала вносить больше.\n",
    "\n",
    "Это объясняет, почему общий ARPU не показал значимого роста - негативный эффект на одной части аудитории был   \n",
    "скомпенсирован позитивным эффектом на другой.\n",
    "\n"
   ]
  },
  {
   "cell_type": "markdown",
   "id": "50194012",
   "metadata": {
    "id": "50194012"
   },
   "source": [
    "---\n",
    "\n",
    "### Выводы"
   ]
  },
  {
   "cell_type": "markdown",
   "id": "dd0aa10d",
   "metadata": {},
   "source": [
    "\n",
    "#### Основные результаты:\n",
    "\n",
    "**Фильтрация нецелевого трафика:**\n",
    "- Новый онбординг работает как фильтр. Он усложняет путь вначале (конверсия в завершение онбординга упала), но  \n",
    "это отсеивает менее мотивированную аудиторию.\n",
    "- Барьерная метрика (CR в 1-й депозит) при этом не просела **статистически значимо**, что снимает основные опасения.\n",
    "\n",
    "**Рост качества аудитории:**\n",
    "- Пользователи, прошедшие новый онбординг, показывают **значительно лучшее удержание и вовлеченность**.\n",
    "- CR во 2-й депозит: Статистически значимый рост с 20.3% до 32.6% в целом.\n",
    "- ARPPU (средний чек платящего): Статистически значимый рост на +4.35%.\n",
    "\n",
    "**Решение ключевой проблемы:**\n",
    "- Новый онбординг решил проблему удержания пользователей, выбравших **высокорискованные активы**. \n",
    "- Конверсия в повторный депозит для них **статистически значимо взлетела** с 28% до 46%.\n",
    "\n",
    "**Разнонаправленное движение:**\n",
    "- Новая фича по-разному повлияла на разные сегменты: \n",
    "    - пользователи с небольшими депозитами стали вносить **статистически значимо меньше**, \n",
    "    - пользователи с крупными-**статистически значимо больше**. \n",
    "- Это объясняет почему общий ARPU не показал роста - эффекты скомпенсировались.\n",
    "\n",
    "#### Рекомендации:\n",
    "1. Внедрить обновленный онбординг. Несмотря на то, что ключевая метрика (ARPU) не показала статистически значимого   \n",
    "роста, эксперимент выявил сильные положительные эффекты, которые перевешивают риски. **Улучшение** качества аудитории и  \n",
    "решение проблемы с \"high-risk\" пользователями перевешивают риски.\n",
    "Отсутствие прироста ключевой метрики не является надежным результатом, поскольку низкая мощность теста (всего 14%) \n",
    "не позволяет сделать уверенный вывод об отсутствии эффекта (высока вероятность ошибки II рода) и потому это не должно   \n",
    "служить аргументом против внедрения фичи.\n",
    "2. Чтобы выяснить есть ли на самом деле рост ARPU рекомендуется провести более масштабный эксперимент на большей  \n",
    "выборке или на более длительном сроке.\n",
    "3. Проанализировать и сбалансировать этап онбординга сделав его менее сложным без потери информативности."
   ]
  }
 ],
 "metadata": {
  "ExecuteTimeLog": [
   {
    "duration": 3467,
    "start_time": "2025-07-30T00:06:35.392Z"
   },
   {
    "duration": 1495,
    "start_time": "2025-07-30T00:06:38.861Z"
   },
   {
    "duration": 0,
    "start_time": "2025-07-30T00:06:40.359Z"
   },
   {
    "duration": 0,
    "start_time": "2025-07-30T00:06:40.360Z"
   },
   {
    "duration": 0,
    "start_time": "2025-07-30T00:06:40.361Z"
   },
   {
    "duration": 0,
    "start_time": "2025-07-30T00:06:40.371Z"
   },
   {
    "duration": 0,
    "start_time": "2025-07-30T00:06:40.372Z"
   },
   {
    "duration": 0,
    "start_time": "2025-07-30T00:06:40.373Z"
   },
   {
    "duration": 0,
    "start_time": "2025-07-30T00:06:40.375Z"
   },
   {
    "duration": 0,
    "start_time": "2025-07-30T00:06:40.376Z"
   },
   {
    "duration": 0,
    "start_time": "2025-07-30T00:06:40.377Z"
   },
   {
    "duration": 0,
    "start_time": "2025-07-30T00:06:40.378Z"
   },
   {
    "duration": 0,
    "start_time": "2025-07-30T00:06:40.379Z"
   },
   {
    "duration": 0,
    "start_time": "2025-07-30T00:06:40.380Z"
   },
   {
    "duration": 0,
    "start_time": "2025-07-30T00:06:40.381Z"
   },
   {
    "duration": 0,
    "start_time": "2025-07-30T00:06:40.382Z"
   },
   {
    "duration": 0,
    "start_time": "2025-07-30T00:06:40.383Z"
   },
   {
    "duration": 0,
    "start_time": "2025-07-30T00:06:40.384Z"
   },
   {
    "duration": 0,
    "start_time": "2025-07-30T00:06:40.385Z"
   },
   {
    "duration": 0,
    "start_time": "2025-07-30T00:06:40.386Z"
   },
   {
    "duration": 0,
    "start_time": "2025-07-30T00:06:40.387Z"
   },
   {
    "duration": 0,
    "start_time": "2025-07-30T00:06:40.388Z"
   },
   {
    "duration": 0,
    "start_time": "2025-07-30T00:06:40.389Z"
   },
   {
    "duration": 2645,
    "start_time": "2025-07-30T00:07:17.702Z"
   },
   {
    "duration": 69,
    "start_time": "2025-07-30T00:07:20.350Z"
   },
   {
    "duration": 2604,
    "start_time": "2025-07-30T00:07:33.518Z"
   },
   {
    "duration": 1266,
    "start_time": "2025-07-30T00:07:36.125Z"
   },
   {
    "duration": 83,
    "start_time": "2025-07-30T00:07:37.393Z"
   },
   {
    "duration": 2156,
    "start_time": "2025-07-30T00:07:37.478Z"
   },
   {
    "duration": 101,
    "start_time": "2025-07-30T00:07:39.636Z"
   },
   {
    "duration": 307,
    "start_time": "2025-07-30T00:07:39.739Z"
   },
   {
    "duration": 555,
    "start_time": "2025-07-30T00:07:40.048Z"
   },
   {
    "duration": 476,
    "start_time": "2025-07-30T00:07:40.604Z"
   },
   {
    "duration": 1066,
    "start_time": "2025-07-30T00:07:41.083Z"
   },
   {
    "duration": 0,
    "start_time": "2025-07-30T00:07:42.151Z"
   },
   {
    "duration": 0,
    "start_time": "2025-07-30T00:07:42.152Z"
   },
   {
    "duration": 0,
    "start_time": "2025-07-30T00:07:42.153Z"
   },
   {
    "duration": 0,
    "start_time": "2025-07-30T00:07:42.154Z"
   },
   {
    "duration": 0,
    "start_time": "2025-07-30T00:07:42.156Z"
   },
   {
    "duration": 0,
    "start_time": "2025-07-30T00:07:42.156Z"
   },
   {
    "duration": 0,
    "start_time": "2025-07-30T00:07:42.157Z"
   },
   {
    "duration": 0,
    "start_time": "2025-07-30T00:07:42.171Z"
   },
   {
    "duration": 0,
    "start_time": "2025-07-30T00:07:42.173Z"
   },
   {
    "duration": 0,
    "start_time": "2025-07-30T00:07:42.174Z"
   },
   {
    "duration": 0,
    "start_time": "2025-07-30T00:07:42.175Z"
   },
   {
    "duration": 0,
    "start_time": "2025-07-30T00:07:42.176Z"
   },
   {
    "duration": 0,
    "start_time": "2025-07-30T00:07:42.177Z"
   },
   {
    "duration": 0,
    "start_time": "2025-07-30T00:07:42.178Z"
   },
   {
    "duration": 1713,
    "start_time": "2025-07-30T00:08:36.838Z"
   },
   {
    "duration": 2718,
    "start_time": "2025-07-30T00:09:19.663Z"
   },
   {
    "duration": 1211,
    "start_time": "2025-07-30T00:09:22.383Z"
   },
   {
    "duration": 87,
    "start_time": "2025-07-30T00:09:23.596Z"
   },
   {
    "duration": 1900,
    "start_time": "2025-07-30T00:09:23.686Z"
   },
   {
    "duration": 115,
    "start_time": "2025-07-30T00:09:25.588Z"
   },
   {
    "duration": 287,
    "start_time": "2025-07-30T00:09:25.705Z"
   },
   {
    "duration": 489,
    "start_time": "2025-07-30T00:09:25.994Z"
   },
   {
    "duration": 479,
    "start_time": "2025-07-30T00:09:26.484Z"
   },
   {
    "duration": 1064,
    "start_time": "2025-07-30T00:09:26.964Z"
   },
   {
    "duration": 0,
    "start_time": "2025-07-30T00:09:28.030Z"
   },
   {
    "duration": 0,
    "start_time": "2025-07-30T00:09:28.031Z"
   },
   {
    "duration": 0,
    "start_time": "2025-07-30T00:09:28.032Z"
   },
   {
    "duration": 0,
    "start_time": "2025-07-30T00:09:28.033Z"
   },
   {
    "duration": 0,
    "start_time": "2025-07-30T00:09:28.034Z"
   },
   {
    "duration": 0,
    "start_time": "2025-07-30T00:09:28.036Z"
   },
   {
    "duration": 0,
    "start_time": "2025-07-30T00:09:28.037Z"
   },
   {
    "duration": 0,
    "start_time": "2025-07-30T00:09:28.038Z"
   },
   {
    "duration": 0,
    "start_time": "2025-07-30T00:09:28.039Z"
   },
   {
    "duration": 0,
    "start_time": "2025-07-30T00:09:28.040Z"
   },
   {
    "duration": 0,
    "start_time": "2025-07-30T00:09:28.041Z"
   },
   {
    "duration": 0,
    "start_time": "2025-07-30T00:09:28.071Z"
   },
   {
    "duration": 0,
    "start_time": "2025-07-30T00:09:28.072Z"
   },
   {
    "duration": 0,
    "start_time": "2025-07-30T00:09:28.074Z"
   },
   {
    "duration": 17802,
    "start_time": "2025-07-30T00:12:17.799Z"
   },
   {
    "duration": 820,
    "start_time": "2025-07-30T00:12:35.604Z"
   },
   {
    "duration": 0,
    "start_time": "2025-07-30T00:12:36.427Z"
   },
   {
    "duration": 0,
    "start_time": "2025-07-30T00:12:36.428Z"
   },
   {
    "duration": 0,
    "start_time": "2025-07-30T00:12:36.431Z"
   },
   {
    "duration": 0,
    "start_time": "2025-07-30T00:12:36.432Z"
   },
   {
    "duration": 0,
    "start_time": "2025-07-30T00:12:36.433Z"
   },
   {
    "duration": 0,
    "start_time": "2025-07-30T00:12:36.434Z"
   },
   {
    "duration": 0,
    "start_time": "2025-07-30T00:12:36.435Z"
   },
   {
    "duration": 0,
    "start_time": "2025-07-30T00:12:36.437Z"
   },
   {
    "duration": 0,
    "start_time": "2025-07-30T00:12:36.438Z"
   },
   {
    "duration": 0,
    "start_time": "2025-07-30T00:12:36.439Z"
   },
   {
    "duration": 0,
    "start_time": "2025-07-30T00:12:36.440Z"
   },
   {
    "duration": 0,
    "start_time": "2025-07-30T00:12:36.442Z"
   },
   {
    "duration": 0,
    "start_time": "2025-07-30T00:12:36.443Z"
   },
   {
    "duration": 0,
    "start_time": "2025-07-30T00:12:36.444Z"
   },
   {
    "duration": 0,
    "start_time": "2025-07-30T00:12:36.445Z"
   },
   {
    "duration": 0,
    "start_time": "2025-07-30T00:12:36.446Z"
   },
   {
    "duration": 0,
    "start_time": "2025-07-30T00:12:36.447Z"
   },
   {
    "duration": 0,
    "start_time": "2025-07-30T00:12:36.449Z"
   },
   {
    "duration": 0,
    "start_time": "2025-07-30T00:12:36.450Z"
   },
   {
    "duration": 0,
    "start_time": "2025-07-30T00:12:36.451Z"
   },
   {
    "duration": 0,
    "start_time": "2025-07-30T00:12:36.452Z"
   },
   {
    "duration": 10294,
    "start_time": "2025-07-30T00:12:45.493Z"
   },
   {
    "duration": 1724,
    "start_time": "2025-07-30T00:12:55.790Z"
   },
   {
    "duration": 0,
    "start_time": "2025-07-30T00:12:57.518Z"
   },
   {
    "duration": 0,
    "start_time": "2025-07-30T00:12:57.520Z"
   },
   {
    "duration": 0,
    "start_time": "2025-07-30T00:12:57.521Z"
   },
   {
    "duration": 0,
    "start_time": "2025-07-30T00:12:57.522Z"
   },
   {
    "duration": 0,
    "start_time": "2025-07-30T00:12:57.524Z"
   },
   {
    "duration": 0,
    "start_time": "2025-07-30T00:12:57.525Z"
   },
   {
    "duration": 0,
    "start_time": "2025-07-30T00:12:57.527Z"
   },
   {
    "duration": 0,
    "start_time": "2025-07-30T00:12:57.529Z"
   },
   {
    "duration": 0,
    "start_time": "2025-07-30T00:12:57.531Z"
   },
   {
    "duration": 0,
    "start_time": "2025-07-30T00:12:57.532Z"
   },
   {
    "duration": 0,
    "start_time": "2025-07-30T00:12:57.533Z"
   },
   {
    "duration": 0,
    "start_time": "2025-07-30T00:12:57.535Z"
   },
   {
    "duration": 0,
    "start_time": "2025-07-30T00:12:57.572Z"
   },
   {
    "duration": 0,
    "start_time": "2025-07-30T00:12:57.573Z"
   },
   {
    "duration": 0,
    "start_time": "2025-07-30T00:12:57.575Z"
   },
   {
    "duration": 0,
    "start_time": "2025-07-30T00:12:57.577Z"
   },
   {
    "duration": 0,
    "start_time": "2025-07-30T00:12:57.578Z"
   },
   {
    "duration": 0,
    "start_time": "2025-07-30T00:12:57.580Z"
   },
   {
    "duration": 0,
    "start_time": "2025-07-30T00:12:57.581Z"
   },
   {
    "duration": 0,
    "start_time": "2025-07-30T00:12:57.583Z"
   },
   {
    "duration": 0,
    "start_time": "2025-07-30T00:12:57.584Z"
   },
   {
    "duration": 12320,
    "start_time": "2025-07-30T00:14:32.779Z"
   },
   {
    "duration": 6684,
    "start_time": "2025-07-30T00:14:50.305Z"
   },
   {
    "duration": 6727,
    "start_time": "2025-07-30T00:15:03.094Z"
   },
   {
    "duration": 1540,
    "start_time": "2025-07-30T00:15:09.823Z"
   },
   {
    "duration": 0,
    "start_time": "2025-07-30T00:15:11.370Z"
   },
   {
    "duration": 0,
    "start_time": "2025-07-30T00:15:11.371Z"
   },
   {
    "duration": 0,
    "start_time": "2025-07-30T00:15:11.372Z"
   },
   {
    "duration": 0,
    "start_time": "2025-07-30T00:15:11.373Z"
   },
   {
    "duration": 0,
    "start_time": "2025-07-30T00:15:11.375Z"
   },
   {
    "duration": 0,
    "start_time": "2025-07-30T00:15:11.376Z"
   },
   {
    "duration": 0,
    "start_time": "2025-07-30T00:15:11.377Z"
   },
   {
    "duration": 0,
    "start_time": "2025-07-30T00:15:11.379Z"
   },
   {
    "duration": 0,
    "start_time": "2025-07-30T00:15:11.380Z"
   },
   {
    "duration": 0,
    "start_time": "2025-07-30T00:15:11.381Z"
   },
   {
    "duration": 0,
    "start_time": "2025-07-30T00:15:11.383Z"
   },
   {
    "duration": 0,
    "start_time": "2025-07-30T00:15:11.384Z"
   },
   {
    "duration": 0,
    "start_time": "2025-07-30T00:15:11.386Z"
   },
   {
    "duration": 0,
    "start_time": "2025-07-30T00:15:11.387Z"
   },
   {
    "duration": 0,
    "start_time": "2025-07-30T00:15:11.388Z"
   },
   {
    "duration": 0,
    "start_time": "2025-07-30T00:15:11.389Z"
   },
   {
    "duration": 0,
    "start_time": "2025-07-30T00:15:11.391Z"
   },
   {
    "duration": 0,
    "start_time": "2025-07-30T00:15:11.392Z"
   },
   {
    "duration": 0,
    "start_time": "2025-07-30T00:15:11.394Z"
   },
   {
    "duration": 0,
    "start_time": "2025-07-30T00:15:11.395Z"
   },
   {
    "duration": 0,
    "start_time": "2025-07-30T00:15:11.397Z"
   },
   {
    "duration": 22367,
    "start_time": "2025-07-30T00:17:05.170Z"
   },
   {
    "duration": 1721,
    "start_time": "2025-07-30T00:17:27.540Z"
   },
   {
    "duration": 0,
    "start_time": "2025-07-30T00:17:29.271Z"
   },
   {
    "duration": 0,
    "start_time": "2025-07-30T00:17:29.272Z"
   },
   {
    "duration": 0,
    "start_time": "2025-07-30T00:17:29.273Z"
   },
   {
    "duration": 0,
    "start_time": "2025-07-30T00:17:29.274Z"
   },
   {
    "duration": 0,
    "start_time": "2025-07-30T00:17:29.275Z"
   },
   {
    "duration": 0,
    "start_time": "2025-07-30T00:17:29.276Z"
   },
   {
    "duration": 0,
    "start_time": "2025-07-30T00:17:29.277Z"
   },
   {
    "duration": 0,
    "start_time": "2025-07-30T00:17:29.278Z"
   },
   {
    "duration": 0,
    "start_time": "2025-07-30T00:17:29.279Z"
   },
   {
    "duration": 0,
    "start_time": "2025-07-30T00:17:29.280Z"
   },
   {
    "duration": 0,
    "start_time": "2025-07-30T00:17:29.281Z"
   },
   {
    "duration": 0,
    "start_time": "2025-07-30T00:17:29.283Z"
   },
   {
    "duration": 0,
    "start_time": "2025-07-30T00:17:29.283Z"
   },
   {
    "duration": 0,
    "start_time": "2025-07-30T00:17:29.284Z"
   },
   {
    "duration": 0,
    "start_time": "2025-07-30T00:17:29.285Z"
   },
   {
    "duration": 0,
    "start_time": "2025-07-30T00:17:29.286Z"
   },
   {
    "duration": 0,
    "start_time": "2025-07-30T00:17:29.287Z"
   },
   {
    "duration": 0,
    "start_time": "2025-07-30T00:17:29.288Z"
   },
   {
    "duration": 0,
    "start_time": "2025-07-30T00:17:29.289Z"
   },
   {
    "duration": 0,
    "start_time": "2025-07-30T00:17:29.291Z"
   },
   {
    "duration": 0,
    "start_time": "2025-07-30T00:17:29.292Z"
   },
   {
    "duration": 10405,
    "start_time": "2025-07-30T00:18:37.051Z"
   },
   {
    "duration": 2468,
    "start_time": "2025-07-30T00:18:47.460Z"
   },
   {
    "duration": 0,
    "start_time": "2025-07-30T00:18:49.931Z"
   },
   {
    "duration": 0,
    "start_time": "2025-07-30T00:18:49.932Z"
   },
   {
    "duration": 0,
    "start_time": "2025-07-30T00:18:49.933Z"
   },
   {
    "duration": 0,
    "start_time": "2025-07-30T00:18:49.934Z"
   },
   {
    "duration": 0,
    "start_time": "2025-07-30T00:18:49.935Z"
   },
   {
    "duration": 0,
    "start_time": "2025-07-30T00:18:49.936Z"
   },
   {
    "duration": 0,
    "start_time": "2025-07-30T00:18:49.937Z"
   },
   {
    "duration": 0,
    "start_time": "2025-07-30T00:18:49.938Z"
   },
   {
    "duration": 0,
    "start_time": "2025-07-30T00:18:49.939Z"
   },
   {
    "duration": 0,
    "start_time": "2025-07-30T00:18:49.940Z"
   },
   {
    "duration": 0,
    "start_time": "2025-07-30T00:18:49.941Z"
   },
   {
    "duration": 0,
    "start_time": "2025-07-30T00:18:49.942Z"
   },
   {
    "duration": 0,
    "start_time": "2025-07-30T00:18:49.943Z"
   },
   {
    "duration": 0,
    "start_time": "2025-07-30T00:18:49.944Z"
   },
   {
    "duration": 0,
    "start_time": "2025-07-30T00:18:49.945Z"
   },
   {
    "duration": 0,
    "start_time": "2025-07-30T00:18:49.946Z"
   },
   {
    "duration": 0,
    "start_time": "2025-07-30T00:18:49.971Z"
   },
   {
    "duration": 0,
    "start_time": "2025-07-30T00:18:49.973Z"
   },
   {
    "duration": 0,
    "start_time": "2025-07-30T00:18:49.974Z"
   },
   {
    "duration": 0,
    "start_time": "2025-07-30T00:18:49.975Z"
   },
   {
    "duration": 0,
    "start_time": "2025-07-30T00:18:49.976Z"
   },
   {
    "duration": 7812,
    "start_time": "2025-07-30T00:19:40.598Z"
   },
   {
    "duration": 7386,
    "start_time": "2025-07-30T00:19:50.797Z"
   },
   {
    "duration": 574,
    "start_time": "2025-07-30T00:19:58.186Z"
   },
   {
    "duration": 0,
    "start_time": "2025-07-30T00:19:58.762Z"
   },
   {
    "duration": 0,
    "start_time": "2025-07-30T00:19:58.771Z"
   },
   {
    "duration": 26138,
    "start_time": "2025-07-30T00:23:36.578Z"
   },
   {
    "duration": 19254,
    "start_time": "2025-07-30T00:24:07.919Z"
   },
   {
    "duration": 10823,
    "start_time": "2025-07-30T00:24:46.793Z"
   },
   {
    "duration": 10785,
    "start_time": "2025-07-30T00:25:00.336Z"
   },
   {
    "duration": 2806,
    "start_time": "2025-07-30T00:25:11.124Z"
   },
   {
    "duration": 1374,
    "start_time": "2025-07-30T00:25:13.934Z"
   },
   {
    "duration": 82,
    "start_time": "2025-07-30T00:25:19.209Z"
   },
   {
    "duration": 10727,
    "start_time": "2025-07-30T00:25:25.785Z"
   },
   {
    "duration": 2713,
    "start_time": "2025-07-30T00:25:36.515Z"
   },
   {
    "duration": 1330,
    "start_time": "2025-07-30T00:25:39.230Z"
   },
   {
    "duration": 86,
    "start_time": "2025-07-30T00:25:40.562Z"
   },
   {
    "duration": 2029,
    "start_time": "2025-07-30T00:25:40.650Z"
   },
   {
    "duration": 70,
    "start_time": "2025-07-30T00:25:42.680Z"
   },
   {
    "duration": 301,
    "start_time": "2025-07-30T00:25:42.752Z"
   },
   {
    "duration": 423,
    "start_time": "2025-07-30T00:25:43.054Z"
   },
   {
    "duration": 1852,
    "start_time": "2025-07-30T00:25:43.479Z"
   },
   {
    "duration": 0,
    "start_time": "2025-07-30T00:25:45.334Z"
   },
   {
    "duration": 0,
    "start_time": "2025-07-30T00:25:45.335Z"
   },
   {
    "duration": 0,
    "start_time": "2025-07-30T00:25:45.336Z"
   },
   {
    "duration": 0,
    "start_time": "2025-07-30T00:25:45.337Z"
   },
   {
    "duration": 0,
    "start_time": "2025-07-30T00:25:45.338Z"
   },
   {
    "duration": 0,
    "start_time": "2025-07-30T00:25:45.340Z"
   },
   {
    "duration": 0,
    "start_time": "2025-07-30T00:25:45.341Z"
   },
   {
    "duration": 0,
    "start_time": "2025-07-30T00:25:45.342Z"
   },
   {
    "duration": 0,
    "start_time": "2025-07-30T00:25:45.343Z"
   },
   {
    "duration": 0,
    "start_time": "2025-07-30T00:25:45.344Z"
   },
   {
    "duration": 0,
    "start_time": "2025-07-30T00:25:45.345Z"
   },
   {
    "duration": 0,
    "start_time": "2025-07-30T00:25:45.346Z"
   },
   {
    "duration": 0,
    "start_time": "2025-07-30T00:25:45.372Z"
   },
   {
    "duration": 0,
    "start_time": "2025-07-30T00:25:45.373Z"
   },
   {
    "duration": 0,
    "start_time": "2025-07-30T00:25:45.374Z"
   },
   {
    "duration": 10890,
    "start_time": "2025-07-30T00:27:04.169Z"
   },
   {
    "duration": 2767,
    "start_time": "2025-07-30T00:27:15.061Z"
   },
   {
    "duration": 1354,
    "start_time": "2025-07-30T00:27:17.833Z"
   },
   {
    "duration": 80,
    "start_time": "2025-07-30T00:27:19.189Z"
   },
   {
    "duration": 2246,
    "start_time": "2025-07-30T00:27:19.271Z"
   },
   {
    "duration": 67,
    "start_time": "2025-07-30T00:27:21.519Z"
   },
   {
    "duration": 325,
    "start_time": "2025-07-30T00:27:21.587Z"
   },
   {
    "duration": 470,
    "start_time": "2025-07-30T00:27:21.914Z"
   },
   {
    "duration": 1854,
    "start_time": "2025-07-30T00:27:22.387Z"
   },
   {
    "duration": 0,
    "start_time": "2025-07-30T00:27:24.243Z"
   },
   {
    "duration": 0,
    "start_time": "2025-07-30T00:27:24.244Z"
   },
   {
    "duration": 0,
    "start_time": "2025-07-30T00:27:24.245Z"
   },
   {
    "duration": 0,
    "start_time": "2025-07-30T00:27:24.247Z"
   },
   {
    "duration": 0,
    "start_time": "2025-07-30T00:27:24.248Z"
   },
   {
    "duration": 0,
    "start_time": "2025-07-30T00:27:24.249Z"
   },
   {
    "duration": 0,
    "start_time": "2025-07-30T00:27:24.250Z"
   },
   {
    "duration": 0,
    "start_time": "2025-07-30T00:27:24.251Z"
   },
   {
    "duration": 0,
    "start_time": "2025-07-30T00:27:24.271Z"
   },
   {
    "duration": 0,
    "start_time": "2025-07-30T00:27:24.272Z"
   },
   {
    "duration": 0,
    "start_time": "2025-07-30T00:27:24.274Z"
   },
   {
    "duration": 0,
    "start_time": "2025-07-30T00:27:24.275Z"
   },
   {
    "duration": 0,
    "start_time": "2025-07-30T00:27:24.276Z"
   },
   {
    "duration": 0,
    "start_time": "2025-07-30T00:27:24.277Z"
   },
   {
    "duration": 0,
    "start_time": "2025-07-30T00:27:24.278Z"
   },
   {
    "duration": 394,
    "start_time": "2025-07-30T00:30:06.298Z"
   },
   {
    "duration": 10690,
    "start_time": "2025-07-30T00:30:17.800Z"
   },
   {
    "duration": 2716,
    "start_time": "2025-07-30T00:30:28.493Z"
   },
   {
    "duration": 1386,
    "start_time": "2025-07-30T00:30:31.211Z"
   },
   {
    "duration": 79,
    "start_time": "2025-07-30T00:30:32.599Z"
   },
   {
    "duration": 1712,
    "start_time": "2025-07-30T00:30:32.681Z"
   },
   {
    "duration": 80,
    "start_time": "2025-07-30T00:30:34.394Z"
   },
   {
    "duration": 285,
    "start_time": "2025-07-30T00:30:34.476Z"
   },
   {
    "duration": 421,
    "start_time": "2025-07-30T00:30:34.763Z"
   },
   {
    "duration": 406,
    "start_time": "2025-07-30T00:30:35.185Z"
   },
   {
    "duration": 1373,
    "start_time": "2025-07-30T00:30:35.592Z"
   },
   {
    "duration": 0,
    "start_time": "2025-07-30T00:30:36.971Z"
   },
   {
    "duration": 0,
    "start_time": "2025-07-30T00:30:36.972Z"
   },
   {
    "duration": 0,
    "start_time": "2025-07-30T00:30:36.973Z"
   },
   {
    "duration": 0,
    "start_time": "2025-07-30T00:30:36.974Z"
   },
   {
    "duration": 0,
    "start_time": "2025-07-30T00:30:36.975Z"
   },
   {
    "duration": 0,
    "start_time": "2025-07-30T00:30:36.978Z"
   },
   {
    "duration": 0,
    "start_time": "2025-07-30T00:30:36.979Z"
   },
   {
    "duration": 0,
    "start_time": "2025-07-30T00:30:36.980Z"
   },
   {
    "duration": 0,
    "start_time": "2025-07-30T00:30:36.981Z"
   },
   {
    "duration": 0,
    "start_time": "2025-07-30T00:30:36.982Z"
   },
   {
    "duration": 0,
    "start_time": "2025-07-30T00:30:36.983Z"
   },
   {
    "duration": 0,
    "start_time": "2025-07-30T00:30:36.984Z"
   },
   {
    "duration": 0,
    "start_time": "2025-07-30T00:30:36.985Z"
   },
   {
    "duration": 0,
    "start_time": "2025-07-30T00:30:36.986Z"
   },
   {
    "duration": 27,
    "start_time": "2025-07-30T00:33:52.246Z"
   },
   {
    "duration": 11550,
    "start_time": "2025-07-30T00:34:05.088Z"
   },
   {
    "duration": 2713,
    "start_time": "2025-07-30T00:34:16.640Z"
   },
   {
    "duration": 1402,
    "start_time": "2025-07-30T00:34:19.355Z"
   },
   {
    "duration": 87,
    "start_time": "2025-07-30T00:34:20.760Z"
   },
   {
    "duration": 261,
    "start_time": "2025-07-30T00:34:20.849Z"
   },
   {
    "duration": 0,
    "start_time": "2025-07-30T00:34:21.112Z"
   },
   {
    "duration": 0,
    "start_time": "2025-07-30T00:34:21.113Z"
   },
   {
    "duration": 0,
    "start_time": "2025-07-30T00:34:21.114Z"
   },
   {
    "duration": 0,
    "start_time": "2025-07-30T00:34:21.115Z"
   },
   {
    "duration": 0,
    "start_time": "2025-07-30T00:34:21.116Z"
   },
   {
    "duration": 0,
    "start_time": "2025-07-30T00:34:21.117Z"
   },
   {
    "duration": 0,
    "start_time": "2025-07-30T00:34:21.118Z"
   },
   {
    "duration": 0,
    "start_time": "2025-07-30T00:34:21.119Z"
   },
   {
    "duration": 0,
    "start_time": "2025-07-30T00:34:21.120Z"
   },
   {
    "duration": 1,
    "start_time": "2025-07-30T00:34:21.121Z"
   },
   {
    "duration": 0,
    "start_time": "2025-07-30T00:34:21.123Z"
   },
   {
    "duration": 0,
    "start_time": "2025-07-30T00:34:21.124Z"
   },
   {
    "duration": 0,
    "start_time": "2025-07-30T00:34:21.125Z"
   },
   {
    "duration": 0,
    "start_time": "2025-07-30T00:34:21.126Z"
   },
   {
    "duration": 0,
    "start_time": "2025-07-30T00:34:21.127Z"
   },
   {
    "duration": 0,
    "start_time": "2025-07-30T00:34:21.128Z"
   },
   {
    "duration": 0,
    "start_time": "2025-07-30T00:34:21.129Z"
   },
   {
    "duration": 0,
    "start_time": "2025-07-30T00:34:21.130Z"
   },
   {
    "duration": 0,
    "start_time": "2025-07-30T00:34:21.131Z"
   },
   {
    "duration": 1930,
    "start_time": "2025-07-30T00:34:46.212Z"
   },
   {
    "duration": 1907,
    "start_time": "2025-07-30T00:49:23.690Z"
   },
   {
    "duration": 10604,
    "start_time": "2025-07-30T00:49:31.604Z"
   },
   {
    "duration": 2781,
    "start_time": "2025-07-30T00:49:42.212Z"
   },
   {
    "duration": 1411,
    "start_time": "2025-07-30T00:49:44.995Z"
   },
   {
    "duration": 83,
    "start_time": "2025-07-30T00:49:46.408Z"
   },
   {
    "duration": 1842,
    "start_time": "2025-07-30T00:49:46.495Z"
   },
   {
    "duration": 66,
    "start_time": "2025-07-30T00:49:48.339Z"
   },
   {
    "duration": 290,
    "start_time": "2025-07-30T00:49:48.407Z"
   },
   {
    "duration": 427,
    "start_time": "2025-07-30T00:49:48.699Z"
   },
   {
    "duration": 403,
    "start_time": "2025-07-30T00:49:49.128Z"
   },
   {
    "duration": 1371,
    "start_time": "2025-07-30T00:49:49.532Z"
   },
   {
    "duration": 1,
    "start_time": "2025-07-30T00:49:50.904Z"
   },
   {
    "duration": 0,
    "start_time": "2025-07-30T00:49:50.906Z"
   },
   {
    "duration": 0,
    "start_time": "2025-07-30T00:49:50.908Z"
   },
   {
    "duration": 0,
    "start_time": "2025-07-30T00:49:50.909Z"
   },
   {
    "duration": 0,
    "start_time": "2025-07-30T00:49:50.910Z"
   },
   {
    "duration": 0,
    "start_time": "2025-07-30T00:49:50.912Z"
   },
   {
    "duration": 0,
    "start_time": "2025-07-30T00:49:50.913Z"
   },
   {
    "duration": 0,
    "start_time": "2025-07-30T00:49:50.914Z"
   },
   {
    "duration": 0,
    "start_time": "2025-07-30T00:49:50.915Z"
   },
   {
    "duration": 0,
    "start_time": "2025-07-30T00:49:50.917Z"
   },
   {
    "duration": 0,
    "start_time": "2025-07-30T00:49:50.918Z"
   },
   {
    "duration": 0,
    "start_time": "2025-07-30T00:49:50.920Z"
   },
   {
    "duration": 0,
    "start_time": "2025-07-30T00:49:50.921Z"
   },
   {
    "duration": 0,
    "start_time": "2025-07-30T00:49:50.922Z"
   },
   {
    "duration": 14457,
    "start_time": "2025-07-30T00:51:43.532Z"
   },
   {
    "duration": 2734,
    "start_time": "2025-07-30T00:51:57.991Z"
   },
   {
    "duration": 1395,
    "start_time": "2025-07-30T00:52:00.727Z"
   },
   {
    "duration": 87,
    "start_time": "2025-07-30T00:52:02.125Z"
   },
   {
    "duration": 2043,
    "start_time": "2025-07-30T00:52:02.215Z"
   },
   {
    "duration": 71,
    "start_time": "2025-07-30T00:52:04.259Z"
   },
   {
    "duration": 343,
    "start_time": "2025-07-30T00:52:04.332Z"
   },
   {
    "duration": 427,
    "start_time": "2025-07-30T00:52:04.677Z"
   },
   {
    "duration": 396,
    "start_time": "2025-07-30T00:52:05.106Z"
   },
   {
    "duration": 1826,
    "start_time": "2025-07-30T00:52:05.505Z"
   },
   {
    "duration": 0,
    "start_time": "2025-07-30T00:52:07.333Z"
   },
   {
    "duration": 0,
    "start_time": "2025-07-30T00:52:07.335Z"
   },
   {
    "duration": 0,
    "start_time": "2025-07-30T00:52:07.336Z"
   },
   {
    "duration": 0,
    "start_time": "2025-07-30T00:52:07.337Z"
   },
   {
    "duration": 0,
    "start_time": "2025-07-30T00:52:07.339Z"
   },
   {
    "duration": 0,
    "start_time": "2025-07-30T00:52:07.340Z"
   },
   {
    "duration": 0,
    "start_time": "2025-07-30T00:52:07.342Z"
   },
   {
    "duration": 0,
    "start_time": "2025-07-30T00:52:07.343Z"
   },
   {
    "duration": 0,
    "start_time": "2025-07-30T00:52:07.344Z"
   },
   {
    "duration": 0,
    "start_time": "2025-07-30T00:52:07.372Z"
   },
   {
    "duration": 0,
    "start_time": "2025-07-30T00:52:07.374Z"
   },
   {
    "duration": 0,
    "start_time": "2025-07-30T00:52:07.376Z"
   },
   {
    "duration": 0,
    "start_time": "2025-07-30T00:52:07.377Z"
   },
   {
    "duration": 0,
    "start_time": "2025-07-30T00:52:07.378Z"
   },
   {
    "duration": 15153,
    "start_time": "2025-07-30T00:53:03.825Z"
   },
   {
    "duration": 2821,
    "start_time": "2025-07-30T00:53:18.980Z"
   },
   {
    "duration": 1810,
    "start_time": "2025-07-30T00:53:21.803Z"
   },
   {
    "duration": 86,
    "start_time": "2025-07-30T00:53:23.615Z"
   },
   {
    "duration": 1909,
    "start_time": "2025-07-30T00:53:23.703Z"
   },
   {
    "duration": 81,
    "start_time": "2025-07-30T00:53:25.613Z"
   },
   {
    "duration": 276,
    "start_time": "2025-07-30T00:53:25.696Z"
   },
   {
    "duration": 437,
    "start_time": "2025-07-30T00:53:25.974Z"
   },
   {
    "duration": 368,
    "start_time": "2025-07-30T00:53:26.412Z"
   },
   {
    "duration": 1296,
    "start_time": "2025-07-30T00:53:26.783Z"
   },
   {
    "duration": 528,
    "start_time": "2025-07-30T00:53:28.080Z"
   },
   {
    "duration": 1168,
    "start_time": "2025-07-30T00:53:28.610Z"
   },
   {
    "duration": 0,
    "start_time": "2025-07-30T00:53:29.779Z"
   },
   {
    "duration": 0,
    "start_time": "2025-07-30T00:53:29.781Z"
   },
   {
    "duration": 0,
    "start_time": "2025-07-30T00:53:29.782Z"
   },
   {
    "duration": 0,
    "start_time": "2025-07-30T00:53:29.783Z"
   },
   {
    "duration": 0,
    "start_time": "2025-07-30T00:53:29.784Z"
   },
   {
    "duration": 0,
    "start_time": "2025-07-30T00:53:29.785Z"
   },
   {
    "duration": 0,
    "start_time": "2025-07-30T00:53:29.786Z"
   },
   {
    "duration": 0,
    "start_time": "2025-07-30T00:53:29.787Z"
   },
   {
    "duration": 0,
    "start_time": "2025-07-30T00:53:29.788Z"
   },
   {
    "duration": 0,
    "start_time": "2025-07-30T00:53:29.789Z"
   },
   {
    "duration": 0,
    "start_time": "2025-07-30T00:53:29.790Z"
   },
   {
    "duration": 0,
    "start_time": "2025-07-30T00:53:29.791Z"
   },
   {
    "duration": 25966,
    "start_time": "2025-07-30T00:54:29.255Z"
   },
   {
    "duration": 6846,
    "start_time": "2025-07-30T00:54:55.224Z"
   },
   {
    "duration": 1511,
    "start_time": "2025-07-30T00:55:02.072Z"
   },
   {
    "duration": 88,
    "start_time": "2025-07-30T00:55:03.585Z"
   },
   {
    "duration": 1875,
    "start_time": "2025-07-30T00:55:03.676Z"
   },
   {
    "duration": 71,
    "start_time": "2025-07-30T00:55:05.553Z"
   },
   {
    "duration": 288,
    "start_time": "2025-07-30T00:55:05.626Z"
   },
   {
    "duration": 455,
    "start_time": "2025-07-30T00:55:05.916Z"
   },
   {
    "duration": 606,
    "start_time": "2025-07-30T00:55:06.373Z"
   },
   {
    "duration": 1412,
    "start_time": "2025-07-30T00:55:06.981Z"
   },
   {
    "duration": 558,
    "start_time": "2025-07-30T00:55:08.395Z"
   },
   {
    "duration": 1422,
    "start_time": "2025-07-30T00:55:08.955Z"
   },
   {
    "duration": 0,
    "start_time": "2025-07-30T00:55:10.379Z"
   },
   {
    "duration": 0,
    "start_time": "2025-07-30T00:55:10.380Z"
   },
   {
    "duration": 0,
    "start_time": "2025-07-30T00:55:10.382Z"
   },
   {
    "duration": 0,
    "start_time": "2025-07-30T00:55:10.384Z"
   },
   {
    "duration": 0,
    "start_time": "2025-07-30T00:55:10.385Z"
   },
   {
    "duration": 0,
    "start_time": "2025-07-30T00:55:10.387Z"
   },
   {
    "duration": 0,
    "start_time": "2025-07-30T00:55:10.388Z"
   },
   {
    "duration": 0,
    "start_time": "2025-07-30T00:55:10.390Z"
   },
   {
    "duration": 0,
    "start_time": "2025-07-30T00:55:10.392Z"
   },
   {
    "duration": 0,
    "start_time": "2025-07-30T00:55:10.393Z"
   },
   {
    "duration": 0,
    "start_time": "2025-07-30T00:55:10.395Z"
   },
   {
    "duration": 0,
    "start_time": "2025-07-30T00:55:10.396Z"
   },
   {
    "duration": 654,
    "start_time": "2025-07-30T00:55:49.101Z"
   },
   {
    "duration": 682,
    "start_time": "2025-07-30T00:55:50.303Z"
   },
   {
    "duration": 29605,
    "start_time": "2025-07-30T00:57:43.074Z"
   },
   {
    "duration": 6795,
    "start_time": "2025-07-30T00:58:12.682Z"
   },
   {
    "duration": 1685,
    "start_time": "2025-07-30T00:58:19.479Z"
   },
   {
    "duration": 80,
    "start_time": "2025-07-30T00:58:21.167Z"
   },
   {
    "duration": 2158,
    "start_time": "2025-07-30T00:58:21.250Z"
   },
   {
    "duration": 79,
    "start_time": "2025-07-30T00:58:23.410Z"
   },
   {
    "duration": 268,
    "start_time": "2025-07-30T00:58:23.491Z"
   },
   {
    "duration": 492,
    "start_time": "2025-07-30T00:58:23.761Z"
   },
   {
    "duration": 620,
    "start_time": "2025-07-30T00:58:24.255Z"
   },
   {
    "duration": 1413,
    "start_time": "2025-07-30T00:58:24.877Z"
   },
   {
    "duration": 553,
    "start_time": "2025-07-30T00:58:26.292Z"
   },
   {
    "duration": 1353,
    "start_time": "2025-07-30T00:58:26.846Z"
   },
   {
    "duration": 0,
    "start_time": "2025-07-30T00:58:28.201Z"
   },
   {
    "duration": 0,
    "start_time": "2025-07-30T00:58:28.203Z"
   },
   {
    "duration": 0,
    "start_time": "2025-07-30T00:58:28.204Z"
   },
   {
    "duration": 0,
    "start_time": "2025-07-30T00:58:28.205Z"
   },
   {
    "duration": 0,
    "start_time": "2025-07-30T00:58:28.206Z"
   },
   {
    "duration": 0,
    "start_time": "2025-07-30T00:58:28.207Z"
   },
   {
    "duration": 0,
    "start_time": "2025-07-30T00:58:28.208Z"
   },
   {
    "duration": 0,
    "start_time": "2025-07-30T00:58:28.209Z"
   },
   {
    "duration": 0,
    "start_time": "2025-07-30T00:58:28.210Z"
   },
   {
    "duration": 0,
    "start_time": "2025-07-30T00:58:28.211Z"
   },
   {
    "duration": 0,
    "start_time": "2025-07-30T00:58:28.212Z"
   },
   {
    "duration": 0,
    "start_time": "2025-07-30T00:58:28.213Z"
   },
   {
    "duration": 24252,
    "start_time": "2025-07-30T00:59:55.132Z"
   },
   {
    "duration": 22938,
    "start_time": "2025-07-30T01:00:46.250Z"
   },
   {
    "duration": 22746,
    "start_time": "2025-07-30T01:01:42.461Z"
   },
   {
    "duration": 22062,
    "start_time": "2025-07-30T01:02:28.532Z"
   },
   {
    "duration": 24867,
    "start_time": "2025-07-30T01:03:31.013Z"
   },
   {
    "duration": 68,
    "start_time": "2025-07-30T01:04:43.929Z"
   },
   {
    "duration": 24952,
    "start_time": "2025-07-30T01:05:02.974Z"
   },
   {
    "duration": 13868,
    "start_time": "2025-07-30T01:06:23.646Z"
   },
   {
    "duration": 21721,
    "start_time": "2025-07-30T01:06:41.422Z"
   },
   {
    "duration": 31140,
    "start_time": "2025-07-30T01:08:02.524Z"
   },
   {
    "duration": 19849,
    "start_time": "2025-07-30T01:08:49.208Z"
   },
   {
    "duration": 15882,
    "start_time": "2025-07-30T01:09:17.655Z"
   },
   {
    "duration": 15932,
    "start_time": "2025-07-30T01:09:34.983Z"
   },
   {
    "duration": 16389,
    "start_time": "2025-07-30T01:10:17.907Z"
   },
   {
    "duration": 16666,
    "start_time": "2025-07-30T01:10:59.725Z"
   },
   {
    "duration": 16420,
    "start_time": "2025-07-30T01:11:39.995Z"
   },
   {
    "duration": 2728,
    "start_time": "2025-07-30T01:11:56.417Z"
   },
   {
    "duration": 2559,
    "start_time": "2025-07-30T01:11:59.147Z"
   },
   {
    "duration": 0,
    "start_time": "2025-07-30T01:12:01.709Z"
   },
   {
    "duration": 0,
    "start_time": "2025-07-30T01:12:01.710Z"
   },
   {
    "duration": 0,
    "start_time": "2025-07-30T01:12:01.711Z"
   },
   {
    "duration": 0,
    "start_time": "2025-07-30T01:12:01.712Z"
   },
   {
    "duration": 0,
    "start_time": "2025-07-30T01:12:01.713Z"
   },
   {
    "duration": 0,
    "start_time": "2025-07-30T01:12:01.714Z"
   },
   {
    "duration": 0,
    "start_time": "2025-07-30T01:12:01.715Z"
   },
   {
    "duration": 0,
    "start_time": "2025-07-30T01:12:01.716Z"
   },
   {
    "duration": 0,
    "start_time": "2025-07-30T01:12:01.717Z"
   },
   {
    "duration": 0,
    "start_time": "2025-07-30T01:12:01.718Z"
   },
   {
    "duration": 0,
    "start_time": "2025-07-30T01:12:01.719Z"
   },
   {
    "duration": 0,
    "start_time": "2025-07-30T01:12:01.720Z"
   },
   {
    "duration": 0,
    "start_time": "2025-07-30T01:12:01.721Z"
   },
   {
    "duration": 0,
    "start_time": "2025-07-30T01:12:01.722Z"
   },
   {
    "duration": 0,
    "start_time": "2025-07-30T01:12:01.723Z"
   },
   {
    "duration": 0,
    "start_time": "2025-07-30T01:12:01.724Z"
   },
   {
    "duration": 0,
    "start_time": "2025-07-30T01:12:01.725Z"
   },
   {
    "duration": 0,
    "start_time": "2025-07-30T01:12:01.726Z"
   },
   {
    "duration": 0,
    "start_time": "2025-07-30T01:12:01.727Z"
   },
   {
    "duration": 0,
    "start_time": "2025-07-30T01:12:01.728Z"
   },
   {
    "duration": 0,
    "start_time": "2025-07-30T01:12:01.729Z"
   },
   {
    "duration": 16633,
    "start_time": "2025-07-30T01:13:09.699Z"
   },
   {
    "duration": 20859,
    "start_time": "2025-07-30T01:13:32.594Z"
   },
   {
    "duration": 16748,
    "start_time": "2025-07-30T01:14:02.970Z"
   },
   {
    "duration": 2797,
    "start_time": "2025-07-30T01:14:19.721Z"
   },
   {
    "duration": 1543,
    "start_time": "2025-07-30T01:14:22.521Z"
   },
   {
    "duration": 78,
    "start_time": "2025-07-30T01:14:24.067Z"
   },
   {
    "duration": 2205,
    "start_time": "2025-07-30T01:14:24.148Z"
   },
   {
    "duration": 66,
    "start_time": "2025-07-30T01:14:26.355Z"
   },
   {
    "duration": 264,
    "start_time": "2025-07-30T01:14:26.423Z"
   },
   {
    "duration": 405,
    "start_time": "2025-07-30T01:14:26.689Z"
   },
   {
    "duration": 597,
    "start_time": "2025-07-30T01:14:27.095Z"
   },
   {
    "duration": 1353,
    "start_time": "2025-07-30T01:14:27.694Z"
   },
   {
    "duration": 598,
    "start_time": "2025-07-30T01:14:29.048Z"
   },
   {
    "duration": 1253,
    "start_time": "2025-07-30T01:14:29.648Z"
   },
   {
    "duration": 0,
    "start_time": "2025-07-30T01:14:30.903Z"
   },
   {
    "duration": 0,
    "start_time": "2025-07-30T01:14:30.904Z"
   },
   {
    "duration": 0,
    "start_time": "2025-07-30T01:14:30.906Z"
   },
   {
    "duration": 0,
    "start_time": "2025-07-30T01:14:30.907Z"
   },
   {
    "duration": 0,
    "start_time": "2025-07-30T01:14:30.908Z"
   },
   {
    "duration": 0,
    "start_time": "2025-07-30T01:14:30.910Z"
   },
   {
    "duration": 0,
    "start_time": "2025-07-30T01:14:30.911Z"
   },
   {
    "duration": 0,
    "start_time": "2025-07-30T01:14:30.912Z"
   },
   {
    "duration": 0,
    "start_time": "2025-07-30T01:14:30.914Z"
   },
   {
    "duration": 0,
    "start_time": "2025-07-30T01:14:30.915Z"
   },
   {
    "duration": 0,
    "start_time": "2025-07-30T01:14:30.917Z"
   },
   {
    "duration": 0,
    "start_time": "2025-07-30T01:14:30.918Z"
   },
   {
    "duration": 44058,
    "start_time": "2025-07-30T01:17:41.889Z"
   },
   {
    "duration": 2578,
    "start_time": "2025-07-30T01:18:25.949Z"
   },
   {
    "duration": 1598,
    "start_time": "2025-07-30T01:18:28.529Z"
   },
   {
    "duration": 78,
    "start_time": "2025-07-30T01:18:30.129Z"
   },
   {
    "duration": 2549,
    "start_time": "2025-07-30T01:18:30.210Z"
   },
   {
    "duration": 82,
    "start_time": "2025-07-30T01:18:32.761Z"
   },
   {
    "duration": 374,
    "start_time": "2025-07-30T01:18:32.845Z"
   },
   {
    "duration": 396,
    "start_time": "2025-07-30T01:18:33.220Z"
   },
   {
    "duration": 530,
    "start_time": "2025-07-30T01:18:33.618Z"
   },
   {
    "duration": 1212,
    "start_time": "2025-07-30T01:18:34.150Z"
   },
   {
    "duration": 586,
    "start_time": "2025-07-30T01:18:35.364Z"
   },
   {
    "duration": 989,
    "start_time": "2025-07-30T01:18:35.952Z"
   },
   {
    "duration": 329,
    "start_time": "2025-07-30T01:18:36.943Z"
   },
   {
    "duration": 114,
    "start_time": "2025-07-30T01:18:37.275Z"
   },
   {
    "duration": 1533,
    "start_time": "2025-07-30T01:18:37.391Z"
   },
   {
    "duration": 681,
    "start_time": "2025-07-30T01:18:38.926Z"
   },
   {
    "duration": 51,
    "start_time": "2025-07-30T01:18:39.608Z"
   },
   {
    "duration": 20,
    "start_time": "2025-07-30T01:18:39.661Z"
   },
   {
    "duration": 26,
    "start_time": "2025-07-30T01:18:39.683Z"
   },
   {
    "duration": 58,
    "start_time": "2025-07-30T01:18:39.711Z"
   },
   {
    "duration": 1940,
    "start_time": "2025-07-30T01:18:39.771Z"
   },
   {
    "duration": 54,
    "start_time": "2025-07-30T01:18:41.713Z"
   },
   {
    "duration": 1177,
    "start_time": "2025-07-30T01:18:41.769Z"
   },
   {
    "duration": 2132,
    "start_time": "2025-07-30T01:18:42.948Z"
   },
   {
    "duration": 37853,
    "start_time": "2025-07-30T01:26:30.352Z"
   },
   {
    "duration": 2621,
    "start_time": "2025-07-30T01:27:08.207Z"
   },
   {
    "duration": 1475,
    "start_time": "2025-07-30T01:27:10.830Z"
   },
   {
    "duration": 81,
    "start_time": "2025-07-30T01:27:12.307Z"
   },
   {
    "duration": 2138,
    "start_time": "2025-07-30T01:27:12.390Z"
   },
   {
    "duration": 98,
    "start_time": "2025-07-30T01:27:14.530Z"
   },
   {
    "duration": 319,
    "start_time": "2025-07-30T01:27:14.629Z"
   },
   {
    "duration": 421,
    "start_time": "2025-07-30T01:27:14.949Z"
   },
   {
    "duration": 580,
    "start_time": "2025-07-30T01:27:15.372Z"
   },
   {
    "duration": 1326,
    "start_time": "2025-07-30T01:27:15.954Z"
   },
   {
    "duration": 660,
    "start_time": "2025-07-30T01:27:17.283Z"
   },
   {
    "duration": 1016,
    "start_time": "2025-07-30T01:27:17.944Z"
   },
   {
    "duration": 324,
    "start_time": "2025-07-30T01:27:18.962Z"
   },
   {
    "duration": 184,
    "start_time": "2025-07-30T01:27:19.289Z"
   },
   {
    "duration": 1582,
    "start_time": "2025-07-30T01:27:19.475Z"
   },
   {
    "duration": 783,
    "start_time": "2025-07-30T01:27:21.059Z"
   },
   {
    "duration": 60,
    "start_time": "2025-07-30T01:27:21.843Z"
   },
   {
    "duration": 93,
    "start_time": "2025-07-30T01:27:21.905Z"
   },
   {
    "duration": 32,
    "start_time": "2025-07-30T01:27:22.000Z"
   },
   {
    "duration": 67,
    "start_time": "2025-07-30T01:27:22.034Z"
   },
   {
    "duration": 2037,
    "start_time": "2025-07-30T01:27:22.103Z"
   },
   {
    "duration": 55,
    "start_time": "2025-07-30T01:27:24.142Z"
   },
   {
    "duration": 1237,
    "start_time": "2025-07-30T01:27:24.199Z"
   },
   {
    "duration": 2024,
    "start_time": "2025-07-30T01:27:25.437Z"
   },
   {
    "duration": 413536,
    "start_time": "2025-07-30T08:24:44.000Z"
   },
   {
    "duration": 21280,
    "start_time": "2025-07-30T08:31:37.538Z"
   },
   {
    "duration": 5402,
    "start_time": "2025-07-30T08:31:58.820Z"
   },
   {
    "duration": 101,
    "start_time": "2025-07-30T08:32:04.224Z"
   },
   {
    "duration": 2658,
    "start_time": "2025-07-30T08:32:04.328Z"
   },
   {
    "duration": 95,
    "start_time": "2025-07-30T08:32:06.989Z"
   },
   {
    "duration": 614,
    "start_time": "2025-07-30T08:32:07.087Z"
   },
   {
    "duration": 382,
    "start_time": "2025-07-30T08:32:07.703Z"
   },
   {
    "duration": 622,
    "start_time": "2025-07-30T08:32:08.086Z"
   },
   {
    "duration": 1283,
    "start_time": "2025-07-30T08:32:08.711Z"
   },
   {
    "duration": 541,
    "start_time": "2025-07-30T08:32:09.996Z"
   },
   {
    "duration": 1061,
    "start_time": "2025-07-30T08:32:10.539Z"
   },
   {
    "duration": 333,
    "start_time": "2025-07-30T08:32:11.603Z"
   },
   {
    "duration": 114,
    "start_time": "2025-07-30T08:32:11.939Z"
   },
   {
    "duration": 1607,
    "start_time": "2025-07-30T08:32:12.055Z"
   },
   {
    "duration": 711,
    "start_time": "2025-07-30T08:32:13.664Z"
   },
   {
    "duration": 68,
    "start_time": "2025-07-30T08:32:14.377Z"
   },
   {
    "duration": 37,
    "start_time": "2025-07-30T08:32:14.447Z"
   },
   {
    "duration": 128,
    "start_time": "2025-07-30T08:32:14.486Z"
   },
   {
    "duration": 47,
    "start_time": "2025-07-30T08:32:14.616Z"
   },
   {
    "duration": 1931,
    "start_time": "2025-07-30T08:32:14.665Z"
   },
   {
    "duration": 74,
    "start_time": "2025-07-30T08:32:16.598Z"
   },
   {
    "duration": 1316,
    "start_time": "2025-07-30T08:32:16.674Z"
   },
   {
    "duration": 1855,
    "start_time": "2025-07-30T08:32:17.992Z"
   },
   {
    "duration": 4,
    "start_time": "2025-07-30T21:29:01.148Z"
   },
   {
    "duration": 8842,
    "start_time": "2025-07-30T21:29:01.153Z"
   },
   {
    "duration": 1426,
    "start_time": "2025-07-30T21:29:09.997Z"
   },
   {
    "duration": 62,
    "start_time": "2025-07-30T21:29:11.425Z"
   },
   {
    "duration": 2124,
    "start_time": "2025-07-30T21:29:11.489Z"
   },
   {
    "duration": 110,
    "start_time": "2025-07-30T21:29:13.615Z"
   },
   {
    "duration": 271,
    "start_time": "2025-07-30T21:29:13.727Z"
   },
   {
    "duration": 510,
    "start_time": "2025-07-30T21:29:14.000Z"
   },
   {
    "duration": 456,
    "start_time": "2025-07-30T21:29:14.512Z"
   },
   {
    "duration": 1052,
    "start_time": "2025-07-30T21:29:14.970Z"
   },
   {
    "duration": 0,
    "start_time": "2025-07-30T21:29:16.024Z"
   },
   {
    "duration": 0,
    "start_time": "2025-07-30T21:29:16.025Z"
   },
   {
    "duration": 0,
    "start_time": "2025-07-30T21:29:16.026Z"
   },
   {
    "duration": 0,
    "start_time": "2025-07-30T21:29:16.028Z"
   },
   {
    "duration": 0,
    "start_time": "2025-07-30T21:29:16.029Z"
   },
   {
    "duration": 0,
    "start_time": "2025-07-30T21:29:16.030Z"
   },
   {
    "duration": 0,
    "start_time": "2025-07-30T21:29:16.031Z"
   },
   {
    "duration": 0,
    "start_time": "2025-07-30T21:29:16.032Z"
   },
   {
    "duration": 0,
    "start_time": "2025-07-30T21:29:16.033Z"
   },
   {
    "duration": 0,
    "start_time": "2025-07-30T21:29:16.034Z"
   },
   {
    "duration": 0,
    "start_time": "2025-07-30T21:29:16.035Z"
   },
   {
    "duration": 0,
    "start_time": "2025-07-30T21:29:16.036Z"
   },
   {
    "duration": 0,
    "start_time": "2025-07-30T21:29:16.038Z"
   },
   {
    "duration": 0,
    "start_time": "2025-07-30T21:29:16.039Z"
   },
   {
    "duration": 1,
    "start_time": "2025-07-30T21:29:16.070Z"
   },
   {
    "duration": 56546,
    "start_time": "2025-07-30T21:31:50.365Z"
   },
   {
    "duration": 2708,
    "start_time": "2025-07-30T21:32:46.913Z"
   },
   {
    "duration": 1601,
    "start_time": "2025-07-30T21:32:49.623Z"
   },
   {
    "duration": 64,
    "start_time": "2025-07-30T21:32:51.227Z"
   },
   {
    "duration": 2065,
    "start_time": "2025-07-30T21:32:51.293Z"
   },
   {
    "duration": 88,
    "start_time": "2025-07-30T21:32:53.360Z"
   },
   {
    "duration": 313,
    "start_time": "2025-07-30T21:32:53.450Z"
   },
   {
    "duration": 410,
    "start_time": "2025-07-30T21:32:53.765Z"
   },
   {
    "duration": 586,
    "start_time": "2025-07-30T21:32:54.177Z"
   },
   {
    "duration": 1307,
    "start_time": "2025-07-30T21:32:54.771Z"
   },
   {
    "duration": 560,
    "start_time": "2025-07-30T21:32:56.080Z"
   },
   {
    "duration": 1109,
    "start_time": "2025-07-30T21:32:56.641Z"
   },
   {
    "duration": 296,
    "start_time": "2025-07-30T21:32:57.752Z"
   },
   {
    "duration": 135,
    "start_time": "2025-07-30T21:32:58.050Z"
   },
   {
    "duration": 1551,
    "start_time": "2025-07-30T21:32:58.187Z"
   },
   {
    "duration": 719,
    "start_time": "2025-07-30T21:32:59.740Z"
   },
   {
    "duration": 30,
    "start_time": "2025-07-30T21:33:00.461Z"
   },
   {
    "duration": 76,
    "start_time": "2025-07-30T21:33:00.493Z"
   },
   {
    "duration": 53,
    "start_time": "2025-07-30T21:33:00.571Z"
   },
   {
    "duration": 82,
    "start_time": "2025-07-30T21:33:00.626Z"
   },
   {
    "duration": 64,
    "start_time": "2025-07-30T21:33:00.710Z"
   },
   {
    "duration": 2036,
    "start_time": "2025-07-30T21:33:00.776Z"
   },
   {
    "duration": 75,
    "start_time": "2025-07-30T21:33:02.814Z"
   },
   {
    "duration": 1261,
    "start_time": "2025-07-30T21:33:02.891Z"
   },
   {
    "duration": 1926,
    "start_time": "2025-07-30T21:33:04.154Z"
   },
   {
    "duration": 107,
    "start_time": "2025-07-30T21:35:27.340Z"
   }
  ],
  "colab": {
   "provenance": []
  },
  "kernelspec": {
   "display_name": "trading-app-abtest-wTvEmvGm-py3.12",
   "language": "python",
   "name": "python3"
  },
  "language_info": {
   "codemirror_mode": {
    "name": "ipython",
    "version": 3
   },
   "file_extension": ".py",
   "mimetype": "text/x-python",
   "name": "python",
   "nbconvert_exporter": "python",
   "pygments_lexer": "ipython3",
   "version": "3.12.7"
  },
  "toc": {
   "base_numbering": 1,
   "nav_menu": {},
   "number_sections": false,
   "sideBar": true,
   "skip_h1_title": true,
   "title_cell": "Table of Contents",
   "title_sidebar": "Contents",
   "toc_cell": false,
   "toc_position": {},
   "toc_section_display": true,
   "toc_window_display": true
  }
 },
 "nbformat": 4,
 "nbformat_minor": 5
}
